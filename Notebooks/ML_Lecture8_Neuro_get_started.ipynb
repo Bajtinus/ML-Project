{
 "cells": [
  {
   "cell_type": "markdown",
   "id": "connected-wheel",
   "metadata": {},
   "source": [
    "# Lecture 8) Neuro - get started mit Keras"
   ]
  },
  {
   "cell_type": "code",
   "execution_count": 1,
   "id": "civic-connectivity",
   "metadata": {},
   "outputs": [],
   "source": [
    "import pandas as pd\n",
    "import numpy as np\n",
    "import matplotlib as mpl\n",
    "import matplotlib.pyplot as plt\n",
    "import sklearn as sl\n",
    "\n",
    "from sklearn.model_selection import train_test_split\n",
    "from sklearn.metrics import roc_curve, roc_auc_score, classification_report, accuracy_score, confusion_matrix\n",
    "from sklearn.metrics import mean_squared_error\n",
    "from sklearn import metrics\n",
    "from sklearn.preprocessing import MinMaxScaler, StandardScaler\n",
    "from sklearn.preprocessing import PolynomialFeatures\n",
    "from sklearn.linear_model import LogisticRegression\n",
    "from sklearn.discriminant_analysis import LinearDiscriminantAnalysis as LDA\n",
    "from sklearn.discriminant_analysis import QuadraticDiscriminantAnalysis as QDA\n",
    "from sklearn import neighbors\n",
    "from sklearn.model_selection import cross_val_score\n",
    "from sklearn import linear_model\n",
    "\n",
    "from sklearn import tree\n",
    "from sklearn.tree import DecisionTreeClassifier\n",
    "from sklearn.tree import DecisionTreeRegressor\n",
    "\n",
    "from sklearn.ensemble import BaggingRegressor\n",
    "from sklearn.ensemble import BaggingClassifier\n",
    "\n",
    "from sklearn.ensemble import RandomForestClassifier\n",
    "from sklearn.ensemble import RandomForestRegressor\n",
    "\n",
    "from sklearn.ensemble import AdaBoostClassifier\n",
    "from sklearn.ensemble import AdaBoostRegressor\n",
    "\n",
    "from sklearn.ensemble import GradientBoostingClassifier\n",
    "from sklearn.ensemble import GradientBoostingRegressor\n",
    "\n",
    "\n",
    "%matplotlib inline\n",
    "import scipy as sc\n",
    "import math as ma\n",
    "from scipy import linalg, optimize, constants, interpolate, special, stats\n",
    "from math import exp, pow, sqrt, log\n",
    "\n",
    "import seaborn as sns #spezielle Graphikdarstellungen\n",
    "import statsmodels.api as sm\n",
    "import statsmodels.stats.api as sms\n",
    "\n",
    "#import theano \n",
    "import tensorflow as tf\n",
    "from tensorflow import keras\n",
    "\n",
    "from keras.models import Sequential\n",
    "from keras.layers import InputLayer,Dense, Activation\n",
    "from keras.optimizers import SGD #Stochastic Gradient Descent\n",
    "from keras.utils.np_utils import to_categorical  \n",
    "from keras.utils.vis_utils import plot_model\n"
   ]
  },
  {
   "cell_type": "markdown",
   "id": "entitled-campus",
   "metadata": {},
   "source": [
    "Neuronale Netze können sowohl für die Regression als auch für die Klassifikation eingesetzt werden.\n",
    "\n",
    "Dabei ist allerdings bei der Konfiguration auf ein paar Dinge zu achten (später dazu mehr).\n",
    "\n",
    "Um ein konfiguriertes Netz mit Trainingsdaten lernen zu lassen haben wir verschiedene Verfahren kennengelernt.\n",
    "Der Gradientenabstieg (mit oder ohne Batches) ist das klassische Verfahren.\n",
    "\n",
    "Wenn ein Netz trainiert wird ist es sehr hilfreich währenddessen den Fehler beobachten zu können.\n",
    "Dazu ist hier eine eigene Funktion definiert (PlotLosses), die das ganz einfach ermöglicht."
   ]
  },
  {
   "cell_type": "code",
   "execution_count": 2,
   "id": "affiliated-allah",
   "metadata": {},
   "outputs": [],
   "source": [
    "# updatable plot\n",
    "\n",
    "from IPython.display import clear_output\n",
    "class PlotLosses(keras.callbacks.Callback):\n",
    "    def on_train_begin(self, logs={}):\n",
    "        self.i = 0\n",
    "        self.x = []\n",
    "        self.losses = []\n",
    "        self.val_losses = []\n",
    "        \n",
    "        self.fig = plt.figure()\n",
    "        \n",
    "        self.logs = []\n",
    "\n",
    "    def on_epoch_end(self, epoch, logs={}):\n",
    "        \n",
    "        self.logs.append(logs)\n",
    "        self.x.append(self.i)\n",
    "        self.losses.append(logs.get('loss'))\n",
    "        self.val_losses.append(logs.get('val_loss'))\n",
    "        self.i += 1\n",
    "        \n",
    "        clear_output(wait=True)\n",
    "        plt.plot(self.x, self.losses, label=\"loss\")\n",
    "        plt.plot(self.x, self.val_losses, label=\"val_loss\")\n",
    "        plt.legend()\n",
    "        plt.show();\n",
    "        \n",
    "plot_losses = PlotLosses()"
   ]
  },
  {
   "cell_type": "markdown",
   "id": "based-participation",
   "metadata": {},
   "source": [
    "Als Tool um Neuronale Netze zu realisieren wird hier Keras verwendet.\n",
    "SKlearn hat auch eine solche Modellklasse ist allerdings nicht so flexibel wie Keras.\n",
    "\n",
    "Keras kann als Backend auf Tensorflow, Theano oder CNTK aufbauen.\n",
    "Die gesamte Doku zu Keras finden Sie unter:\n",
    "https://keras.io\n",
    "\n",
    "Tensorflow bringt mittlerweile seine eigene Keras-Implementierung mit\n",
    "\n",
    "tf.keras\n",
    "\n",
    "Dabei wird als backend nur tensorflow unterstützt (Nachteil). Der Vorteil dabei\n",
    "sind ein paar Zusatzfeatures. Wir benutzen hier also tf.keras..."
   ]
  },
  {
   "cell_type": "markdown",
   "id": "hybrid-newton",
   "metadata": {},
   "source": [
    "### 8.1) Neuro für Regression mit der keras Sequential API"
   ]
  },
  {
   "cell_type": "markdown",
   "id": "otherwise-string",
   "metadata": {},
   "source": [
    "Je nachdem, ob wir eine Klassifikation oder eine Regression durchführen wollen müssen wir unser Neuro anders konfigurieren.\n",
    "In jedem Fall muß aber darauf geachtet werden, daß der Wertebereich der Input-Features zu den verwendeten Aktivierungsfunktionen im Netz paßt.\n",
    "Es gilt:\n",
    "\n",
    "- tanh, sigmoid -> Werte zwischen -1 und 1\n",
    "- reLU -> Werte zwischen 0 und 1 (negative würden sonst abgeschnitten!)\n",
    "\n",
    "Für die erste Regressionsaufgabe wird der Auto-Datensatz verwendet und die Daten werden mit\n",
    "Hilfe des sklearn StandardScaler auf den Bereich von -1 und 1 transformiert (ca. 64% der Daten liegen dann exakt im Intervall)"
   ]
  },
  {
   "cell_type": "code",
   "execution_count": 3,
   "id": "accepting-twins",
   "metadata": {},
   "outputs": [],
   "source": [
    "Auto = pd.read_csv(\"../Daten/Auto.csv\")\n",
    "Auto.head()\n",
    "\n",
    "X=np.array(Auto[['cylinders','displacement','horsepower','weight','acceleration','year']])\n",
    "y=np.array(Auto['mpg'])\n",
    "\n",
    "X_train, X_test, y_train, y_test = train_test_split(X, y, test_size=0.3, shuffle='True')\n",
    "\n",
    "scaler = StandardScaler()\n",
    "X_train = scaler.fit_transform(X_train)\n",
    "X_test = scaler.transform(X_test)"
   ]
  },
  {
   "cell_type": "code",
   "execution_count": 4,
   "id": "chemical-buffer",
   "metadata": {},
   "outputs": [
    {
     "name": "stdout",
     "output_type": "stream",
     "text": [
      "(277, 6)\n"
     ]
    }
   ],
   "source": [
    "print(X_train.shape)"
   ]
  },
  {
   "cell_type": "markdown",
   "id": "adapted-furniture",
   "metadata": {},
   "source": [
    "Ein Keras Sequential Model ist die einfachste Form eines Keras Modelles.  \n",
    "Es besteht aus einem stack von beliebig vielen Schichten, die sequentiell verbunden sind.\n",
    "Die Schichten werden mit 'add' aneinandergehängt.\n",
    "\n",
    "Eine Liste von verfügbaren Schichten und deren Beschreibung finden Sie unter:  \n",
    "\n",
    "https://keras.io/api/layers/\n",
    "\n",
    "Für das erste super-einfache Netz brauchen wir erstmal\n",
    "\n",
    "- Input Layer\n",
    "\n",
    "tf.keras.layers.InputLayer(\n",
    "    input_shape=None,\n",
    "    batch_size=None,\n",
    "    dtype=None,\n",
    "    input_tensor=None,\n",
    "    sparse=None,\n",
    "    name=None,\n",
    "    ragged=None,\n",
    "    type_spec=None,\n",
    "    **kwargs\n",
    ")\n",
    "- Hidden layer=Dense\n",
    "\n",
    "tf.keras.layers.Dense(\n",
    "    units,\n",
    "    activation=None,\n",
    "    use_bias=True,\n",
    "    kernel_initializer=\"glorot_uniform\",\n",
    "    bias_initializer=\"zeros\",\n",
    "    kernel_regularizer=None,\n",
    "    bias_regularizer=None,\n",
    "    activity_regularizer=None,\n",
    "    kernel_constraint=None,\n",
    "    bias_constraint=None,\n",
    "    **kwargs\n",
    ")\n",
    "\n",
    "- Output Layer = Dense\n",
    "\n",
    "Anzahl der Neuronen = Dimension der Zielgröße\n",
    "\n",
    "Weil wir ein Regressionsproblem bearbeiten braucht die letzte Schicht (Output) keine Aktivierungsfunktion.\n",
    "Gibt man bei der letzten Schicht nichts an, dann gilt der Default: Aktivierung = Id (Id(x)=x).  \n",
    "activation = 'linear' ist dazu äquivalent.\n"
   ]
  },
  {
   "cell_type": "code",
   "execution_count": 5,
   "id": "approximate-locator",
   "metadata": {},
   "outputs": [],
   "source": [
    "NNRegModel=Sequential()\n",
    "\n",
    "NNRegModel.add(InputLayer(input_shape=(6,)))\n",
    "NNRegModel.add(Dense(10,activation='tanh',use_bias=True))\n",
    "NNRegModel.add(Dense(1,use_bias=True))\n"
   ]
  },
  {
   "cell_type": "markdown",
   "id": "technological-reserve",
   "metadata": {},
   "source": [
    "Das summary des Modelles ist nützlich für den Überblick.\n",
    "Die Anzahl der Parameter im Modell hängt von der Anzahl der Neuronen in der Dense-Layer und \n",
    "Dim(Input), Dim(Target) ab.\n",
    "\n",
    "Falls use_bias=True dann ist es jeweils eines mehr..."
   ]
  },
  {
   "cell_type": "code",
   "execution_count": 6,
   "id": "young-jenny",
   "metadata": {},
   "outputs": [
    {
     "name": "stdout",
     "output_type": "stream",
     "text": [
      "Model: \"sequential\"\n",
      "_________________________________________________________________\n",
      "Layer (type)                 Output Shape              Param #   \n",
      "=================================================================\n",
      "dense (Dense)                (None, 10)                70        \n",
      "_________________________________________________________________\n",
      "dense_1 (Dense)              (None, 1)                 11        \n",
      "=================================================================\n",
      "Total params: 81\n",
      "Trainable params: 81\n",
      "Non-trainable params: 0\n",
      "_________________________________________________________________\n"
     ]
    }
   ],
   "source": [
    "NNRegModel.summary()"
   ]
  },
  {
   "cell_type": "markdown",
   "id": "devoted-hamilton",
   "metadata": {},
   "source": [
    "Die Schichten im Netz haben Namen und können damit auch angesprochen werden"
   ]
  },
  {
   "cell_type": "code",
   "execution_count": 7,
   "id": "endangered-debate",
   "metadata": {},
   "outputs": [
    {
     "data": {
      "text/plain": [
       "'dense'"
      ]
     },
     "execution_count": 7,
     "metadata": {},
     "output_type": "execute_result"
    }
   ],
   "source": [
    "hidden1=NNRegModel.layers[0]\n",
    "hidden1.name"
   ]
  },
  {
   "cell_type": "markdown",
   "id": "featured-hospital",
   "metadata": {},
   "source": [
    "Alle Parameter einer Schicht können über\n",
    "get_weights() und set_weights() angesprochen werden.  \n",
    "Beispiel:"
   ]
  },
  {
   "cell_type": "code",
   "execution_count": 8,
   "id": "absolute-shannon",
   "metadata": {},
   "outputs": [
    {
     "name": "stdout",
     "output_type": "stream",
     "text": [
      "weights [[ 0.19777119  0.46213537  0.46191424 -0.03572482  0.3169592   0.46739453\n",
      "   0.27001417  0.50041395  0.01713377 -0.56679857]\n",
      " [-0.37774846  0.47016865  0.50414497 -0.2178098   0.25602806  0.22395045\n",
      "   0.379327   -0.31842986 -0.58198893 -0.18738028]\n",
      " [-0.502653   -0.2558581   0.60771745 -0.15531349 -0.46491468 -0.56490976\n",
      "  -0.48791555 -0.01815945 -0.3077375   0.52313536]\n",
      " [ 0.00337702  0.3576818  -0.5889203   0.08634937  0.120175    0.01696432\n",
      "  -0.00076312 -0.61199635 -0.51147264  0.1600092 ]\n",
      " [ 0.36465657  0.11195135 -0.32355246  0.26153988  0.23745936 -0.27887046\n",
      "   0.3389436   0.24853832  0.22364837 -0.11808223]\n",
      " [-0.5964743  -0.3100126   0.2529214  -0.34630293 -0.05203927 -0.2567538\n",
      "   0.11133379 -0.46294135 -0.0698939  -0.19033942]]\n",
      "biases [0. 0. 0. 0. 0. 0. 0. 0. 0. 0.]\n"
     ]
    }
   ],
   "source": [
    "weights, biases = hidden1.get_weights()\n",
    "print('weights',weights)\n",
    "print('biases',biases)"
   ]
  },
  {
   "cell_type": "markdown",
   "id": "cloudy-musical",
   "metadata": {},
   "source": [
    "### Frage: Was sehen wir jetzt gerade im Moment?"
   ]
  },
  {
   "cell_type": "markdown",
   "id": "vocational-arena",
   "metadata": {},
   "source": [
    "Jetzt muß das Modell noch kompiliert werden. Dazu verwendet man die Methode compile().  \n",
    "Dabei wird festgelegt, welche Fehlerfunktion (Loss) verwendet werden soll und welches Lernverfahren angewandt wird.\n",
    "\n",
    "Danach folgt das eigentliche Training.\n",
    "Bei model.fit()\n",
    "werden alle Dinge festgelegt, die das Training betreffen:\n",
    "\n",
    "- sollen die Daten durchgemischt werden\n",
    "- Anzahl Lernepochen\n",
    "- Batch Size (=1 => Pattern by Pattern, =n => Steepest Descent)\n",
    "- Ausgabe des Loss während des Trainings\n",
    "- soll der Trainingsprozeß überwacht werden (callbacks)\n",
    "- einen solchen Callback haben wir mit unserer PlotLosses Funktion!\n",
    "\n",
    "### Achtung: ruft man das Training mehrmals auf ohne das Modell wieder neu zu initialisieren wird einfach munter auf den schon trainierten Gewichten weitergelernt! :-) "
   ]
  },
  {
   "cell_type": "code",
   "execution_count": 9,
   "id": "distinct-musical",
   "metadata": {},
   "outputs": [
    {
     "data": {
      "image/png": "[encoded data removed]",
      "text/plain": [
       "<Figure size 432x288 with 1 Axes>"
      ]
     },
     "metadata": {
      "needs_background": "light"
     },
     "output_type": "display_data"
    },
    {
     "data": {
      "text/plain": [
       "<tensorflow.python.keras.callbacks.History at 0x7fcd111ea700>"
      ]
     },
     "execution_count": 9,
     "metadata": {},
     "output_type": "execute_result"
    }
   ],
   "source": [
    "NNRegModel=Sequential()\n",
    "\n",
    "NNRegModel.add(InputLayer(input_shape=(6,)))\n",
    "NNRegModel.add(Dense(10,activation='tanh',use_bias=True))\n",
    "NNRegModel.add(Dense(1,use_bias=True))\n",
    "\n",
    "sgd = SGD(lr=0.3)\n",
    "NNRegModel.compile(loss='mean_squared_error', optimizer='sgd')\n",
    "\n",
    "NNRegModel.fit(X_train, y_train,\n",
    "          shuffle=True,\n",
    "          epochs=30, #300,\n",
    "          batch_size=1,\n",
    "          verbose=0,\n",
    "          validation_data=(X_test, y_test),                  \n",
    "          callbacks=[plot_losses])"
   ]
  },
  {
   "cell_type": "code",
   "execution_count": 10,
   "id": "motivated-grenada",
   "metadata": {},
   "outputs": [],
   "source": [
    "y_hat_tr_NN=NNRegModel.predict(X_train)\n",
    "y_hat_test_NN=NNRegModel.predict(X_test)"
   ]
  },
  {
   "cell_type": "code",
   "execution_count": 11,
   "id": "reflected-facing",
   "metadata": {},
   "outputs": [
    {
     "name": "stdout",
     "output_type": "stream",
     "text": [
      "Trainingsfehler: 2.9292032812431965\n",
      "Testfehler: 2.5968709648773216\n"
     ]
    }
   ],
   "source": [
    "rmse_NN_tr = sqrt(mean_squared_error(y_hat_tr_NN,y_train)) \n",
    "rmse_NN_test = sqrt(mean_squared_error(y_hat_test_NN,y_test)) \n",
    "\n",
    "print('Trainingsfehler:',rmse_NN_tr)\n",
    "print('Testfehler:',rmse_NN_test)"
   ]
  },
  {
   "cell_type": "markdown",
   "id": "intelligent-sussex",
   "metadata": {},
   "source": [
    "Auch bei Neuronalen Netzen kann es zum Overfitting kommen!\n",
    "Mit Hilfe des Early Stopping kann man zu dem Zeitpunkt das Training stoppen, zu dem der Testfehler sein Minimum erreicht.\n",
    "\n",
    "Keras hat dafür einen \"callback\"\n",
    "\n",
    "EarlyStopping = tf.keras.callbacks.EarlyStopping(monitor='loss', patience=3)\n",
    "\n",
    "Die patience sagt dabei aus wieviele Epochen nach einem guten Wert der Testfehler steigen muß, damit das Training beendet wird.\n",
    "\n",
    "Ist die Option\n",
    "\n",
    "restore_best_weights=True\n",
    "\n",
    "dann wird das beste Modell (innerhalb der geprüften Patience) am Ende aufgerufen (=False => letzter Wert)\n",
    "\n",
    "Der callback wird im .fit mit aufgerufen"
   ]
  },
  {
   "cell_type": "code",
   "execution_count": 12,
   "id": "fifteen-fluid",
   "metadata": {},
   "outputs": [
    {
     "data": {
      "image/png": "[encoded data removed]",
      "text/plain": [
       "<Figure size 432x288 with 1 Axes>"
      ]
     },
     "metadata": {
      "needs_background": "light"
     },
     "output_type": "display_data"
    }
   ],
   "source": [
    "EarlyStopping = tf.keras.callbacks.EarlyStopping(monitor='loss', patience=10,restore_best_weights=True)\n",
    "\n",
    "NNRegModel1=Sequential()\n",
    "\n",
    "NNRegModel1.add(InputLayer(input_shape=(6,)))\n",
    "NNRegModel1.add(Dense(10,activation='tanh',use_bias=True))\n",
    "NNRegModel1.add(Dense(1,use_bias=True))\n",
    "\n",
    "sgd = SGD(lr=0.3)\n",
    "NNRegModel1.compile(loss='mean_squared_error', optimizer='sgd')\n",
    "\n",
    "NNRegMod1History=NNRegModel1.fit(X_train, y_train,\n",
    "          shuffle=True,\n",
    "          epochs=70,\n",
    "          batch_size=1,\n",
    "          verbose=0,\n",
    "          validation_data=(X_test, y_test),                  \n",
    "          callbacks=[plot_losses, EarlyStopping])"
   ]
  },
  {
   "cell_type": "code",
   "execution_count": 13,
   "id": "speaking-rendering",
   "metadata": {},
   "outputs": [
    {
     "data": {
      "text/plain": [
       "37"
      ]
     },
     "execution_count": 13,
     "metadata": {},
     "output_type": "execute_result"
    }
   ],
   "source": [
    "len(NNRegMod1History.history['loss'])  # Das Modell trainiert 38 Epochen"
   ]
  },
  {
   "cell_type": "code",
   "execution_count": 14,
   "id": "sunset-excellence",
   "metadata": {},
   "outputs": [
    {
     "name": "stdout",
     "output_type": "stream",
     "text": [
      "Trainingsfehler: 3.938000041086017\n",
      "Testfehler: 4.3454852516927955\n"
     ]
    }
   ],
   "source": [
    "y_hat_tr_NN1=NNRegModel1.predict(X_train)\n",
    "y_hat_test_NN1=NNRegModel1.predict(X_test)\n",
    "\n",
    "rmse_NN_tr1 = sqrt(mean_squared_error(y_hat_tr_NN1,y_train)) \n",
    "rmse_NN_test1 = sqrt(mean_squared_error(y_hat_test_NN1,y_test)) \n",
    "\n",
    "print('Trainingsfehler:',rmse_NN_tr1)\n",
    "print('Testfehler:',rmse_NN_test1)"
   ]
  },
  {
   "cell_type": "markdown",
   "id": "sexual-novel",
   "metadata": {},
   "source": [
    "### Aufgabe 1)\n",
    "\n",
    "Die patience hat natürlich einen entscheidenden Einfluß auf das early Stopping!\n",
    "\n",
    "- Testen Sie den Einfluß der Patience in einer Schleife.\n",
    "- Für welche Patience wird das beste Endergebnis erzielt?\n",
    "- Verringern Sie die Lernrate auf 0.1. Wie sieht es jetzt aus?\n"
   ]
  },
  {
   "cell_type": "markdown",
   "id": "earned-minneapolis",
   "metadata": {},
   "source": [
    "### 8.2) Neuro für Klassifikation\n",
    "\n",
    "Um mit einem 3-Layer FFNN eine Klassifikationsaufgabe zu lösen muß die Struktur des Netzes angepaßt werden.\n",
    "\n",
    "Beim Input ist alles beim Alten. Auch die Aktivierungsfunktion der Hidden-Schicht ist mehr oder weniger frei wählbar.  \n",
    "Beim Output gibt es Änderungen:\n",
    "\n",
    "- die Dimension der Output-Layer hängt jetzt von der Anzahl der Klassen ab (1-Hot-Kodierung!): #Klassen = #Neuronen\n",
    "- die Aktivierungsfunktion auf der Output-Schicht muß dafür sorgen, daß tatsächlich Wahrscheinlichkeiten für die Zugehörigkeit eines Samples herauskommen.  \n",
    "Das erledigt die activation='softmax'\n",
    "\n",
    "Auch die Fehlerfunktion für das Training muß angepaßt werden:  \n",
    "\n",
    "- binäre Klassifikation => loss='binary_crossentropy'  \n",
    "- mehrere klassen => loss='categorical_crossentropy'"
   ]
  },
  {
   "cell_type": "code",
   "execution_count": 15,
   "id": "assumed-fruit",
   "metadata": {},
   "outputs": [],
   "source": [
    "Heart = pd.read_csv(\"../Daten/heart.csv\")\n",
    "#len(Heart)\n",
    "#Heart.head()\n",
    "\n",
    "Heart_y=Heart['AHD']\n",
    "Heart_X=np.array(Heart[['Age','Sex','RestBP','Chol','Fbs','RestECG','MaxHR','ExAng','Oldpeak','Slope']])\n",
    "\n",
    "\n",
    "Heart_y=np.array(Heart_y.replace(['No', 'Yes'], [0,1]))\n",
    "#Heart_y\n",
    "\n",
    "\n",
    "\n",
    "X_train_H, X_test_H, y_train_H, y_test_H = train_test_split(Heart_X, Heart_y, test_size=0.3, shuffle='True')\n",
    "\n",
    "scaler = StandardScaler()\n",
    "X_train_H = scaler.fit_transform(X_train_H)\n",
    "X_test_H = scaler.transform(X_test_H)"
   ]
  },
  {
   "cell_type": "code",
   "execution_count": 16,
   "id": "reasonable-accommodation",
   "metadata": {},
   "outputs": [
    {
     "name": "stdout",
     "output_type": "stream",
     "text": [
      "mean: -2.1781518387884023e-16\n",
      "std: 1.0\n"
     ]
    }
   ],
   "source": [
    "print('mean:',np.mean(X_train_H[:,0]))\n",
    "print('std:',np.std(X_train_H[:,0]))"
   ]
  },
  {
   "cell_type": "code",
   "execution_count": 17,
   "id": "specific-valentine",
   "metadata": {},
   "outputs": [
    {
     "data": {
      "text/plain": [
       "array([0, 0, 1, 0, 0, 1, 0, 0, 0, 0, 1, 1, 1, 0, 1, 1, 1, 0, 1, 0, 0, 0,\n",
       "       1, 0, 1, 0, 1, 1, 0, 0, 0, 0, 1, 1, 0, 0, 0, 0, 0, 0, 1, 1, 1, 0,\n",
       "       1, 0, 1, 1, 0, 1, 1, 1, 1, 1, 1, 1, 0, 0, 0, 0, 0, 0, 0, 0, 1, 1,\n",
       "       1, 0, 0, 0, 0, 1, 0, 1, 0, 0, 1, 1, 0, 1, 1, 0, 1, 1, 1, 0, 0, 0,\n",
       "       0, 0, 0, 1, 0, 0, 0, 1, 0, 1, 1, 0, 1, 0, 0, 1, 0, 0, 1, 1, 0, 1,\n",
       "       1, 1, 0, 1, 1, 1, 1, 0, 1, 0, 1, 0, 1, 1, 1, 1, 0, 0, 0, 0, 0, 0,\n",
       "       1, 0, 0, 0, 1, 1, 0, 1, 0, 0, 1, 1, 0, 0, 1, 1, 0, 1, 0, 1, 1, 0,\n",
       "       0, 1, 1, 1, 0, 1, 0, 0, 1, 1, 0, 1, 0, 0, 0, 0, 0, 1, 0, 0, 1, 1,\n",
       "       0, 1, 1, 0, 1, 1, 1, 1, 1, 1, 1, 0, 0, 1, 0, 1, 1, 1, 1, 1, 1, 1,\n",
       "       0, 1, 1, 0, 0, 0, 0, 0, 1, 1, 1, 0])"
      ]
     },
     "execution_count": 17,
     "metadata": {},
     "output_type": "execute_result"
    }
   ],
   "source": [
    "y_train_H"
   ]
  },
  {
   "cell_type": "markdown",
   "id": "pediatric-element",
   "metadata": {},
   "source": [
    "Aus der Zielgröße müssen wir noch eine 1-Hot enkodierte Größe machen.  \n",
    "Bei zwei Klassen ginge es auch anders, aber konsistenter ist es auf diese Art.\n",
    "Dazu kann man Keras benutzen:\n"
   ]
  },
  {
   "cell_type": "code",
   "execution_count": 18,
   "id": "driven-front",
   "metadata": {},
   "outputs": [],
   "source": [
    "from keras.utils.np_utils import to_categorical  \n",
    "\n",
    "\n",
    "y_train_H_bin = to_categorical(y_train_H,num_classes = 2)\n",
    "y_test_H_bin = to_categorical(y_test_H,num_classes = 2)\n",
    "#print(y_train_bin);"
   ]
  },
  {
   "cell_type": "code",
   "execution_count": 19,
   "id": "given-opportunity",
   "metadata": {},
   "outputs": [
    {
     "name": "stdout",
     "output_type": "stream",
     "text": [
      "(210, 10)\n",
      "(210, 2)\n"
     ]
    }
   ],
   "source": [
    "print(X_train_H.shape)\n",
    "print(y_train_H_bin.shape)"
   ]
  },
  {
   "cell_type": "code",
   "execution_count": 20,
   "id": "located-guide",
   "metadata": {},
   "outputs": [
    {
     "data": {
      "image/png": "[encoded data removed]",
      "text/plain": [
       "<Figure size 432x288 with 1 Axes>"
      ]
     },
     "metadata": {
      "needs_background": "light"
     },
     "output_type": "display_data"
    }
   ],
   "source": [
    "#EarlyStopping = tf.keras.callbacks.EarlyStopping(monitor='loss', patience=10,restore_best_weights=True)\n",
    "\n",
    "NNClassModel=Sequential()\n",
    "\n",
    "NNClassModel.add(InputLayer(input_shape=(10,)))\n",
    "NNClassModel.add(Dense(10,activation='tanh',use_bias=True))\n",
    "NNClassModel.add(Dense(2,activation='softmax',use_bias=True))\n",
    "\n",
    "sgd = SGD(lr=0.005)\n",
    "NNClassModel.compile(loss='binary_crossentropy',\n",
    "              optimizer=sgd,\n",
    "              metrics=['accuracy'])\n",
    "\n",
    "NNClassModHistory=NNClassModel.fit(X_train_H, y_train_H_bin,\n",
    "          shuffle=True,\n",
    "          epochs=70,\n",
    "          batch_size=1,\n",
    "          verbose=0,\n",
    "          validation_data=(X_test_H, y_test_H_bin),                  \n",
    "          callbacks=[plot_losses])"
   ]
  },
  {
   "cell_type": "markdown",
   "id": "shared-acrylic",
   "metadata": {},
   "source": [
    "Die PlotLosses Funktion liefert uns eine graphische Dartsellung der Loss-Funktion.\n",
    "Das ist in diesem Fall die 'binary_crossentropy'.\n",
    "Natürlich gilt auch hier: kleiner Loss => besserer Fit\n",
    "    \n",
    "Aber richtig interpretieren (in Bezug auf die accuracy) ist nicht ganz so einfach.\n",
    "Man kann die accuracy während des Trainings nachher auch zeichnen lassen mit Hilfe der History."
   ]
  },
  {
   "cell_type": "code",
   "execution_count": 21,
   "id": "scenic-casino",
   "metadata": {},
   "outputs": [],
   "source": [
    "#NNClassModHistory.history['accuracy']"
   ]
  },
  {
   "cell_type": "code",
   "execution_count": 22,
   "id": "parallel-indiana",
   "metadata": {},
   "outputs": [
    {
     "data": {
      "image/png": "[encoded data removed]",
      "text/plain": [
       "<Figure size 432x288 with 1 Axes>"
      ]
     },
     "metadata": {
      "needs_background": "light"
     },
     "output_type": "display_data"
    },
    {
     "data": {
      "image/png": "[encoded data removed]",
      "text/plain": [
       "<Figure size 432x288 with 1 Axes>"
      ]
     },
     "metadata": {
      "needs_background": "light"
     },
     "output_type": "display_data"
    }
   ],
   "source": [
    "# Plotte Training & Validation accuracy (Hit Rate)\n",
    "plt.plot(NNClassModHistory.history['accuracy'])\n",
    "plt.plot(NNClassModHistory.history['val_accuracy'])\n",
    "plt.title('Model accuracy')\n",
    "plt.ylabel('Accuracy')\n",
    "plt.xlabel('Epoch')\n",
    "plt.legend(['Train', 'Test'], loc='upper left')\n",
    "plt.show()\n",
    "\n",
    "# Plotte Training & Validation loss (hängt von der Loss-Funktion beim Training ab)\n",
    "plt.plot(NNClassModHistory.history['loss'])\n",
    "plt.plot(NNClassModHistory.history['val_loss'])\n",
    "plt.title('Model loss')\n",
    "plt.ylabel('Loss')\n",
    "plt.xlabel('Epoch')\n",
    "plt.legend(['Train', 'Test'], loc='upper left')\n",
    "plt.show()"
   ]
  },
  {
   "cell_type": "markdown",
   "id": "seasonal-aerospace",
   "metadata": {},
   "source": [
    "Das Modell neigt offenbar stark zum Overfitting!\n",
    "Dagegen sollte man etwas tun..."
   ]
  },
  {
   "cell_type": "markdown",
   "id": "british-small",
   "metadata": {},
   "source": [
    "### Aufgabe 2)\n",
    "\n",
    "- Untersuchen Sie zuerst für die gegebene Batch Size von 1, welchen Einfluß die Lernrate hat.\n",
    "- Fixieren Sie jetzt die Lernrate bei 0.01 und variieren Sie die Batch Size. Welchen Effekt kann man beobachten?\n",
    "- Wählen Sie eine \"gute\" Kombi von Lernrate und Batch Size und implementieren Sie ein Early Stopping.\n",
    "- Werten Sie das Modell aus und vergleichen Sie es mit den früheren Klassifikatoren.\n",
    "- Läßt sich eine Verbesserung erzielen, wenn man mehr (weniger) Neuronen in der Hidden-Schicht benutzt?\n",
    "- Bringt eine weitere Dense Layer noch eine Verbesserung?"
   ]
  },
  {
   "cell_type": "code",
   "execution_count": null,
   "id": "indirect-imperial",
   "metadata": {},
   "outputs": [],
   "source": []
  }
 ],
 "metadata": {
  "kernelspec": {
   "display_name": "Python 3",
   "language": "python",
   "name": "python3"
  },
  "language_info": {
   "codemirror_mode": {
    "name": "ipython",
    "version": 3
   },
   "file_extension": ".py",
   "mimetype": "text/x-python",
   "name": "python",
   "nbconvert_exporter": "python",
   "pygments_lexer": "ipython3",
   "version": "3.8.7"
  }
 },
 "nbformat": 4,
 "nbformat_minor": 5
}
