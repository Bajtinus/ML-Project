{
 "cells": [
  {
   "cell_type": "markdown",
   "id": "rural-terry",
   "metadata": {},
   "source": [
    "# Lecture 6) Regression Trees & Classification Trees"
   ]
  },
  {
   "cell_type": "code",
   "execution_count": 1,
   "id": "random-broadcasting",
   "metadata": {},
   "outputs": [],
   "source": [
    "import pandas as pd\n",
    "import numpy as np\n",
    "import matplotlib as mpl\n",
    "import matplotlib.pyplot as plt\n",
    "import sklearn as sl\n",
    "\n",
    "from sklearn.model_selection import train_test_split\n",
    "from sklearn.metrics import roc_curve, roc_auc_score, classification_report, accuracy_score, confusion_matrix\n",
    "from sklearn.metrics import mean_squared_error \n",
    "from sklearn.preprocessing import MinMaxScaler\n",
    "from sklearn.preprocessing import PolynomialFeatures\n",
    "from sklearn.linear_model import LogisticRegression\n",
    "from sklearn.discriminant_analysis import LinearDiscriminantAnalysis as LDA\n",
    "from sklearn.discriminant_analysis import QuadraticDiscriminantAnalysis as QDA\n",
    "from sklearn import neighbors\n",
    "from sklearn.model_selection import cross_val_score\n",
    "from sklearn import linear_model\n",
    "\n",
    "from sklearn import tree\n",
    "from sklearn.tree import DecisionTreeClassifier\n",
    "from sklearn.tree import DecisionTreeRegressor\n",
    "\n",
    "\n",
    "%matplotlib inline\n",
    "import scipy as sc\n",
    "import math as ma\n",
    "from scipy import linalg, optimize, constants, interpolate, special, stats\n",
    "from math import exp, pow, sqrt, log\n",
    "\n",
    "import seaborn as sns #spezielle Graphikdarstellungen\n",
    "import statsmodels.api as sm\n",
    "import statsmodels.stats.api as sms\n"
   ]
  },
  {
   "cell_type": "markdown",
   "id": "bright-truck",
   "metadata": {},
   "source": [
    "Wir haben in der Vorlesung gesehen, daß sich Trees sowohl für Regressions- als auch für Klassifikationsaufgaben eignen.  \n",
    "Wichtig ist nur die geeignete Metrik, und daß man sich um das Problem des Overfitting kümmert.\n",
    "Denn das ist bei den Tree-basierten Verfahren meistens das Hauptproblem.\n",
    "\n",
    "Wir starten mit der Regressionsaufgabe, die wir schon in Lecture 5) benutzt haben: der Auto-Datensatz."
   ]
  },
  {
   "cell_type": "markdown",
   "id": "southern-invite",
   "metadata": {},
   "source": [
    "## 6.1) Regression-Trees\n",
    "\n",
    "Als erstes laden wir den schon bekannten Datensatz.\n",
    "Zielgröße ist der Benzinverbrauch (mpg) und außer dem Namen des Fahrzeugs und dem Ursprung (name & origin) benutzen wir alle verfügbaren Größen."
   ]
  },
  {
   "cell_type": "code",
   "execution_count": 2,
   "id": "steady-genealogy",
   "metadata": {},
   "outputs": [
    {
     "data": {
      "text/html": [
       "<div>\n",
       "<style scoped>\n",
       "    .dataframe tbody tr th:only-of-type {\n",
       "        vertical-align: middle;\n",
       "    }\n",
       "\n",
       "    .dataframe tbody tr th {\n",
       "        vertical-align: top;\n",
       "    }\n",
       "\n",
       "    .dataframe thead th {\n",
       "        text-align: right;\n",
       "    }\n",
       "</style>\n",
       "<table border=\"1\" class=\"dataframe\">\n",
       "  <thead>\n",
       "    <tr style=\"text-align: right;\">\n",
       "      <th></th>\n",
       "      <th>mpg</th>\n",
       "      <th>cylinders</th>\n",
       "      <th>displacement</th>\n",
       "      <th>horsepower</th>\n",
       "      <th>weight</th>\n",
       "      <th>acceleration</th>\n",
       "      <th>year</th>\n",
       "      <th>origin</th>\n",
       "      <th>name</th>\n",
       "    </tr>\n",
       "  </thead>\n",
       "  <tbody>\n",
       "    <tr>\n",
       "      <th>0</th>\n",
       "      <td>18.0</td>\n",
       "      <td>8</td>\n",
       "      <td>307.0</td>\n",
       "      <td>130</td>\n",
       "      <td>3504</td>\n",
       "      <td>12.0</td>\n",
       "      <td>70</td>\n",
       "      <td>1</td>\n",
       "      <td>chevrolet chevelle malibu</td>\n",
       "    </tr>\n",
       "    <tr>\n",
       "      <th>1</th>\n",
       "      <td>15.0</td>\n",
       "      <td>8</td>\n",
       "      <td>350.0</td>\n",
       "      <td>165</td>\n",
       "      <td>3693</td>\n",
       "      <td>11.5</td>\n",
       "      <td>70</td>\n",
       "      <td>1</td>\n",
       "      <td>buick skylark 320</td>\n",
       "    </tr>\n",
       "    <tr>\n",
       "      <th>2</th>\n",
       "      <td>18.0</td>\n",
       "      <td>8</td>\n",
       "      <td>318.0</td>\n",
       "      <td>150</td>\n",
       "      <td>3436</td>\n",
       "      <td>11.0</td>\n",
       "      <td>70</td>\n",
       "      <td>1</td>\n",
       "      <td>plymouth satellite</td>\n",
       "    </tr>\n",
       "    <tr>\n",
       "      <th>3</th>\n",
       "      <td>16.0</td>\n",
       "      <td>8</td>\n",
       "      <td>304.0</td>\n",
       "      <td>150</td>\n",
       "      <td>3433</td>\n",
       "      <td>12.0</td>\n",
       "      <td>70</td>\n",
       "      <td>1</td>\n",
       "      <td>amc rebel sst</td>\n",
       "    </tr>\n",
       "    <tr>\n",
       "      <th>4</th>\n",
       "      <td>17.0</td>\n",
       "      <td>8</td>\n",
       "      <td>302.0</td>\n",
       "      <td>140</td>\n",
       "      <td>3449</td>\n",
       "      <td>10.5</td>\n",
       "      <td>70</td>\n",
       "      <td>1</td>\n",
       "      <td>ford torino</td>\n",
       "    </tr>\n",
       "  </tbody>\n",
       "</table>\n",
       "</div>"
      ],
      "text/plain": [
       "    mpg  cylinders  displacement  horsepower  weight  acceleration  year  \\\n",
       "0  18.0          8         307.0         130    3504          12.0    70   \n",
       "1  15.0          8         350.0         165    3693          11.5    70   \n",
       "2  18.0          8         318.0         150    3436          11.0    70   \n",
       "3  16.0          8         304.0         150    3433          12.0    70   \n",
       "4  17.0          8         302.0         140    3449          10.5    70   \n",
       "\n",
       "   origin                       name  \n",
       "0       1  chevrolet chevelle malibu  \n",
       "1       1          buick skylark 320  \n",
       "2       1         plymouth satellite  \n",
       "3       1              amc rebel sst  \n",
       "4       1                ford torino  "
      ]
     },
     "execution_count": 2,
     "metadata": {},
     "output_type": "execute_result"
    }
   ],
   "source": [
    "Auto = pd.read_csv(\"../Daten/Auto.csv\")\n",
    "Auto.head()"
   ]
  },
  {
   "cell_type": "code",
   "execution_count": 3,
   "id": "blocked-outside",
   "metadata": {},
   "outputs": [],
   "source": [
    "X=np.array(Auto[['cylinders','displacement','horsepower','weight','acceleration','year']])\n",
    "y=np.array(Auto['mpg'])\n"
   ]
  },
  {
   "cell_type": "code",
   "execution_count": 4,
   "id": "alleged-semiconductor",
   "metadata": {},
   "outputs": [
    {
     "name": "stdout",
     "output_type": "stream",
     "text": [
      "(397, 6) (397,)\n"
     ]
    }
   ],
   "source": [
    "print(np.shape(X),np.shape(y))"
   ]
  },
  {
   "cell_type": "markdown",
   "id": "automotive-mechanism",
   "metadata": {},
   "source": [
    "Jetzt teilen wir die Daten erstmal (klassisch :-)) in eine Trainings- und eine Testmenge und skalieren sie mit einem MinMax Scaler, damit die Wertebereiche der erklärenden Größen nicht zu unterschiedlich ausfallen."
   ]
  },
  {
   "cell_type": "code",
   "execution_count": 5,
   "id": "clear-capacity",
   "metadata": {},
   "outputs": [],
   "source": [
    " X_train, X_test, y_train, y_test = train_test_split(X, y, test_size=0.3, shuffle='True')"
   ]
  },
  {
   "cell_type": "code",
   "execution_count": 6,
   "id": "valid-treatment",
   "metadata": {},
   "outputs": [],
   "source": [
    "scaler = MinMaxScaler()\n",
    "X_train = scaler.fit_transform(X_train)\n",
    "X_test = scaler.transform(X_test)"
   ]
  },
  {
   "cell_type": "code",
   "execution_count": 7,
   "id": "expanded-aurora",
   "metadata": {},
   "outputs": [
    {
     "name": "stdout",
     "output_type": "stream",
     "text": [
      "(277, 6) (120, 6)\n",
      "1.0 0.0\n",
      "1.0441085749537322 -0.04380012338062916\n"
     ]
    }
   ],
   "source": [
    "print(np.shape(X_train),np.shape(X_test))\n",
    "print(np.max(X_train),np.min(X_train))\n",
    "print(np.max(X_test),np.min(X_test))"
   ]
  },
  {
   "cell_type": "markdown",
   "id": "emotional-criterion",
   "metadata": {},
   "source": [
    "## 6.1.1) Einfacher Regression Tree\n",
    "\n",
    "Einen ersten ganz einfachen Decision Tree mit einer festgelegten maximalen Tiefe kann man ganz einfach mit Sklearn umsetzen. Der Algorithmus benutzt den RMSE als Fehlermaß (optional auch andere z.B. MAE)."
   ]
  },
  {
   "cell_type": "code",
   "execution_count": 8,
   "id": "weighted-tennessee",
   "metadata": {},
   "outputs": [
    {
     "data": {
      "text/plain": [
       "DecisionTreeRegressor(max_depth=3)"
      ]
     },
     "execution_count": 8,
     "metadata": {},
     "output_type": "execute_result"
    }
   ],
   "source": [
    "from sklearn.tree import DecisionTreeRegressor\n",
    "\n",
    "# Modell spezifizieren (max. Tiefe = 3)\n",
    "auto_tree=DecisionTreeRegressor(max_depth=3)\n",
    "\n",
    "# Modell an die Trainingsdaten anpassen\n",
    "auto_tree.fit(X_train,y_train)"
   ]
  },
  {
   "cell_type": "code",
   "execution_count": 9,
   "id": "official-dress",
   "metadata": {},
   "outputs": [
    {
     "data": {
      "text/plain": [
       "array([35.72142857, 35.72142857, 28.51388889, 23.375     , 23.375     ,\n",
       "       14.08196721, 27.47083333, 28.51388889, 14.08196721, 23.375     ,\n",
       "       27.47083333, 23.375     , 23.375     , 35.72142857, 24.46666667,\n",
       "       18.76981132, 23.375     , 23.375     , 18.31      , 35.72142857,\n",
       "       14.08196721, 35.72142857, 18.76981132, 18.76981132, 35.72142857,\n",
       "       35.72142857, 35.72142857, 14.08196721, 28.51388889, 27.47083333,\n",
       "       23.375     , 35.72142857, 24.46666667, 23.375     , 24.46666667,\n",
       "       35.72142857, 35.72142857, 23.375     , 35.72142857, 18.31      ,\n",
       "       18.76981132, 18.76981132, 23.375     , 18.76981132, 27.47083333,\n",
       "       14.08196721, 27.47083333, 35.72142857, 35.72142857, 27.47083333,\n",
       "       27.47083333, 14.08196721, 23.375     , 14.08196721, 28.51388889,\n",
       "       14.08196721, 18.76981132, 24.46666667, 23.375     , 27.47083333,\n",
       "       28.51388889, 35.72142857, 35.72142857, 23.375     , 23.375     ,\n",
       "       14.08196721, 27.47083333, 14.08196721, 14.08196721, 28.51388889,\n",
       "       27.47083333, 14.08196721, 14.08196721, 18.31      , 18.31      ,\n",
       "       18.76981132, 23.375     , 18.76981132, 27.47083333, 14.08196721,\n",
       "       18.76981132, 35.72142857, 28.51388889, 35.72142857, 27.47083333,\n",
       "       18.76981132, 18.76981132, 14.08196721, 14.08196721, 23.375     ,\n",
       "       18.76981132, 23.375     , 14.08196721, 24.46666667, 27.47083333,\n",
       "       14.08196721, 27.47083333, 18.76981132, 28.51388889, 18.76981132,\n",
       "       14.08196721, 27.47083333, 35.72142857, 27.47083333, 23.375     ,\n",
       "       28.51388889, 27.47083333, 28.51388889, 14.08196721, 14.08196721,\n",
       "       27.47083333, 28.51388889, 14.08196721, 28.51388889, 35.72142857,\n",
       "       14.08196721, 35.72142857, 27.47083333, 23.375     , 18.76981132])"
      ]
     },
     "execution_count": 9,
     "metadata": {},
     "output_type": "execute_result"
    }
   ],
   "source": [
    "y_hat_train = auto_tree.predict(X_train)\n",
    "y_hat_test = auto_tree.predict(X_test)\n",
    "y_hat_test"
   ]
  },
  {
   "cell_type": "code",
   "execution_count": 10,
   "id": "median-latitude",
   "metadata": {},
   "outputs": [
    {
     "name": "stdout",
     "output_type": "stream",
     "text": [
      "Trainingsfehler: 3.046341860534951\n",
      "Testfehler: 3.3346560225174073\n"
     ]
    }
   ],
   "source": [
    "rmseTree_tr = sqrt(mean_squared_error(y_hat_train,y_train)) \n",
    "rmseTree_test = sqrt(mean_squared_error(y_hat_test,y_test)) \n",
    "\n",
    "print('Trainingsfehler:',rmseTree_tr)\n",
    "print('Testfehler:',rmseTree_test)"
   ]
  },
  {
   "cell_type": "markdown",
   "id": "north-syndication",
   "metadata": {},
   "source": [
    "Die Struktur des Baumes läßt sich auch graphisch ausgeben:"
   ]
  },
  {
   "cell_type": "code",
   "execution_count": 11,
   "id": "spanish-multimedia",
   "metadata": {},
   "outputs": [
    {
     "data": {
      "image/png": "[encoded data removed]",
      "text/plain": [
       "<Figure size 960x800 with 1 Axes>"
      ]
     },
     "metadata": {
      "needs_background": "light"
     },
     "output_type": "display_data"
    }
   ],
   "source": [
    "plt.figure(figsize=(12, 10), dpi=80)\n",
    "tree.plot_tree(auto_tree,\n",
    "           feature_names = ['cylinders','displacement','horsepower','weight','acceleration','year'], \n",
    "           class_names='mpg',\n",
    "           filled = True);"
   ]
  },
  {
   "cell_type": "markdown",
   "id": "elder-stuff",
   "metadata": {},
   "source": [
    "Der score, der bei der Methode automatisch ausgegeben werden kann ist der $R^2$-score.\n",
    "\n",
    "Aus der Hilfe: \n",
    "\n",
    "The $\\textbf{coefficient of determination}$ \n",
    "$R^2$\n",
    " is defined as $(1−\\frac{u}{v})$, where $u$ is the residual sum of squares ((y_true - y_pred)** 2).sum() and   \n",
    "$v$ is the total sum of squares ((y_true - y_true.mean()) ** 2).sum().  \n",
    "The best possible score is 1.0 and it can be negative (because the model can be arbitrarily worse).  \n",
    "A constant model that always predicts the expected value of y, disregarding the input features, would get a \n",
    "$R^2$ score of 0.0.\n"
   ]
  },
  {
   "cell_type": "code",
   "execution_count": 12,
   "id": "early-canvas",
   "metadata": {},
   "outputs": [
    {
     "data": {
      "text/plain": [
       "0.814292000074819"
      ]
     },
     "execution_count": 12,
     "metadata": {},
     "output_type": "execute_result"
    }
   ],
   "source": [
    "auto_tree.score(X_test, y_test, sample_weight=None)"
   ]
  },
  {
   "cell_type": "markdown",
   "id": "potential-prototype",
   "metadata": {},
   "source": [
    "## 6.1.2) Feature Importance für die Variablenselektion\n",
    "\n",
    "Die Entscheidungsregeln im Baum sind bekannt. damit läßt sich auch ein Ranking der Input-Features ableiten.  \n",
    "Die ausgegebenen \"importance scores\" basieren auf der Größe der Reduktion des Kriteriums, das benutzt wurde um die  split points zu wählen.  \n",
    "Im Falle von Regression Trees ist das der RMSE, bei Klassifikation der Gini-Index oder die Entropie.  \n",
    "\n",
    "Das Feature, das am meisten zur Reduktion beiträgt bekommt den größten Importance Score:\n"
   ]
  },
  {
   "cell_type": "code",
   "execution_count": 13,
   "id": "local-preservation",
   "metadata": {},
   "outputs": [
    {
     "name": "stdout",
     "output_type": "stream",
     "text": [
      "FeatureImportance (in Prozent): \n",
      "cylinders: 0.6792817693531488 \n",
      "displacement: 0.0689411458280659 \n",
      "horsepower: 0.0 \n",
      "weight: 0.10509734301032958 \n",
      "acceleration: 0.0 \n",
      "year: 0.14667974180845572\n"
     ]
    }
   ],
   "source": [
    "feat_importance = auto_tree.tree_.compute_feature_importances(normalize=True)\n",
    "\n",
    "#Wichtigkeit der einzelnen Prädiktor-Variablen:\n",
    "\n",
    "print('FeatureImportance (in Prozent):','\\n'\n",
    "'cylinders:',feat_importance[0],'\\n'\n",
    "'displacement:',feat_importance[1],'\\n'\n",
    "'horsepower:',feat_importance[2],'\\n'\n",
    "'weight:',feat_importance[3],'\\n'\n",
    "'acceleration:',feat_importance[4],'\\n'\n",
    "'year:',feat_importance[5])\n"
   ]
  },
  {
   "cell_type": "markdown",
   "id": "infrared-working",
   "metadata": {},
   "source": [
    "### Aufgabe 1) \n",
    "\n",
    "- Variieren Sie die Tiefe des Baumes in einer Schleife und stellen Sie Trainings-und Testfehler für die unterschiedlichen Tiefen in einer Graphik dar.\n",
    "- Ab wann gibt es overfitting bzw. was ist die optimale Tiefe?\n",
    "- Ergibt sich das gleiche Ergebnis, wenn man als Entscheidungsktiterium den r2-score verwendet?"
   ]
  },
  {
   "cell_type": "markdown",
   "id": "mighty-formula",
   "metadata": {},
   "source": [
    "## 6.1.3) Pruning\n",
    "\n",
    "In der Vorlesung haben wir schon besprochen, daß Decision Trees zum Overfitting neigen.  \n",
    "Eine Lösung ist, den Tree zu verkleinern. Das Pruning mit Hilfe eines Penalty Termes $\\alpha \\vert T \\vert$, der zu viel Komplexität im Baum bestraft, ist eine Möglichkeit dafür. \n",
    "\n",
    "$\\sum_{m=1}^{\\vert T \\vert} \\sum_{x_i\\in R_m} (y_i-\\hat{y_{Rm}})^2+\\alpha \\vert T \\vert$\n",
    "\n",
    "In Python gibt es dafür die Funktion \"cost_complexity_pruning_path\"\n",
    "Dabei wird der Parameter $\\alpha$ variiert und der jeweils beste Baum ausgegeben."
   ]
  },
  {
   "cell_type": "code",
   "execution_count": 14,
   "id": "educated-assembly",
   "metadata": {},
   "outputs": [],
   "source": [
    "Auto_DT= DecisionTreeRegressor(random_state=0)\n",
    "path =Auto_DT.cost_complexity_pruning_path(X_train, y_train)\n",
    "ccp_alphas, impurities = path.ccp_alphas, path.impurities"
   ]
  },
  {
   "cell_type": "code",
   "execution_count": 15,
   "id": "plastic-loading",
   "metadata": {},
   "outputs": [
    {
     "data": {
      "text/plain": [
       "Text(0.5, 1.0, 'Gesamte Unreinheit vs effektives alpha (Training)')"
      ]
     },
     "execution_count": 15,
     "metadata": {},
     "output_type": "execute_result"
    },
    {
     "data": {
      "image/png": "[encoded data removed]",
      "text/plain": [
       "<Figure size 432x288 with 1 Axes>"
      ]
     },
     "metadata": {
      "needs_background": "light"
     },
     "output_type": "display_data"
    }
   ],
   "source": [
    "fig, ax = plt.subplots()\n",
    "ax.plot(ccp_alphas[:-1], impurities[:-1], marker=\"o\", drawstyle=\"steps-post\")\n",
    "ax.set_xlabel(\"effektives alpha\")\n",
    "ax.set_ylabel(\"Unreinheit der leaves\")\n",
    "ax.set_title(\"Gesamte Unreinheit vs effektives alpha (Training)\")"
   ]
  },
  {
   "cell_type": "code",
   "execution_count": 16,
   "id": "rough-worst",
   "metadata": {},
   "outputs": [
    {
     "name": "stdout",
     "output_type": "stream",
     "text": [
      "Number of nodes in the last tree is: 1 with ccp_alpha: 35.350071086306244\n"
     ]
    }
   ],
   "source": [
    "Auto_DTs = []\n",
    "for ccp_alpha in ccp_alphas:\n",
    "    Auto_DT = DecisionTreeRegressor(random_state=0, ccp_alpha=ccp_alpha)\n",
    "    Auto_DT.fit(X_train, y_train)\n",
    "    Auto_DTs.append(Auto_DT)\n",
    "print(\n",
    "    \"Number of nodes in the last tree is: {} with ccp_alpha: {}\".format(\n",
    "        Auto_DTs[-1].tree_.node_count, ccp_alphas[-1]\n",
    "    )\n",
    ")\n"
   ]
  },
  {
   "cell_type": "markdown",
   "id": "complete-disposition",
   "metadata": {},
   "source": [
    "der letzte Baum ist also der triviale Baum mit nur noch einem Node.  \n",
    "Für die weiteren Auswertungen kann man den (oder die ersten paar) auch weglassen."
   ]
  },
  {
   "cell_type": "code",
   "execution_count": 17,
   "id": "entertaining-semester",
   "metadata": {},
   "outputs": [],
   "source": [
    "Auto_DTs = Auto_DTs[:-1]\n",
    "ccp_alphas = ccp_alphas[:-1]"
   ]
  },
  {
   "cell_type": "markdown",
   "id": "backed-running",
   "metadata": {},
   "source": [
    "Jetzt kann man sich die scores ausgeben lassen um das optimale $\\alpha$ zu finden (sh. Algorithmus aus der Vorlesung)"
   ]
  },
  {
   "cell_type": "code",
   "execution_count": 18,
   "id": "alternate-penalty",
   "metadata": {},
   "outputs": [
    {
     "data": {
      "image/png": "[encoded data removed]",
      "text/plain": [
       "<Figure size 432x288 with 1 Axes>"
      ]
     },
     "metadata": {
      "needs_background": "light"
     },
     "output_type": "display_data"
    }
   ],
   "source": [
    "train_scores = [Auto_DT.score(X_train, y_train) for Auto_DT in Auto_DTs]\n",
    "test_scores = [Auto_DT.score(X_test, y_test) for Auto_DT in Auto_DTs]\n",
    "\n",
    "fig, ax = plt.subplots()\n",
    "ax.set_xlabel(\"alpha\")\n",
    "ax.set_ylabel(\"r2 score\")\n",
    "ax.set_title(\"r2 score vs alpha for training and testing sets\")\n",
    "ax.plot(ccp_alphas, train_scores, marker=\"o\", label=\"train\", drawstyle=\"steps-post\")\n",
    "ax.plot(ccp_alphas, test_scores, marker=\"o\", label=\"test\", drawstyle=\"steps-post\")\n",
    "ax.legend()\n",
    "plt.show()"
   ]
  },
  {
   "cell_type": "markdown",
   "id": "eight-naples",
   "metadata": {},
   "source": [
    "für sehr komplexe Bäume (kleines $\\alpha$) ist der r2-score auf der Trainingsmenge fast 1 der Test-score aber klein.  \n",
    "Das heißt, das Modell ist im Overfitting. Wird die Komplexität niedriger sinkt der score auf der Trainingsmenge, steigt aber auf den Testdaten.  \n",
    "Das Modell generalisiert besser."
   ]
  },
  {
   "cell_type": "code",
   "execution_count": 19,
   "id": "primary-queensland",
   "metadata": {},
   "outputs": [
    {
     "name": "stdout",
     "output_type": "stream",
     "text": [
      "maximaler r2 score (test): 0.7968886973511533 ; Position Max: 188\n"
     ]
    }
   ],
   "source": [
    "max_test_score=np.max(test_scores)\n",
    "index_max_test=test_scores.index(max_test_score)\n",
    "print('maximaler r2 score (test):',max_test_score,'; Position Max:',index_max_test)"
   ]
  },
  {
   "cell_type": "markdown",
   "id": "gross-cleaners",
   "metadata": {},
   "source": [
    "der zugehörige $\\alpha$-Wert ist dann"
   ]
  },
  {
   "cell_type": "code",
   "execution_count": 20,
   "id": "controversial-stanford",
   "metadata": {},
   "outputs": [
    {
     "data": {
      "text/plain": [
       "1.0953882762492846"
      ]
     },
     "execution_count": 20,
     "metadata": {},
     "output_type": "execute_result"
    }
   ],
   "source": [
    "ccp_alphas[index_max_test]"
   ]
  },
  {
   "cell_type": "markdown",
   "id": "accurate-reduction",
   "metadata": {},
   "source": [
    "jetzt können wir den optimalen Baum für unsere Aufgabe auswählen:"
   ]
  },
  {
   "cell_type": "code",
   "execution_count": 21,
   "id": "needed-discretion",
   "metadata": {},
   "outputs": [],
   "source": [
    "Auto_DT_opt=DecisionTreeRegressor(ccp_alpha=ccp_alphas[index_max_test])\n",
    "Auto_DT_opt.fit(X_train,y_train)\n",
    "\n",
    "y_hat_train_opt = Auto_DT_opt.predict(X_train)\n",
    "y_hat_test_opt = Auto_DT_opt.predict(X_test)"
   ]
  },
  {
   "cell_type": "code",
   "execution_count": 22,
   "id": "surprising-algorithm",
   "metadata": {},
   "outputs": [
    {
     "name": "stdout",
     "output_type": "stream",
     "text": [
      "Trainingsfehler (pruned): 3.1360255770313232 ; Trainingsfehler (simple) 3.046341860534951\n",
      "Testfehler (pruned): 3.4874081768779535 ; Testfehler (simple) 3.3346560225174073\n"
     ]
    }
   ],
   "source": [
    "rmseTree_tr_opt = sqrt(mean_squared_error(y_hat_train_opt,y_train)) \n",
    "rmseTree_test_opt = sqrt(mean_squared_error(y_hat_test_opt,y_test)) \n",
    "\n",
    "print('Trainingsfehler (pruned):',rmseTree_tr_opt,'; Trainingsfehler (simple)',rmseTree_tr)\n",
    "print('Testfehler (pruned):',rmseTree_test_opt,'; Testfehler (simple)',rmseTree_test)"
   ]
  },
  {
   "cell_type": "markdown",
   "id": "accompanied-panic",
   "metadata": {},
   "source": [
    "### Aufgabe 2)\n",
    "\n",
    "- bestimmen Sie die Feature Importance des geprunten Baumes.\n",
    "- Vergleichen Sie das Ergebnis mit dem besten Baum aus Aufgabe 1).  \n",
    "Gibt es Unterschiede?"
   ]
  },
  {
   "cell_type": "markdown",
   "id": "overhead-fellow",
   "metadata": {},
   "source": [
    "## 6.2) Decision-Trees für die Klassifikation\n",
    "\n",
    "Wir verwenden als Beispiel den schon bekannten Datensatz zu den Herzinfarkten:"
   ]
  },
  {
   "cell_type": "code",
   "execution_count": 23,
   "id": "future-faith",
   "metadata": {},
   "outputs": [
    {
     "data": {
      "text/html": [
       "<div>\n",
       "<style scoped>\n",
       "    .dataframe tbody tr th:only-of-type {\n",
       "        vertical-align: middle;\n",
       "    }\n",
       "\n",
       "    .dataframe tbody tr th {\n",
       "        vertical-align: top;\n",
       "    }\n",
       "\n",
       "    .dataframe thead th {\n",
       "        text-align: right;\n",
       "    }\n",
       "</style>\n",
       "<table border=\"1\" class=\"dataframe\">\n",
       "  <thead>\n",
       "    <tr style=\"text-align: right;\">\n",
       "      <th></th>\n",
       "      <th>Unnamed: 0</th>\n",
       "      <th>Age</th>\n",
       "      <th>Sex</th>\n",
       "      <th>ChestPain</th>\n",
       "      <th>RestBP</th>\n",
       "      <th>Chol</th>\n",
       "      <th>Fbs</th>\n",
       "      <th>RestECG</th>\n",
       "      <th>MaxHR</th>\n",
       "      <th>ExAng</th>\n",
       "      <th>Oldpeak</th>\n",
       "      <th>Slope</th>\n",
       "      <th>Ca</th>\n",
       "      <th>Thal</th>\n",
       "      <th>AHD</th>\n",
       "    </tr>\n",
       "  </thead>\n",
       "  <tbody>\n",
       "    <tr>\n",
       "      <th>0</th>\n",
       "      <td>1</td>\n",
       "      <td>63</td>\n",
       "      <td>1</td>\n",
       "      <td>typical</td>\n",
       "      <td>145</td>\n",
       "      <td>233</td>\n",
       "      <td>1</td>\n",
       "      <td>2</td>\n",
       "      <td>150</td>\n",
       "      <td>0</td>\n",
       "      <td>2.3</td>\n",
       "      <td>3</td>\n",
       "      <td>0</td>\n",
       "      <td>fixed</td>\n",
       "      <td>No</td>\n",
       "    </tr>\n",
       "    <tr>\n",
       "      <th>1</th>\n",
       "      <td>2</td>\n",
       "      <td>67</td>\n",
       "      <td>1</td>\n",
       "      <td>asymptomatic</td>\n",
       "      <td>160</td>\n",
       "      <td>286</td>\n",
       "      <td>0</td>\n",
       "      <td>2</td>\n",
       "      <td>108</td>\n",
       "      <td>1</td>\n",
       "      <td>1.5</td>\n",
       "      <td>2</td>\n",
       "      <td>3</td>\n",
       "      <td>normal</td>\n",
       "      <td>Yes</td>\n",
       "    </tr>\n",
       "    <tr>\n",
       "      <th>2</th>\n",
       "      <td>3</td>\n",
       "      <td>67</td>\n",
       "      <td>1</td>\n",
       "      <td>asymptomatic</td>\n",
       "      <td>120</td>\n",
       "      <td>229</td>\n",
       "      <td>0</td>\n",
       "      <td>2</td>\n",
       "      <td>129</td>\n",
       "      <td>1</td>\n",
       "      <td>2.6</td>\n",
       "      <td>2</td>\n",
       "      <td>2</td>\n",
       "      <td>reversable</td>\n",
       "      <td>Yes</td>\n",
       "    </tr>\n",
       "    <tr>\n",
       "      <th>3</th>\n",
       "      <td>4</td>\n",
       "      <td>37</td>\n",
       "      <td>1</td>\n",
       "      <td>nonanginal</td>\n",
       "      <td>130</td>\n",
       "      <td>250</td>\n",
       "      <td>0</td>\n",
       "      <td>0</td>\n",
       "      <td>187</td>\n",
       "      <td>0</td>\n",
       "      <td>3.5</td>\n",
       "      <td>3</td>\n",
       "      <td>0</td>\n",
       "      <td>normal</td>\n",
       "      <td>No</td>\n",
       "    </tr>\n",
       "    <tr>\n",
       "      <th>4</th>\n",
       "      <td>5</td>\n",
       "      <td>41</td>\n",
       "      <td>0</td>\n",
       "      <td>nontypical</td>\n",
       "      <td>130</td>\n",
       "      <td>204</td>\n",
       "      <td>0</td>\n",
       "      <td>2</td>\n",
       "      <td>172</td>\n",
       "      <td>0</td>\n",
       "      <td>1.4</td>\n",
       "      <td>1</td>\n",
       "      <td>0</td>\n",
       "      <td>normal</td>\n",
       "      <td>No</td>\n",
       "    </tr>\n",
       "  </tbody>\n",
       "</table>\n",
       "</div>"
      ],
      "text/plain": [
       "   Unnamed: 0  Age  Sex     ChestPain  RestBP  Chol  Fbs  RestECG  MaxHR  \\\n",
       "0           1   63    1       typical     145   233    1        2    150   \n",
       "1           2   67    1  asymptomatic     160   286    0        2    108   \n",
       "2           3   67    1  asymptomatic     120   229    0        2    129   \n",
       "3           4   37    1    nonanginal     130   250    0        0    187   \n",
       "4           5   41    0    nontypical     130   204    0        2    172   \n",
       "\n",
       "   ExAng  Oldpeak  Slope  Ca        Thal  AHD  \n",
       "0      0      2.3      3   0       fixed   No  \n",
       "1      1      1.5      2   3      normal  Yes  \n",
       "2      1      2.6      2   2  reversable  Yes  \n",
       "3      0      3.5      3   0      normal   No  \n",
       "4      0      1.4      1   0      normal   No  "
      ]
     },
     "execution_count": 23,
     "metadata": {},
     "output_type": "execute_result"
    }
   ],
   "source": [
    "Heart = pd.read_csv(\"../Daten/heart.csv\")\n",
    "#len(Heart)\n",
    "Heart.head()"
   ]
  },
  {
   "cell_type": "markdown",
   "id": "adolescent-semiconductor",
   "metadata": {},
   "source": [
    "Der sklearn Tree-Classifier kann nur mit numerischen Features umgehen, nicht mit kategorialen.\n",
    "Wir verwenden also nur die numerischen Inputs (ansonsten könnte man die anderen one-Hot kodieren)."
   ]
  },
  {
   "cell_type": "code",
   "execution_count": 24,
   "id": "deadly-creativity",
   "metadata": {
    "scrolled": true
   },
   "outputs": [],
   "source": [
    "Heart_y=Heart['AHD']\n",
    "Heart_X=np.array(Heart[['Age','Sex','RestBP','Chol','Fbs','RestECG','MaxHR','ExAng','Oldpeak','Slope']])\n",
    "\n",
    "\n",
    "Heart_y=np.array(Heart_y.replace(['No', 'Yes'], [0,1]))\n",
    "#Heart_y"
   ]
  },
  {
   "cell_type": "markdown",
   "id": "certified-bonus",
   "metadata": {},
   "source": [
    "Train-test-Split:"
   ]
  },
  {
   "cell_type": "code",
   "execution_count": 25,
   "id": "improving-oxford",
   "metadata": {},
   "outputs": [],
   "source": [
    " X_train_H, X_test_H, y_train_H, y_test_H = train_test_split(Heart_X, Heart_y, test_size=0.3, shuffle='True')"
   ]
  },
  {
   "cell_type": "markdown",
   "id": "thousand-grain",
   "metadata": {},
   "source": [
    "Modell definieren und trainieren: "
   ]
  },
  {
   "cell_type": "code",
   "execution_count": 26,
   "id": "likely-membrane",
   "metadata": {},
   "outputs": [
    {
     "data": {
      "text/plain": [
       "DecisionTreeClassifier(max_depth=3)"
      ]
     },
     "execution_count": 26,
     "metadata": {},
     "output_type": "execute_result"
    }
   ],
   "source": [
    "from sklearn.tree import DecisionTreeClassifier\n",
    "\n",
    "# Modell spezifizieren (max. Tiefe = 3)\n",
    "# Entscheidungskriterium ist im default 'gini' (sonst 'entropy' wählen)\n",
    "\n",
    "heart_tree=DecisionTreeClassifier(max_depth=3,criterion='gini') \n",
    "\n",
    "# Modell an die Trainingsdaten anpassen\n",
    "heart_tree.fit(X_train_H,y_train_H)"
   ]
  },
  {
   "cell_type": "markdown",
   "id": "temporal-yorkshire",
   "metadata": {},
   "source": [
    "jetzt kann man die Predictions machen lassen:"
   ]
  },
  {
   "cell_type": "code",
   "execution_count": 27,
   "id": "latin-stuart",
   "metadata": {},
   "outputs": [
    {
     "data": {
      "text/plain": [
       "array([1, 1, 1, 0, 1, 0, 0, 1, 0, 0, 0, 0, 1, 0, 0, 0, 1, 0, 0, 0, 0, 0,\n",
       "       0, 0, 0, 0, 1, 1, 0, 1, 1, 1, 1, 0, 0, 1, 1, 0, 1, 0, 0, 0, 0, 1,\n",
       "       1, 1, 0, 0, 0, 1, 0, 0, 0, 0, 1, 0, 0, 0, 0, 0, 1, 0, 1, 0, 1, 0,\n",
       "       1, 1, 1, 1, 1, 0, 0, 0, 0, 1, 1, 1, 1, 1, 0, 1, 1, 1, 1, 1, 0, 0,\n",
       "       0, 0])"
      ]
     },
     "execution_count": 27,
     "metadata": {},
     "output_type": "execute_result"
    }
   ],
   "source": [
    "y_hat_tr_H = heart_tree.predict(X_train_H)\n",
    "y_hat_test_H = heart_tree.predict(X_test_H)\n",
    "\n",
    "y_hat_test_H"
   ]
  },
  {
   "cell_type": "markdown",
   "id": "published-increase",
   "metadata": {},
   "source": [
    "Für die Prognosen kann man alle schon bekannten Auswertungen für Classifier machen:  \n",
    "\n",
    "    - accuracy auswerten (Hit-Rate)  \n",
    "    - Confusion Matrix ausgeben lassen  \n",
    "    - detaillierten Report ausgeben lassen  "
   ]
  },
  {
   "cell_type": "code",
   "execution_count": 28,
   "id": "efficient-lyric",
   "metadata": {},
   "outputs": [
    {
     "data": {
      "text/plain": [
       "0.7444444444444445"
      ]
     },
     "execution_count": 28,
     "metadata": {},
     "output_type": "execute_result"
    }
   ],
   "source": [
    "heart_score = accuracy_score(y_hat_test_H, y_test_H)\n",
    "heart_score"
   ]
  },
  {
   "cell_type": "code",
   "execution_count": 29,
   "id": "biological-thong",
   "metadata": {},
   "outputs": [
    {
     "name": "stdout",
     "output_type": "stream",
     "text": [
      "Trainings-Score: 0.8095238095238095 ; Test-Score: 0.7444444444444445\n"
     ]
    }
   ],
   "source": [
    "heart_tr_score=heart_tree.score(X_train_H, y_train_H, sample_weight=None)\n",
    "heart_test_score=heart_tree.score(X_test_H, y_test_H, sample_weight=None)\n",
    "\n",
    "print('Trainings-Score:',heart_tr_score,'; Test-Score:',heart_test_score)"
   ]
  },
  {
   "cell_type": "code",
   "execution_count": 30,
   "id": "behind-swift",
   "metadata": {},
   "outputs": [
    {
     "name": "stdout",
     "output_type": "stream",
     "text": [
      "Confusion matrix:\n",
      " [[36  8]\n",
      " [15 31]]\n"
     ]
    }
   ],
   "source": [
    "print('Confusion matrix:\\n', confusion_matrix(y_test_H, y_hat_test_H))"
   ]
  },
  {
   "cell_type": "code",
   "execution_count": 31,
   "id": "universal-morrison",
   "metadata": {},
   "outputs": [
    {
     "name": "stdout",
     "output_type": "stream",
     "text": [
      "              precision    recall  f1-score   support\n",
      "\n",
      "           0     0.7059    0.8182    0.7579        44\n",
      "           1     0.7949    0.6739    0.7294        46\n",
      "\n",
      "    accuracy                         0.7444        90\n",
      "   macro avg     0.7504    0.7460    0.7437        90\n",
      "weighted avg     0.7514    0.7444    0.7433        90\n",
      "\n"
     ]
    }
   ],
   "source": [
    "print(classification_report(y_test_H, y_hat_test_H, digits=4))"
   ]
  },
  {
   "cell_type": "markdown",
   "id": "organic-ecuador",
   "metadata": {},
   "source": [
    "Die Baumstruktur kann wieder graphisch dargestellt werden:"
   ]
  },
  {
   "cell_type": "code",
   "execution_count": 32,
   "id": "republican-tolerance",
   "metadata": {},
   "outputs": [
    {
     "data": {
      "image/png": "[encoded data removed]",
      "text/plain": [
       "<Figure size 960x800 with 1 Axes>"
      ]
     },
     "metadata": {
      "needs_background": "light"
     },
     "output_type": "display_data"
    }
   ],
   "source": [
    "plt.figure(figsize=(12, 10), dpi=80)\n",
    "tree.plot_tree(heart_tree,\n",
    "           feature_names = ['Age','Sex','RestBP','Chol','Fbs','RestECG','MaxHR','ExAng','Oldpeak','Slope'], \n",
    "           class_names='AHD',\n",
    "           filled = True);"
   ]
  },
  {
   "cell_type": "markdown",
   "id": "featured-awareness",
   "metadata": {},
   "source": [
    "Die Feature Importance wird mit Hilfe des Gini-Index oder der Entropie bestimmt (je nachdem, was zum Lernen des Baumes benutzt wurde):"
   ]
  },
  {
   "cell_type": "code",
   "execution_count": 33,
   "id": "dental-robertson",
   "metadata": {},
   "outputs": [
    {
     "data": {
      "text/plain": [
       "array([0.        , 0.        , 0.04889228, 0.        , 0.        ,\n",
       "       0.        , 0.21545653, 0.45985832, 0.27579287, 0.        ])"
      ]
     },
     "execution_count": 33,
     "metadata": {},
     "output_type": "execute_result"
    }
   ],
   "source": [
    "feat_importance_heart = heart_tree.tree_.compute_feature_importances(normalize=True)\n",
    "\n",
    "#Wichtigkeit der einzelnen Prädiktor-Variablen:\n",
    "\n",
    "feat_importance_heart"
   ]
  },
  {
   "cell_type": "code",
   "execution_count": 34,
   "id": "irish-trade",
   "metadata": {},
   "outputs": [
    {
     "name": "stdout",
     "output_type": "stream",
     "text": [
      "FeatureImportance (in Prozent):\n",
      "Age 0.0 \n",
      "Sex 0.0 \n",
      "RestBP 0.048892280372243496 \n",
      "Chol 0.0 \n",
      "Fbs 0.0 \n",
      "RestECG 0.0 \n",
      "MaxHR 0.21545653124008118 \n",
      "ExAng 0.4598583162903847 \n",
      "Oldpeak 0.2757928720972905 \n",
      "Slope 0.0\n"
     ]
    }
   ],
   "source": [
    "print('FeatureImportance (in Prozent):')\n",
    "\n",
    "print('Age',feat_importance_heart[0],'\\n' \n",
    "      'Sex',feat_importance_heart[1],'\\n'\n",
    "      'RestBP',feat_importance_heart[2],'\\n' \n",
    "      'Chol',feat_importance_heart[3],'\\n' \n",
    "      'Fbs',feat_importance_heart[4],'\\n' \n",
    "      'RestECG',feat_importance_heart[5],'\\n' \n",
    "      'MaxHR',feat_importance_heart[6],'\\n' \n",
    "      'ExAng',feat_importance_heart[7],'\\n'\n",
    "      'Oldpeak',feat_importance_heart[8],'\\n'\n",
    "      'Slope' ,feat_importance_heart[9])\n",
    "\n"
   ]
  },
  {
   "cell_type": "markdown",
   "id": "steady-intro",
   "metadata": {},
   "source": [
    "### Aufgabe 3)\n",
    "\n",
    "- variieren Sie die Tiefe des Baumes in einer Schleife und finden Sie die optimale Tiefe für die das Overfitting minimal wird\n",
    "- benutzen Sie Pruning um den Baum anzupassen. Ist die accuracy besser als bei der Variante von oben?\n",
    "- welche 'feature importance' ergibt sich für den besten Baum aus Teil 1) und Teil 2)?  \n",
    "Gibt es Unterschiede?"
   ]
  }
 ],
 "metadata": {
  "kernelspec": {
   "display_name": "Python 3",
   "language": "python",
   "name": "python3"
  },
  "language_info": {
   "codemirror_mode": {
    "name": "ipython",
    "version": 3
   },
   "file_extension": ".py",
   "mimetype": "text/x-python",
   "name": "python",
   "nbconvert_exporter": "python",
   "pygments_lexer": "ipython3",
   "version": "3.8.7"
  }
 },
 "nbformat": 4,
 "nbformat_minor": 5
}
