{
 "cells": [
  {
   "cell_type": "markdown",
   "id": "signed-lesson",
   "metadata": {},
   "source": [
    "# Lecture 9) Regularisierung bei Neuronalen Netzen"
   ]
  },
  {
   "cell_type": "code",
   "execution_count": 1,
   "id": "palestinian-porcelain",
   "metadata": {},
   "outputs": [],
   "source": [
    "import pandas as pd\n",
    "import numpy as np\n",
    "import matplotlib as mpl\n",
    "import matplotlib.pyplot as plt\n",
    "import sklearn as sl\n",
    "\n",
    "from sklearn.model_selection import train_test_split\n",
    "from sklearn.metrics import roc_curve, roc_auc_score, classification_report, accuracy_score, confusion_matrix\n",
    "from sklearn.metrics import mean_squared_error\n",
    "from sklearn import metrics\n",
    "from sklearn.preprocessing import MinMaxScaler, StandardScaler\n",
    "from sklearn.preprocessing import PolynomialFeatures\n",
    "from sklearn.linear_model import LogisticRegression\n",
    "from sklearn.discriminant_analysis import LinearDiscriminantAnalysis as LDA\n",
    "from sklearn.discriminant_analysis import QuadraticDiscriminantAnalysis as QDA\n",
    "from sklearn import neighbors\n",
    "from sklearn.model_selection import cross_val_score\n",
    "from sklearn import linear_model\n",
    "\n",
    "from sklearn import tree\n",
    "from sklearn.tree import DecisionTreeClassifier\n",
    "from sklearn.tree import DecisionTreeRegressor\n",
    "\n",
    "from sklearn.ensemble import BaggingRegressor\n",
    "from sklearn.ensemble import BaggingClassifier\n",
    "\n",
    "from sklearn.ensemble import RandomForestClassifier\n",
    "from sklearn.ensemble import RandomForestRegressor\n",
    "\n",
    "from sklearn.ensemble import AdaBoostClassifier\n",
    "from sklearn.ensemble import AdaBoostRegressor\n",
    "\n",
    "from sklearn.ensemble import GradientBoostingClassifier\n",
    "from sklearn.ensemble import GradientBoostingRegressor\n",
    "\n",
    "\n",
    "%matplotlib inline\n",
    "import scipy as sc\n",
    "import math as ma\n",
    "from scipy import linalg, optimize, constants, interpolate, special, stats\n",
    "from math import exp, pow, sqrt, log\n",
    "\n",
    "import seaborn as sns #spezielle Graphikdarstellungen\n",
    "import statsmodels.api as sm\n",
    "import statsmodels.stats.api as sms\n",
    "\n",
    "#import theano \n",
    "import tensorflow as tf\n",
    "from tensorflow import keras\n",
    "\n",
    "from keras.models import Sequential\n",
    "from keras.layers import InputLayer,Dense, Activation\n",
    "from keras.optimizers import SGD #Stochastic Gradient Descent\n",
    "from keras.utils.np_utils import to_categorical  \n",
    "from keras.utils.vis_utils import plot_model\n",
    "\n"
   ]
  },
  {
   "cell_type": "code",
   "execution_count": 2,
   "id": "dimensional-radar",
   "metadata": {},
   "outputs": [],
   "source": [
    "# updatable plot\n",
    "\n",
    "from IPython.display import clear_output\n",
    "class PlotLosses(keras.callbacks.Callback):\n",
    "    def on_train_begin(self, logs={}):\n",
    "        self.i = 0\n",
    "        self.x = []\n",
    "        self.losses = []\n",
    "        self.val_losses = []\n",
    "        \n",
    "        self.fig = plt.figure()\n",
    "        \n",
    "        self.logs = []\n",
    "\n",
    "    def on_epoch_end(self, epoch, logs={}):\n",
    "        \n",
    "        self.logs.append(logs)\n",
    "        self.x.append(self.i)\n",
    "        self.losses.append(logs.get('loss'))\n",
    "        self.val_losses.append(logs.get('val_loss'))\n",
    "        self.i += 1\n",
    "        \n",
    "        clear_output(wait=True)\n",
    "        plt.plot(self.x, self.losses, label=\"loss\")\n",
    "        plt.plot(self.x, self.val_losses, label=\"val_loss\")\n",
    "        plt.legend()\n",
    "        plt.show();\n",
    "        \n",
    "plot_losses = PlotLosses()"
   ]
  },
  {
   "cell_type": "markdown",
   "id": "following-provision",
   "metadata": {},
   "source": [
    "### 9.1) Weight Decay"
   ]
  },
  {
   "cell_type": "markdown",
   "id": "overall-grass",
   "metadata": {},
   "source": [
    "Neuronale Netze sind typischerweise stark überparametrisiert. Das führt sehr oft dazu, daß Neuronale Netze zum \"Overfitting\" neigen.\n",
    "Eine Möglichkeit dagegen vorzugehen war das Early Stopping (klappt nicht nur bei Neuronalen Netzen).  \n",
    "\n",
    "Eine Alternative, die ebenfalls die Überparametrisierung reduziert ist das Weight Decay.\n",
    "Dabei wird ein gewichteter Penalty-Term auf den Loss eingeführt:\n",
    "\n",
    "Parameter für die Gewichtung ist $\\lambda$ in $E(w)=E(w_0)+\\lambda \\sum \\frac{1}{2}w^2$\n",
    "\n",
    "In Keras läßt sich das mit Hilfe der \"Layer Weight Regularizers\" umsetzen.  \n",
    "Für den Penalty-Term auf der Loss-Funktion sind die L1-Norm und die L2-Norm verfügbar (Vorlesung L2-Norm).\n",
    "\n",
    "Die Regularisierung wirkt auf jeweils eine Schicht und wird als Option bei der Konfiguration der entsprechenden layer mit angegeben:\n",
    "\n",
    "dense = tf.keras.layers.Dense(3, kernel_regularizer='l2')\n",
    "\n",
    "Wir testen das Ganze mal am Beispiel der Klassifikation von Herzinfarkten..."
   ]
  },
  {
   "cell_type": "code",
   "execution_count": 3,
   "id": "julian-chart",
   "metadata": {},
   "outputs": [],
   "source": [
    "Heart = pd.read_csv(\"../Daten/heart.csv\")\n",
    "#len(Heart)\n",
    "#Heart.head()\n",
    "\n",
    "Heart_y=Heart['AHD']\n",
    "Heart_X=np.array(Heart[['Age','Sex','RestBP','Chol','Fbs','RestECG','MaxHR','ExAng','Oldpeak','Slope']])\n",
    "\n",
    "\n",
    "Heart_y=np.array(Heart_y.replace(['No', 'Yes'], [0,1]))\n",
    "#Heart_y\n",
    "\n",
    "\n",
    "\n",
    "X_train_H, X_test_H, y_train_H, y_test_H = train_test_split(Heart_X, Heart_y, test_size=0.3, shuffle='True')\n",
    "\n",
    "scaler = StandardScaler()\n",
    "X_train_H = scaler.fit_transform(X_train_H)\n",
    "X_test_H = scaler.transform(X_test_H)"
   ]
  },
  {
   "cell_type": "code",
   "execution_count": 4,
   "id": "further-overall",
   "metadata": {},
   "outputs": [],
   "source": [
    "y_train_H_bin = to_categorical(y_train_H,num_classes = 2)\n",
    "y_test_H_bin = to_categorical(y_test_H,num_classes = 2)\n",
    "#print(y_train_bin);"
   ]
  },
  {
   "cell_type": "markdown",
   "id": "tender-harvard",
   "metadata": {},
   "source": [
    "Jetzt lassen wir das Modell für die Klassifikation einmal ohne irgendwelche Regularisierungen laufen und schauen uns die Verteilung der Gewichte nach dem Training an:"
   ]
  },
  {
   "cell_type": "code",
   "execution_count": 5,
   "id": "consolidated-america",
   "metadata": {},
   "outputs": [
    {
     "data": {
      "image/png": "[encoded data removed]",
      "text/plain": [
       "<Figure size 432x288 with 1 Axes>"
      ]
     },
     "metadata": {
      "needs_background": "light"
     },
     "output_type": "display_data"
    }
   ],
   "source": [
    "#EarlyStopping = tf.keras.callbacks.EarlyStopping(monitor='loss', patience=10,restore_best_weights=True)\n",
    "\n",
    "NNClassModel=Sequential()\n",
    "\n",
    "NNClassModel.add(InputLayer(input_shape=(10,)))\n",
    "NNClassModel.add(Dense(500,activation='tanh',use_bias=True))\n",
    "NNClassModel.add(Dense(2,activation='softmax',use_bias=True))\n",
    "\n",
    "sgd = SGD(lr=0.005)\n",
    "NNClassModel.compile(loss='binary_crossentropy',\n",
    "              optimizer=sgd,\n",
    "              metrics=['accuracy'])\n",
    "\n",
    "NNClassModHistory=NNClassModel.fit(X_train_H, y_train_H_bin,\n",
    "          shuffle=True,\n",
    "          epochs=70,\n",
    "          batch_size=1,\n",
    "          verbose=0,\n",
    "          validation_data=(X_test_H, y_test_H_bin),                  \n",
    "          callbacks=[plot_losses])"
   ]
  },
  {
   "cell_type": "code",
   "execution_count": 6,
   "id": "differential-charles",
   "metadata": {},
   "outputs": [
    {
     "name": "stdout",
     "output_type": "stream",
     "text": [
      "3/3 [==============================] - 0s 2ms/step - loss: 0.5141 - accuracy: 0.7333\n"
     ]
    },
    {
     "data": {
      "text/plain": [
       "0.7333333492279053"
      ]
     },
     "execution_count": 6,
     "metadata": {},
     "output_type": "execute_result"
    }
   ],
   "source": [
    "losslNN,acclNN=NNClassModel.evaluate(X_test_H, y_test_H_bin);\n",
    "acclNN"
   ]
  },
  {
   "cell_type": "markdown",
   "id": "expired-championship",
   "metadata": {},
   "source": [
    "Jetzt ist das Modell fertig trainiert.  \n",
    "Auslesen der Gewichte nach 70 Epochen:"
   ]
  },
  {
   "cell_type": "code",
   "execution_count": 7,
   "id": "intermediate-brain",
   "metadata": {},
   "outputs": [
    {
     "data": {
      "text/plain": [
       "2.6902724e-05"
      ]
     },
     "execution_count": 7,
     "metadata": {},
     "output_type": "execute_result"
    }
   ],
   "source": [
    "hidden1=NNClassModel.layers[0]\n",
    "weights, biases = hidden1.get_weights()\n",
    "\n",
    "#weights\n",
    "\n",
    "np.mean(np.ndarray.flatten(weights))"
   ]
  },
  {
   "cell_type": "markdown",
   "id": "pregnant-agenda",
   "metadata": {},
   "source": [
    "Darstellung der Gewichte (zwischen Input und Dense-Layer) als Histogramm."
   ]
  },
  {
   "cell_type": "code",
   "execution_count": 24,
   "id": "correct-phoenix",
   "metadata": {},
   "outputs": [
    {
     "data": {
      "image/png": "[encoded data removed]",
      "text/plain": [
       "<Figure size 432x288 with 1 Axes>"
      ]
     },
     "metadata": {
      "needs_background": "light"
     },
     "output_type": "display_data"
    }
   ],
   "source": [
    "plt.hist(np.ndarray.flatten(weights), density=False, bins=30)  # density=False would make probabilities\n",
    "plt.ylabel('Frequency')\n",
    "plt.xlabel('Data');\n",
    "plt.title('Histogramm der Gewichte (keine Regularisierung)');"
   ]
  },
  {
   "cell_type": "code",
   "execution_count": 9,
   "id": "structured-blanket",
   "metadata": {},
   "outputs": [
    {
     "data": {
      "image/png": "[encoded data removed]",
      "text/plain": [
       "<Figure size 1152x648 with 2 Axes>"
      ]
     },
     "metadata": {
      "needs_background": "light"
     },
     "output_type": "display_data"
    }
   ],
   "source": [
    "fig1=plt.figure(figsize=(16,9))\n",
    "fig1=plt.imshow(weights, cmap='hot', vmin=-0.2, vmax=0.2)\n",
    "plt.colorbar(fig1, shrink=0.1);\n"
   ]
  },
  {
   "cell_type": "markdown",
   "id": "extended-iceland",
   "metadata": {},
   "source": [
    "Jetzt wenden wir einen Square Weight Decay auf die Hidden-Layer an (alle Einstellungen wie vorher):"
   ]
  },
  {
   "cell_type": "code",
   "execution_count": 10,
   "id": "chronic-cruise",
   "metadata": {},
   "outputs": [
    {
     "data": {
      "image/png": "[encoded data removed]",
      "text/plain": [
       "<Figure size 432x288 with 1 Axes>"
      ]
     },
     "metadata": {
      "needs_background": "light"
     },
     "output_type": "display_data"
    }
   ],
   "source": [
    "l2=tf.keras.regularizers.L2(l2=0.01) # Lambda = 0.01\n",
    "\n",
    "NNClassModelWD=Sequential()\n",
    "\n",
    "NNClassModelWD.add(InputLayer(input_shape=(10,)))\n",
    "NNClassModelWD.add(Dense(500,activation='tanh',use_bias=True,kernel_regularizer='l2'))\n",
    "NNClassModelWD.add(Dense(2,activation='softmax',use_bias=True))\n",
    "\n",
    "sgd = SGD(lr=0.005)\n",
    "NNClassModelWD.compile(loss='binary_crossentropy',\n",
    "              optimizer=sgd,\n",
    "              metrics=['accuracy'])\n",
    "\n",
    "NNClassModHistoryWD=NNClassModelWD.fit(X_train_H, y_train_H_bin,\n",
    "          shuffle=True,\n",
    "          epochs=100,\n",
    "          batch_size=1,\n",
    "          verbose=0,\n",
    "          validation_data=(X_test_H, y_test_H_bin),                  \n",
    "          callbacks=[plot_losses])"
   ]
  },
  {
   "cell_type": "code",
   "execution_count": 11,
   "id": "innocent-eagle",
   "metadata": {},
   "outputs": [
    {
     "name": "stdout",
     "output_type": "stream",
     "text": [
      "3/3 [==============================] - 0s 2ms/step - loss: 0.5184 - accuracy: 0.7333\n"
     ]
    },
    {
     "data": {
      "text/plain": [
       "0.7333333492279053"
      ]
     },
     "execution_count": 11,
     "metadata": {},
     "output_type": "execute_result"
    }
   ],
   "source": [
    "losslNNWD,acclNNWD=NNClassModelWD.evaluate(X_test_H, y_test_H_bin);\n",
    "acclNNWD"
   ]
  },
  {
   "cell_type": "markdown",
   "id": "central-telling",
   "metadata": {},
   "source": [
    "Schon an der Lernkurve sieht man eindeutig, daß der Effekt des Overfitting deutlich reduziert ist.  \n",
    "\n",
    "Wenn alles gut gelaufen ist sollten jetzt jede Menge der Gewichte auf die 0 verschoben worden sein.\n",
    "Wir lesen wieder die Gewichtmatrix aus und zeichnen das Histogramm:"
   ]
  },
  {
   "cell_type": "code",
   "execution_count": 12,
   "id": "hollywood-reader",
   "metadata": {},
   "outputs": [
    {
     "data": {
      "text/plain": [
       "-0.0004858097"
      ]
     },
     "execution_count": 12,
     "metadata": {},
     "output_type": "execute_result"
    }
   ],
   "source": [
    "hiddenWD=NNClassModelWD.layers[0]\n",
    "weightsWD, biasesWD = hiddenWD.get_weights()\n",
    "\n",
    "#weightsWD\n",
    "np.mean(np.ndarray.flatten(weightsWD))"
   ]
  },
  {
   "cell_type": "code",
   "execution_count": 13,
   "id": "facial-citation",
   "metadata": {},
   "outputs": [
    {
     "data": {
      "image/png": "[encoded data removed]",
      "text/plain": [
       "<Figure size 432x288 with 1 Axes>"
      ]
     },
     "metadata": {
      "needs_background": "light"
     },
     "output_type": "display_data"
    }
   ],
   "source": [
    "plt.hist(np.ndarray.flatten(weightsWD), density=False, bins=30)  # density=True would make probabilities\n",
    "plt.ylabel('Frequency')\n",
    "plt.xlabel('Data');"
   ]
  },
  {
   "cell_type": "code",
   "execution_count": 14,
   "id": "agricultural-participant",
   "metadata": {},
   "outputs": [
    {
     "data": {
      "image/png": "[encoded data removed]",
      "text/plain": [
       "<Figure size 1152x648 with 2 Axes>"
      ]
     },
     "metadata": {
      "needs_background": "light"
     },
     "output_type": "display_data"
    }
   ],
   "source": [
    "fig2=plt.figure(figsize=(16,9))\n",
    "fig2=plt.imshow(weightsWD, vmin=-0.2, vmax=0.2,cmap='hot')\n",
    "plt.colorbar(fig2, shrink=0.1);"
   ]
  },
  {
   "cell_type": "markdown",
   "id": "announced-pricing",
   "metadata": {},
   "source": [
    "### Aufgabe 1)\n",
    "\n",
    "Das Netz mit dem L2-Weights Decay scheint noch nicht den minimalen Testfehler erreicht zu haben.\n",
    "\n",
    "- Wie viele Epochen kann man trainieren ohne daß der Testfehler wieder steigt?\n",
    "- Wie sieht dann die Gewichtsmatrix aus?\n",
    "- welchen Einfluß hat der Parameter $\\lambda$ in $E(w)=E(w_0)+\\lambda \\sum \\frac{1}{2}w^2$ auf das Ergebnis?\n",
    "\n",
    "Keras erlaubt auch einen Weight-Decay mit der L1-Norm.\n",
    "\n",
    "- Welches Ergebnis liefert die zweite Penalty-Form?\n",
    "- Wie lange trainiert dieses Modell bis zum optimalen Testfehler?\n",
    "- Wie sehen dann die Gewichte aus?\n"
   ]
  },
  {
   "cell_type": "markdown",
   "id": "settled-withdrawal",
   "metadata": {},
   "source": [
    "### 9.2) Ensembles mit Keras"
   ]
  },
  {
   "cell_type": "markdown",
   "id": "middle-moscow",
   "metadata": {},
   "source": [
    "Wir haben gesehen, daß der Fehler eines Ensemble Modelles kleiner ist als der Fehler der Einzelmodelle.\n",
    "Das ist eine feine Sache...\n",
    "\n",
    "Machen wir also einen Versuch mit einem Ensemble von Klassifikationsnetzen.\n",
    "Im einfachsten Fall ist die Struktur und das Training für alle Netze im Ensemble gleich. Die Modelle unterscheiden sich nur in ihrer Initialisierung."
   ]
  },
  {
   "cell_type": "markdown",
   "id": "meaning-berry",
   "metadata": {},
   "source": [
    "Als erstes definieren wir also eine Funktion um Modelle mit einer speziellen Struktur zu trainieren.\n",
    "Das Netz ist ein einfacher Klassifikator mit 50 Neuronen in der Hidden-Schicht."
   ]
  },
  {
   "cell_type": "code",
   "execution_count": 15,
   "id": "tight-offer",
   "metadata": {},
   "outputs": [],
   "source": [
    "# fit model on dataset\n",
    "def fit_model(X_train_H, y_train_H_bin):\n",
    "    # define model\n",
    "    model = Sequential()\n",
    "    model.add(InputLayer(input_shape=(10,)))\n",
    "    model.add(Dense(50,activation='tanh',input_shape=(10,)))\n",
    "    model.add(Dense(2,activation='softmax'))\n",
    "\n",
    "    sgd = SGD(lr=0.1)\n",
    "    model.compile(loss='binary_crossentropy',\n",
    "              optimizer=sgd,\n",
    "              metrics=['accuracy'])\n",
    "\n",
    "    model.fit(X_train_H, y_train_H_bin,\n",
    "          shuffle=True,\n",
    "          epochs=100,\n",
    "          batch_size=10,\n",
    "          verbose=0)\n",
    "    return model"
   ]
  },
  {
   "cell_type": "code",
   "execution_count": 16,
   "id": "behavioral-policy",
   "metadata": {},
   "outputs": [],
   "source": [
    "# create directory for models\n",
    "#from os import makedirs\n",
    "#makedirs('models')"
   ]
  },
  {
   "cell_type": "markdown",
   "id": "popular-stuff",
   "metadata": {},
   "source": [
    "jetzt trainieren wir eine Anzahl (hier n_members=5) von Modellen mit unseren Trainingsdaten und speichern die Modelle im Ordner \"models\" unter den Namen model_1 bis model_5 ab."
   ]
  },
  {
   "cell_type": "code",
   "execution_count": 17,
   "id": "adjacent-hanging",
   "metadata": {},
   "outputs": [
    {
     "name": "stdout",
     "output_type": "stream",
     "text": [
      ">Saved models/model_1.h5\n",
      ">Saved models/model_2.h5\n",
      ">Saved models/model_3.h5\n",
      ">Saved models/model_4.h5\n",
      ">Saved models/model_5.h5\n"
     ]
    }
   ],
   "source": [
    "# fit and save models\n",
    "n_members = 5\n",
    "for i in range(n_members):\n",
    "    # fit model\n",
    "    model = fit_model(X_train_H, y_train_H_bin)\n",
    "    # save model\n",
    "    filename = 'models/model_' + str(i + 1) + '.h5'\n",
    "    model.save(filename)\n",
    "    print('>Saved %s' % filename)"
   ]
  },
  {
   "cell_type": "markdown",
   "id": "heard-botswana",
   "metadata": {},
   "source": [
    "hier eine Funktion, mit der man die Modelle ganz leicht wieder laden kann:"
   ]
  },
  {
   "cell_type": "code",
   "execution_count": 18,
   "id": "significant-buying",
   "metadata": {},
   "outputs": [],
   "source": [
    "# load models from file\n",
    "def load_all_models(n_models):\n",
    "    all_models = list()\n",
    "    for i in range(n_models):\n",
    "        # define filename for this ensemble\n",
    "        filename = 'models/model_' + str(i + 1) + '.h5'\n",
    "        # load model from file\n",
    "        model = keras.models.load_model(filename)\n",
    "        # add to list of members\n",
    "        all_models.append(model)\n",
    "        print('>loaded %s' % filename)\n",
    "    return all_models"
   ]
  },
  {
   "cell_type": "markdown",
   "id": "settled-absence",
   "metadata": {},
   "source": [
    "...jetzt laden wir die Modelle wieder:"
   ]
  },
  {
   "cell_type": "code",
   "execution_count": 19,
   "id": "alleged-buyer",
   "metadata": {},
   "outputs": [
    {
     "name": "stdout",
     "output_type": "stream",
     "text": [
      ">loaded models/model_1.h5\n",
      ">loaded models/model_2.h5\n",
      ">loaded models/model_3.h5\n",
      ">loaded models/model_4.h5\n",
      ">loaded models/model_5.h5\n",
      "Loaded 5 models\n"
     ]
    }
   ],
   "source": [
    "# load all models\n",
    "n_members = 5\n",
    "members = load_all_models(n_members)\n",
    "print('Loaded %d models' % len(members))"
   ]
  },
  {
   "cell_type": "markdown",
   "id": "differential-local",
   "metadata": {},
   "source": [
    "die Modelle können jetzt einzeln ausgewertet oder für Prognosen verwendet werden:"
   ]
  },
  {
   "cell_type": "code",
   "execution_count": 20,
   "id": "sexual-branch",
   "metadata": {},
   "outputs": [
    {
     "name": "stdout",
     "output_type": "stream",
     "text": [
      "3/3 [==============================] - 0s 1ms/step - loss: 0.7882 - accuracy: 0.7444\n",
      "Model Accuracy: 0.744\n",
      "3/3 [==============================] - 0s 1ms/step - loss: 0.7899 - accuracy: 0.7333\n",
      "Model Accuracy: 0.733\n",
      "WARNING:tensorflow:5 out of the last 9010 calls to <function Model.make_test_function.<locals>.test_function at 0x7fed40265430> triggered tf.function retracing. Tracing is expensive and the excessive number of tracings could be due to (1) creating @tf.function repeatedly in a loop, (2) passing tensors with different shapes, (3) passing Python objects instead of tensors. For (1), please define your @tf.function outside of the loop. For (2), @tf.function has experimental_relax_shapes=True option that relaxes argument shapes that can avoid unnecessary retracing. For (3), please refer to https://www.tensorflow.org/guide/function#controlling_retracing and https://www.tensorflow.org/api_docs/python/tf/function for  more details.\n",
      "3/3 [==============================] - 0s 2ms/step - loss: 0.7068 - accuracy: 0.7222\n",
      "Model Accuracy: 0.722\n",
      "WARNING:tensorflow:5 out of the last 13 calls to <function Model.make_test_function.<locals>.test_function at 0x7fed402654c0> triggered tf.function retracing. Tracing is expensive and the excessive number of tracings could be due to (1) creating @tf.function repeatedly in a loop, (2) passing tensors with different shapes, (3) passing Python objects instead of tensors. For (1), please define your @tf.function outside of the loop. For (2), @tf.function has experimental_relax_shapes=True option that relaxes argument shapes that can avoid unnecessary retracing. For (3), please refer to https://www.tensorflow.org/guide/function#controlling_retracing and https://www.tensorflow.org/api_docs/python/tf/function for  more details.\n",
      "3/3 [==============================] - 0s 1ms/step - loss: 0.7911 - accuracy: 0.7333\n",
      "Model Accuracy: 0.733\n",
      "WARNING:tensorflow:5 out of the last 13 calls to <function Model.make_test_function.<locals>.test_function at 0x7fed515b8af0> triggered tf.function retracing. Tracing is expensive and the excessive number of tracings could be due to (1) creating @tf.function repeatedly in a loop, (2) passing tensors with different shapes, (3) passing Python objects instead of tensors. For (1), please define your @tf.function outside of the loop. For (2), @tf.function has experimental_relax_shapes=True option that relaxes argument shapes that can avoid unnecessary retracing. For (3), please refer to https://www.tensorflow.org/guide/function#controlling_retracing and https://www.tensorflow.org/api_docs/python/tf/function for  more details.\n",
      "3/3 [==============================] - 0s 1ms/step - loss: 0.7809 - accuracy: 0.7444\n",
      "Model Accuracy: 0.744\n"
     ]
    }
   ],
   "source": [
    "# evaluate standalone models on test dataset\n",
    "for model in members:\n",
    "\n",
    "    lossEns,accEns = model.evaluate(X_test_H, y_test_H_bin)\n",
    "    print('Model Accuracy: %.3f' % accEns)"
   ]
  },
  {
   "cell_type": "code",
   "execution_count": 21,
   "id": "cathedral-affiliate",
   "metadata": {},
   "outputs": [
    {
     "name": "stdout",
     "output_type": "stream",
     "text": [
      "WARNING:tensorflow:5 out of the last 13 calls to <function Model.make_predict_function.<locals>.predict_function at 0x7fed70289940> triggered tf.function retracing. Tracing is expensive and the excessive number of tracings could be due to (1) creating @tf.function repeatedly in a loop, (2) passing tensors with different shapes, (3) passing Python objects instead of tensors. For (1), please define your @tf.function outside of the loop. For (2), @tf.function has experimental_relax_shapes=True option that relaxes argument shapes that can avoid unnecessary retracing. For (3), please refer to https://www.tensorflow.org/guide/function#controlling_retracing and https://www.tensorflow.org/api_docs/python/tf/function for  more details.\n"
     ]
    }
   ],
   "source": [
    "# predict with standalone models on test dataset\n",
    "all_y_hat = list()\n",
    "all_y_hat_score=list()\n",
    "\n",
    "for model in members:\n",
    "\n",
    "    y_hat = model.predict(X_test_H)\n",
    "    y_hat_score=np.round(y_hat) #score for class =1 else 0\n",
    "    all_y_hat.append(y_hat)\n",
    "    all_y_hat_score.append(y_hat_score)\n",
    "    "
   ]
  },
  {
   "cell_type": "code",
   "execution_count": 22,
   "id": "historic-stone",
   "metadata": {},
   "outputs": [
    {
     "data": {
      "text/plain": [
       "(5, 90, 2)"
      ]
     },
     "execution_count": 22,
     "metadata": {},
     "output_type": "execute_result"
    }
   ],
   "source": [
    "np.shape(all_y_hat)\n",
    "\n",
    "#all_y_hat[3]"
   ]
  },
  {
   "cell_type": "markdown",
   "id": "growing-account",
   "metadata": {},
   "source": [
    "der score kann für jedes Modell einzeln berechnet werden aus den Predictions:"
   ]
  },
  {
   "cell_type": "code",
   "execution_count": 23,
   "id": "willing-equity",
   "metadata": {},
   "outputs": [
    {
     "data": {
      "text/plain": [
       "74.44444444444444"
      ]
     },
     "execution_count": 23,
     "metadata": {},
     "output_type": "execute_result"
    }
   ],
   "source": [
    "test_accuracyEns = accuracy_score(all_y_hat_score[0],y_test_H_bin)*100\n",
    "test_accuracyEns"
   ]
  },
  {
   "cell_type": "markdown",
   "id": "comparative-relative",
   "metadata": {},
   "source": [
    "### Aufgabe 2)\n",
    "\n",
    "Für eine Ensemble-Prognose muß man irgendwie die Mehrheitsentscheidung berechnen (im Fall einer Regression tut es der Mittelwert).\n",
    "\n",
    "- Berechnen Sie eine Ensemble-Prognose aus der Mehrheitsentscheidung.\n",
    "- Wie schneidet das Ensemble-Modell ab?"
   ]
  },
  {
   "cell_type": "code",
   "execution_count": null,
   "id": "veterinary-philosophy",
   "metadata": {},
   "outputs": [],
   "source": []
  },
  {
   "cell_type": "code",
   "execution_count": null,
   "id": "communist-context",
   "metadata": {},
   "outputs": [],
   "source": []
  }
 ],
 "metadata": {
  "kernelspec": {
   "display_name": "Python 3",
   "language": "python",
   "name": "python3"
  },
  "language_info": {
   "codemirror_mode": {
    "name": "ipython",
    "version": 3
   },
   "file_extension": ".py",
   "mimetype": "text/x-python",
   "name": "python",
   "nbconvert_exporter": "python",
   "pygments_lexer": "ipython3",
   "version": "3.8.7"
  }
 },
 "nbformat": 4,
 "nbformat_minor": 5
}
