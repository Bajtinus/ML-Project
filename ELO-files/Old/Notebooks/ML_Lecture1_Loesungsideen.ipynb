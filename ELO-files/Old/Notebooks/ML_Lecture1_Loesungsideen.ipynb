{
 "cells": [
  {
   "cell_type": "markdown",
   "id": "grateful-queue",
   "metadata": {},
   "source": [
    "## Lecture 1 - Lösungsvorschläge"
   ]
  },
  {
   "cell_type": "code",
   "execution_count": 1,
   "id": "likely-repeat",
   "metadata": {},
   "outputs": [],
   "source": [
    "import pandas as pd\n",
    "import numpy as np\n",
    "import matplotlib as mpl\n",
    "import matplotlib.pyplot as plt\n",
    "import sklearn as sl\n",
    "from sklearn.metrics import mean_squared_error \n",
    "\n",
    "%matplotlib inline\n",
    "import scipy as sc\n",
    "import math as ma\n",
    "from scipy import linalg, optimize, constants, interpolate, special, stats\n",
    "from math import exp, pow, sqrt, log\n",
    "\n",
    "import seaborn as sns #spezielle Graphikdarstellungen\n",
    "import statsmodels.api as sm\n",
    "import statsmodels.stats.api as sms"
   ]
  },
  {
   "cell_type": "markdown",
   "id": "cooperative-bottom",
   "metadata": {},
   "source": [
    "## Load Datset"
   ]
  },
  {
   "cell_type": "code",
   "execution_count": 2,
   "id": "innovative-million",
   "metadata": {},
   "outputs": [
    {
     "data": {
      "text/html": [
       "<div>\n",
       "<style scoped>\n",
       "    .dataframe tbody tr th:only-of-type {\n",
       "        vertical-align: middle;\n",
       "    }\n",
       "\n",
       "    .dataframe tbody tr th {\n",
       "        vertical-align: top;\n",
       "    }\n",
       "\n",
       "    .dataframe thead th {\n",
       "        text-align: right;\n",
       "    }\n",
       "</style>\n",
       "<table border=\"1\" class=\"dataframe\">\n",
       "  <thead>\n",
       "    <tr style=\"text-align: right;\">\n",
       "      <th></th>\n",
       "      <th>age</th>\n",
       "      <th>sex</th>\n",
       "      <th>bmi</th>\n",
       "      <th>bp</th>\n",
       "      <th>s1</th>\n",
       "      <th>s2</th>\n",
       "      <th>s3</th>\n",
       "      <th>s4</th>\n",
       "      <th>s5</th>\n",
       "      <th>s6</th>\n",
       "      <th>Target</th>\n",
       "    </tr>\n",
       "  </thead>\n",
       "  <tbody>\n",
       "    <tr>\n",
       "      <th>0</th>\n",
       "      <td>0.038076</td>\n",
       "      <td>0.050680</td>\n",
       "      <td>0.061696</td>\n",
       "      <td>0.021872</td>\n",
       "      <td>-0.044223</td>\n",
       "      <td>-0.034821</td>\n",
       "      <td>-0.043401</td>\n",
       "      <td>-0.002592</td>\n",
       "      <td>0.019908</td>\n",
       "      <td>-0.017646</td>\n",
       "      <td>151.0</td>\n",
       "    </tr>\n",
       "    <tr>\n",
       "      <th>1</th>\n",
       "      <td>-0.001882</td>\n",
       "      <td>-0.044642</td>\n",
       "      <td>-0.051474</td>\n",
       "      <td>-0.026328</td>\n",
       "      <td>-0.008449</td>\n",
       "      <td>-0.019163</td>\n",
       "      <td>0.074412</td>\n",
       "      <td>-0.039493</td>\n",
       "      <td>-0.068330</td>\n",
       "      <td>-0.092204</td>\n",
       "      <td>75.0</td>\n",
       "    </tr>\n",
       "    <tr>\n",
       "      <th>2</th>\n",
       "      <td>0.085299</td>\n",
       "      <td>0.050680</td>\n",
       "      <td>0.044451</td>\n",
       "      <td>-0.005671</td>\n",
       "      <td>-0.045599</td>\n",
       "      <td>-0.034194</td>\n",
       "      <td>-0.032356</td>\n",
       "      <td>-0.002592</td>\n",
       "      <td>0.002864</td>\n",
       "      <td>-0.025930</td>\n",
       "      <td>141.0</td>\n",
       "    </tr>\n",
       "    <tr>\n",
       "      <th>3</th>\n",
       "      <td>-0.089063</td>\n",
       "      <td>-0.044642</td>\n",
       "      <td>-0.011595</td>\n",
       "      <td>-0.036656</td>\n",
       "      <td>0.012191</td>\n",
       "      <td>0.024991</td>\n",
       "      <td>-0.036038</td>\n",
       "      <td>0.034309</td>\n",
       "      <td>0.022692</td>\n",
       "      <td>-0.009362</td>\n",
       "      <td>206.0</td>\n",
       "    </tr>\n",
       "    <tr>\n",
       "      <th>4</th>\n",
       "      <td>0.005383</td>\n",
       "      <td>-0.044642</td>\n",
       "      <td>-0.036385</td>\n",
       "      <td>0.021872</td>\n",
       "      <td>0.003935</td>\n",
       "      <td>0.015596</td>\n",
       "      <td>0.008142</td>\n",
       "      <td>-0.002592</td>\n",
       "      <td>-0.031991</td>\n",
       "      <td>-0.046641</td>\n",
       "      <td>135.0</td>\n",
       "    </tr>\n",
       "    <tr>\n",
       "      <th>...</th>\n",
       "      <td>...</td>\n",
       "      <td>...</td>\n",
       "      <td>...</td>\n",
       "      <td>...</td>\n",
       "      <td>...</td>\n",
       "      <td>...</td>\n",
       "      <td>...</td>\n",
       "      <td>...</td>\n",
       "      <td>...</td>\n",
       "      <td>...</td>\n",
       "      <td>...</td>\n",
       "    </tr>\n",
       "    <tr>\n",
       "      <th>437</th>\n",
       "      <td>0.041708</td>\n",
       "      <td>0.050680</td>\n",
       "      <td>0.019662</td>\n",
       "      <td>0.059744</td>\n",
       "      <td>-0.005697</td>\n",
       "      <td>-0.002566</td>\n",
       "      <td>-0.028674</td>\n",
       "      <td>-0.002592</td>\n",
       "      <td>0.031193</td>\n",
       "      <td>0.007207</td>\n",
       "      <td>178.0</td>\n",
       "    </tr>\n",
       "    <tr>\n",
       "      <th>438</th>\n",
       "      <td>-0.005515</td>\n",
       "      <td>0.050680</td>\n",
       "      <td>-0.015906</td>\n",
       "      <td>-0.067642</td>\n",
       "      <td>0.049341</td>\n",
       "      <td>0.079165</td>\n",
       "      <td>-0.028674</td>\n",
       "      <td>0.034309</td>\n",
       "      <td>-0.018118</td>\n",
       "      <td>0.044485</td>\n",
       "      <td>104.0</td>\n",
       "    </tr>\n",
       "    <tr>\n",
       "      <th>439</th>\n",
       "      <td>0.041708</td>\n",
       "      <td>0.050680</td>\n",
       "      <td>-0.015906</td>\n",
       "      <td>0.017282</td>\n",
       "      <td>-0.037344</td>\n",
       "      <td>-0.013840</td>\n",
       "      <td>-0.024993</td>\n",
       "      <td>-0.011080</td>\n",
       "      <td>-0.046879</td>\n",
       "      <td>0.015491</td>\n",
       "      <td>132.0</td>\n",
       "    </tr>\n",
       "    <tr>\n",
       "      <th>440</th>\n",
       "      <td>-0.045472</td>\n",
       "      <td>-0.044642</td>\n",
       "      <td>0.039062</td>\n",
       "      <td>0.001215</td>\n",
       "      <td>0.016318</td>\n",
       "      <td>0.015283</td>\n",
       "      <td>-0.028674</td>\n",
       "      <td>0.026560</td>\n",
       "      <td>0.044528</td>\n",
       "      <td>-0.025930</td>\n",
       "      <td>220.0</td>\n",
       "    </tr>\n",
       "    <tr>\n",
       "      <th>441</th>\n",
       "      <td>-0.045472</td>\n",
       "      <td>-0.044642</td>\n",
       "      <td>-0.073030</td>\n",
       "      <td>-0.081414</td>\n",
       "      <td>0.083740</td>\n",
       "      <td>0.027809</td>\n",
       "      <td>0.173816</td>\n",
       "      <td>-0.039493</td>\n",
       "      <td>-0.004220</td>\n",
       "      <td>0.003064</td>\n",
       "      <td>57.0</td>\n",
       "    </tr>\n",
       "  </tbody>\n",
       "</table>\n",
       "<p>442 rows × 11 columns</p>\n",
       "</div>"
      ],
      "text/plain": [
       "          age       sex       bmi        bp        s1        s2        s3  \\\n",
       "0    0.038076  0.050680  0.061696  0.021872 -0.044223 -0.034821 -0.043401   \n",
       "1   -0.001882 -0.044642 -0.051474 -0.026328 -0.008449 -0.019163  0.074412   \n",
       "2    0.085299  0.050680  0.044451 -0.005671 -0.045599 -0.034194 -0.032356   \n",
       "3   -0.089063 -0.044642 -0.011595 -0.036656  0.012191  0.024991 -0.036038   \n",
       "4    0.005383 -0.044642 -0.036385  0.021872  0.003935  0.015596  0.008142   \n",
       "..        ...       ...       ...       ...       ...       ...       ...   \n",
       "437  0.041708  0.050680  0.019662  0.059744 -0.005697 -0.002566 -0.028674   \n",
       "438 -0.005515  0.050680 -0.015906 -0.067642  0.049341  0.079165 -0.028674   \n",
       "439  0.041708  0.050680 -0.015906  0.017282 -0.037344 -0.013840 -0.024993   \n",
       "440 -0.045472 -0.044642  0.039062  0.001215  0.016318  0.015283 -0.028674   \n",
       "441 -0.045472 -0.044642 -0.073030 -0.081414  0.083740  0.027809  0.173816   \n",
       "\n",
       "           s4        s5        s6  Target  \n",
       "0   -0.002592  0.019908 -0.017646   151.0  \n",
       "1   -0.039493 -0.068330 -0.092204    75.0  \n",
       "2   -0.002592  0.002864 -0.025930   141.0  \n",
       "3    0.034309  0.022692 -0.009362   206.0  \n",
       "4   -0.002592 -0.031991 -0.046641   135.0  \n",
       "..        ...       ...       ...     ...  \n",
       "437 -0.002592  0.031193  0.007207   178.0  \n",
       "438  0.034309 -0.018118  0.044485   104.0  \n",
       "439 -0.011080 -0.046879  0.015491   132.0  \n",
       "440  0.026560  0.044528 -0.025930   220.0  \n",
       "441 -0.039493 -0.004220  0.003064    57.0  \n",
       "\n",
       "[442 rows x 11 columns]"
      ]
     },
     "execution_count": 2,
     "metadata": {},
     "output_type": "execute_result"
    }
   ],
   "source": [
    "from sklearn.datasets import load_diabetes\n",
    "\n",
    "\n",
    "# Load the Diabetes dataset\n",
    "diabetes = load_diabetes()\n",
    "\n",
    "# The dataset is stored as a dictionary-like object with various attributes\n",
    "# You can access the data, target, feature names, and other information from the dictionary\n",
    "data = diabetes.data  # Features\n",
    "target = diabetes.target  # Target (diabetes progression)\n",
    "feature_names = diabetes.feature_names  # Feature names\n",
    "\n",
    "# Create a Pandas DataFrame to work with the data more easily (optional)\n",
    "diabetes_df = pd.DataFrame(data, columns=feature_names)\n",
    "diabetes_df['Target'] = target  # Adding the target column\n",
    "\n",
    "# Display the first few rows of the DataFrame with the Input Features\n",
    "diabetes_df\n"
   ]
  },
  {
   "cell_type": "code",
   "execution_count": 3,
   "id": "applicable-address",
   "metadata": {},
   "outputs": [],
   "source": [
    "from sklearn.model_selection import train_test_split\n",
    "\n",
    "# Assuming you have a single DataFrame 'df' with features and target\n",
    "X = diabetes_df['bmi'] # Features (all columns except the target)\n",
    "y = diabetes_df['Target']  # Target variable\n"
   ]
  },
  {
   "cell_type": "markdown",
   "id": "fixed-locator",
   "metadata": {},
   "source": [
    "### Aufgabe 1) Einfluß der Größe der Trainingsmenge\n",
    "\n",
    "Bisher haben wir 25% der Daten zum Testen zurückbehalten und auf dem Rest trainiert.\n",
    "\n",
    "- Variieren Sie die Größe der Trainingsmenge zwischen 50% und 90% in einer Schleife\n",
    "- Lassen Sie sich die Trainings- und Testfehler in eine Liste schreiben\n",
    "- Erstellen Sie 3 Plots:\n",
    "\n",
    "    1) RMSE für die Trainings- und Testmenge aufgetragen gegen die Größe der Testmenge  \n",
    "    2) $\\rho$ für die Trainings- und Testmenge aufgetragen gegen die Größe der Testmenge  \n",
    "    3) bias für die Trainings- und Testmenge aufgetragen gegen die Größe der Testmenge  \n",
    "    \n",
    "\n",
    "- Gibt es eine optimale Aufteilung?"
   ]
  },
  {
   "cell_type": "code",
   "execution_count": null,
   "id": "tested-birmingham",
   "metadata": {},
   "outputs": [],
   "source": []
  },
  {
   "cell_type": "code",
   "execution_count": 4,
   "id": "scenic-drinking",
   "metadata": {},
   "outputs": [],
   "source": [
    "# initialize the empty arrays\n",
    "percentage_te = []\n",
    "RMSE_tr_list = []\n",
    "RMSE_te_list = []\n",
    "Residuals_tr = []\n",
    "Residuals_te = []\n",
    "Data_List_tr = []\n",
    "\n",
    "# Your loop over the variable k\n",
    "# You need to specify the value of num_iterations\n",
    "num_iterations=90\n",
    "\n",
    "for k in range(10, num_iterations + 1):  \n",
    "    \n",
    "    percentage=k/100;\n",
    "    X_train_bmi_1, X_test_bmi_1, y_train, y_test = train_test_split(X, y, test_size=percentage);\n",
    "    dataList=np.transpose(np.array([X_train_bmi_1,y_train]))\n",
    "    \n",
    "    X_train_bmi = sm.add_constant(X_train_bmi_1)\n",
    "    X_test_bmi = sm.add_constant(X_test_bmi_1)\n",
    "    \n",
    "    olsmod_LinReg = sm.OLS(y_train, X_train_bmi)\n",
    "    olsres_LinReg = olsmod_LinReg.fit()\n",
    "\n",
    "    y_hat_LinReg_tr = olsres_LinReg.predict(X_train_bmi)\n",
    "    y_hat_LinReg_te = olsres_LinReg.predict(X_test_bmi)\n",
    "\n",
    "    rmseLMTr = sqrt(mean_squared_error(y_train, y_hat_LinReg_tr))\n",
    "    rmseLMTe = sqrt(mean_squared_error(y_test, y_hat_LinReg_te))\n",
    "    \n",
    "    \n",
    "    percentage_te.append(1-percentage)\n",
    "    RMSE_tr_list.append(rmseLMTr)\n",
    "    RMSE_te_list.append(rmseLMTe)\n",
    "    Residuals_tr.append(y_train - y_hat_LinReg_tr)\n",
    "    Residuals_te.append(y_test - y_hat_LinReg_te)\n",
    "    Data_List_tr.append(dataList)\n",
    "\n",
    "\n"
   ]
  },
  {
   "cell_type": "code",
   "execution_count": 5,
   "id": "forced-criticism",
   "metadata": {},
   "outputs": [],
   "source": [
    "Residuals_te;"
   ]
  },
  {
   "cell_type": "code",
   "execution_count": 6,
   "id": "intellectual-fortune",
   "metadata": {},
   "outputs": [
    {
     "data": {
      "image/png": "[encoded data removed]",
      "text/plain": [
       "<Figure size 480x480 with 1 Axes>"
      ]
     },
     "metadata": {
      "needs_background": "light"
     },
     "output_type": "display_data"
    }
   ],
   "source": [
    "# Plot size\n",
    "plt.figure(figsize=(6, 6), dpi=80)\n",
    "\n",
    "plt.plot(RMSE_tr_list,  label='Train Loss');\n",
    "plt.plot(RMSE_te_list, label='Test Loss');\n",
    "\n",
    "plt.xlabel('percentage train set')\n",
    "plt.ylabel('RMSE') \n",
    "plt.title('Comparison of Train/Test RMSE on variable ')\n",
    "\n",
    "#position of labels\n",
    "plt.legend(); \n",
    "\n"
   ]
  },
  {
   "cell_type": "code",
   "execution_count": 7,
   "id": "combined-bacteria",
   "metadata": {},
   "outputs": [
    {
     "data": {
      "image/png": "[encoded data removed]",
      "text/plain": [
       "<Figure size 360x360 with 1 Axes>"
      ]
     },
     "metadata": {
      "needs_background": "light"
     },
     "output_type": "display_data"
    }
   ],
   "source": [
    "sns.displot(Residuals_te[1]);"
   ]
  },
  {
   "cell_type": "code",
   "execution_count": 8,
   "id": "severe-serbia",
   "metadata": {},
   "outputs": [
    {
     "data": {
      "text/plain": [
       "81"
      ]
     },
     "execution_count": 8,
     "metadata": {},
     "output_type": "execute_result"
    }
   ],
   "source": [
    "len(Residuals_te)"
   ]
  },
  {
   "cell_type": "code",
   "execution_count": 12,
   "id": "valuable-satellite",
   "metadata": {},
   "outputs": [
    {
     "data": {
      "image/png": "[encoded data removed]",
      "text/plain": [
       "<Figure size 432x288 with 1 Axes>"
      ]
     },
     "metadata": {},
     "output_type": "display_data"
    },
    {
     "data": {
      "image/png": "[encoded data removed]",
      "text/plain": [
       "<Figure size 432x288 with 1 Axes>"
      ]
     },
     "metadata": {
      "needs_background": "light"
     },
     "output_type": "display_data"
    }
   ],
   "source": [
    "import numpy as np\n",
    "import matplotlib.pyplot as plt\n",
    "from IPython.display import display, clear_output\n",
    "import time\n",
    "\n",
    "# Assuming you have an array 'data' with 50 lists\n",
    "# Modify this array with your data\n",
    "data = Residuals_te;\n",
    "\n",
    "# Create a figure and axis for the plot\n",
    "fig, ax = plt.subplots()\n",
    "ax.set_xlim(-200, 200)\n",
    "ax.set_ylim(0, 100)\n",
    "\n",
    "# Create an empty histogram for the initial frame\n",
    "hist, bins, _ = ax.hist([])\n",
    "\n",
    "# Function to update the histogram for each frame\n",
    "def update(frame):\n",
    "    ax.cla()  # Clear the axis for the new frame\n",
    "\n",
    "    # Plot the histogram for a specific list in the data array\n",
    "    hist, bins, _ = ax.hist(data[frame], range=(-200, 200),density=True)\n",
    "    \n",
    "    # Customize the plot\n",
    "    ax.set_title(f'Histogram - Test Residuals (run {frame + 1})')\n",
    "    ax.set_xlabel('Value')\n",
    "    ax.set_ylabel('Density')\n",
    "    #ax.grid(True)\n",
    "    # Set fixed x-axis and y-axis limits for each frame\n",
    "    ax.set_xlim(-200, 200)\n",
    "    ax.set_ylim(0, 0.009)\n",
    "\n",
    "    # Display the plot and clear the output for the next frame\n",
    "    clear_output(wait=True)\n",
    "    display(fig)\n",
    "    time.sleep(0.1)  # Adjust the sleep duration to control the animation speed\n",
    "\n",
    "# Iterate through the frames and update the plot\n",
    "for frame in range(len(data)):\n",
    "    update(frame)\n"
   ]
  },
  {
   "cell_type": "markdown",
   "id": "alleged-pharmacy",
   "metadata": {},
   "source": [
    "### Aufgabe 2) Exponentielles Modell\n",
    "\n",
    "Wir haben in der Vorlesung gesehen, daß es mit Hilfe der gleichen Lösungsmethodik möglich ist auch ein exponentielles Modell zu schätzen\n",
    "\n",
    "$y=b_0\\cdot e^{b_1x}$\n",
    "\n",
    "indem man logarithmiert:\n",
    "\n",
    "$\\ln{(y)}=\\ln{(b_0)}+b_1x$\n",
    "\n",
    "und die Variablentransformationen\n",
    "\n",
    "$\\tilde{y}=\\ln{(y)}$ sowie $\\tilde{b_0}=\\ln{(b_0)}$ einführt.  \n",
    "\n",
    "- Transformieren Sie die Zielgröße und schätzen Sie die Parameter des exponentiellen Modelles.\n",
    "- Stellen Sie die Prognosen graphisch dar\n",
    "- Analysieren Sie die Residuen graphisch (Histogramm, Scatter Plot output vs. target...)\n",
    "- Werten Sie das exponentielle Modell auf der Trainings- und Testmenge aus indem Sie quantitative Performance-Metriken bestimmen.\n",
    "- Wie schneidet das Modell im Vergleich zur linearen Einfachregression ab?\n",
    "- Wiederholen Sie die Analyse von Aufgabe 1) für das exponentielle Modell\n",
    "- Vergleichen Sie die Ergebnisse"
   ]
  },
  {
   "cell_type": "markdown",
   "id": "ceramic-wilson",
   "metadata": {},
   "source": [
    "Lösung ganz analog mit logarithmierter Zielgröße Target=y..."
   ]
  },
  {
   "cell_type": "code",
   "execution_count": null,
   "id": "challenging-feedback",
   "metadata": {},
   "outputs": [],
   "source": []
  }
 ],
 "metadata": {
  "kernelspec": {
   "display_name": "Python 3",
   "language": "python",
   "name": "python3"
  },
  "language_info": {
   "codemirror_mode": {
    "name": "ipython",
    "version": 3
   },
   "file_extension": ".py",
   "mimetype": "text/x-python",
   "name": "python",
   "nbconvert_exporter": "python",
   "pygments_lexer": "ipython3",
   "version": "3.8.7"
  }
 },
 "nbformat": 4,
 "nbformat_minor": 5
}
