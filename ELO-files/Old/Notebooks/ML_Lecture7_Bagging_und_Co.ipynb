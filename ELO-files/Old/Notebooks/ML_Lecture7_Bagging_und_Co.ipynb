{
 "cells": [
  {
   "cell_type": "markdown",
   "id": "detailed-montana",
   "metadata": {},
   "source": [
    "# Lecture 7) Bagging, Random Forests & Boosting"
   ]
  },
  {
   "cell_type": "code",
   "execution_count": 1,
   "id": "laden-million",
   "metadata": {},
   "outputs": [],
   "source": [
    "import pandas as pd\n",
    "import numpy as np\n",
    "import matplotlib as mpl\n",
    "import matplotlib.pyplot as plt\n",
    "import sklearn as sl\n",
    "\n",
    "from sklearn.model_selection import train_test_split\n",
    "from sklearn.metrics import roc_curve, roc_auc_score, classification_report, accuracy_score, confusion_matrix\n",
    "from sklearn.metrics import mean_squared_error\n",
    "from sklearn import metrics\n",
    "from sklearn.preprocessing import MinMaxScaler\n",
    "from sklearn.preprocessing import PolynomialFeatures\n",
    "from sklearn.linear_model import LogisticRegression\n",
    "from sklearn.discriminant_analysis import LinearDiscriminantAnalysis as LDA\n",
    "from sklearn.discriminant_analysis import QuadraticDiscriminantAnalysis as QDA\n",
    "from sklearn import neighbors\n",
    "from sklearn.model_selection import cross_val_score\n",
    "from sklearn import linear_model\n",
    "\n",
    "from sklearn import tree\n",
    "from sklearn.tree import DecisionTreeClassifier\n",
    "from sklearn.tree import DecisionTreeRegressor\n",
    "\n",
    "from sklearn.ensemble import BaggingRegressor\n",
    "from sklearn.ensemble import BaggingClassifier\n",
    "\n",
    "from sklearn.ensemble import RandomForestClassifier\n",
    "from sklearn.ensemble import RandomForestRegressor\n",
    "\n",
    "from sklearn.ensemble import AdaBoostClassifier\n",
    "from sklearn.ensemble import AdaBoostRegressor\n",
    "\n",
    "from sklearn.ensemble import GradientBoostingClassifier\n",
    "from sklearn.ensemble import GradientBoostingRegressor\n",
    "\n",
    "\n",
    "%matplotlib inline\n",
    "import scipy as sc\n",
    "import math as ma\n",
    "from scipy import linalg, optimize, constants, interpolate, special, stats\n",
    "from math import exp, pow, sqrt, log\n",
    "\n",
    "import seaborn as sns #spezielle Graphikdarstellungen\n",
    "import statsmodels.api as sm\n",
    "import statsmodels.stats.api as sms\n",
    "\n"
   ]
  },
  {
   "cell_type": "markdown",
   "id": "important-lingerie",
   "metadata": {},
   "source": [
    "Decision Trees haben viele Vorteile, aber liefern unter Umständen nicht die allerbesten Prognosen.\n",
    "\n",
    "Dagegen kann man was tun :-)"
   ]
  },
  {
   "cell_type": "markdown",
   "id": "threaded-buffer",
   "metadata": {},
   "source": [
    "### 7.1) Bagging"
   ]
  },
  {
   "cell_type": "markdown",
   "id": "aggregate-porter",
   "metadata": {},
   "source": [
    "Wir starten mit einer Variante des Bagging für einen Regression Tree.\n",
    "Dafür haben wir beim letzten Mal den Auto-Datensatz verwendet..."
   ]
  },
  {
   "cell_type": "code",
   "execution_count": 2,
   "id": "delayed-sunglasses",
   "metadata": {},
   "outputs": [
    {
     "data": {
      "text/html": [
       "<div>\n",
       "<style scoped>\n",
       "    .dataframe tbody tr th:only-of-type {\n",
       "        vertical-align: middle;\n",
       "    }\n",
       "\n",
       "    .dataframe tbody tr th {\n",
       "        vertical-align: top;\n",
       "    }\n",
       "\n",
       "    .dataframe thead th {\n",
       "        text-align: right;\n",
       "    }\n",
       "</style>\n",
       "<table border=\"1\" class=\"dataframe\">\n",
       "  <thead>\n",
       "    <tr style=\"text-align: right;\">\n",
       "      <th></th>\n",
       "      <th>mpg</th>\n",
       "      <th>cylinders</th>\n",
       "      <th>displacement</th>\n",
       "      <th>horsepower</th>\n",
       "      <th>weight</th>\n",
       "      <th>acceleration</th>\n",
       "      <th>year</th>\n",
       "      <th>origin</th>\n",
       "      <th>name</th>\n",
       "    </tr>\n",
       "  </thead>\n",
       "  <tbody>\n",
       "    <tr>\n",
       "      <th>0</th>\n",
       "      <td>18.0</td>\n",
       "      <td>8</td>\n",
       "      <td>307.0</td>\n",
       "      <td>130</td>\n",
       "      <td>3504</td>\n",
       "      <td>12.0</td>\n",
       "      <td>70</td>\n",
       "      <td>1</td>\n",
       "      <td>chevrolet chevelle malibu</td>\n",
       "    </tr>\n",
       "    <tr>\n",
       "      <th>1</th>\n",
       "      <td>15.0</td>\n",
       "      <td>8</td>\n",
       "      <td>350.0</td>\n",
       "      <td>165</td>\n",
       "      <td>3693</td>\n",
       "      <td>11.5</td>\n",
       "      <td>70</td>\n",
       "      <td>1</td>\n",
       "      <td>buick skylark 320</td>\n",
       "    </tr>\n",
       "    <tr>\n",
       "      <th>2</th>\n",
       "      <td>18.0</td>\n",
       "      <td>8</td>\n",
       "      <td>318.0</td>\n",
       "      <td>150</td>\n",
       "      <td>3436</td>\n",
       "      <td>11.0</td>\n",
       "      <td>70</td>\n",
       "      <td>1</td>\n",
       "      <td>plymouth satellite</td>\n",
       "    </tr>\n",
       "    <tr>\n",
       "      <th>3</th>\n",
       "      <td>16.0</td>\n",
       "      <td>8</td>\n",
       "      <td>304.0</td>\n",
       "      <td>150</td>\n",
       "      <td>3433</td>\n",
       "      <td>12.0</td>\n",
       "      <td>70</td>\n",
       "      <td>1</td>\n",
       "      <td>amc rebel sst</td>\n",
       "    </tr>\n",
       "    <tr>\n",
       "      <th>4</th>\n",
       "      <td>17.0</td>\n",
       "      <td>8</td>\n",
       "      <td>302.0</td>\n",
       "      <td>140</td>\n",
       "      <td>3449</td>\n",
       "      <td>10.5</td>\n",
       "      <td>70</td>\n",
       "      <td>1</td>\n",
       "      <td>ford torino</td>\n",
       "    </tr>\n",
       "  </tbody>\n",
       "</table>\n",
       "</div>"
      ],
      "text/plain": [
       "    mpg  cylinders  displacement  horsepower  weight  acceleration  year  \\\n",
       "0  18.0          8         307.0         130    3504          12.0    70   \n",
       "1  15.0          8         350.0         165    3693          11.5    70   \n",
       "2  18.0          8         318.0         150    3436          11.0    70   \n",
       "3  16.0          8         304.0         150    3433          12.0    70   \n",
       "4  17.0          8         302.0         140    3449          10.5    70   \n",
       "\n",
       "   origin                       name  \n",
       "0       1  chevrolet chevelle malibu  \n",
       "1       1          buick skylark 320  \n",
       "2       1         plymouth satellite  \n",
       "3       1              amc rebel sst  \n",
       "4       1                ford torino  "
      ]
     },
     "execution_count": 2,
     "metadata": {},
     "output_type": "execute_result"
    }
   ],
   "source": [
    "Auto = pd.read_csv(\"../Daten/Auto.csv\")\n",
    "Auto.head()"
   ]
  },
  {
   "cell_type": "code",
   "execution_count": 3,
   "id": "international-saying",
   "metadata": {},
   "outputs": [],
   "source": [
    "X=np.array(Auto[['cylinders','displacement','horsepower','weight','acceleration','year']])\n",
    "y=np.array(Auto['mpg'])"
   ]
  },
  {
   "cell_type": "code",
   "execution_count": 4,
   "id": "failing-spotlight",
   "metadata": {},
   "outputs": [],
   "source": [
    "X_train, X_test, y_train, y_test = train_test_split(X, y, test_size=0.3, shuffle='True')\n",
    "\n",
    "scaler = MinMaxScaler()\n",
    "X_train = scaler.fit_transform(X_train)\n",
    "X_test = scaler.transform(X_test)"
   ]
  },
  {
   "cell_type": "markdown",
   "id": "collective-stopping",
   "metadata": {},
   "source": [
    "Sklearn hat eine Funktion um für alle implementierten Regressionsmodelle Bagging anzuwenden.\n",
    "Es ist der BaggingRegressor aus den verfügbaren Ensemble-Verfahren.\n",
    "\n",
    "Es werden dabei aus der verfügbaren Trainingsmenge mit Hilfe von Bootstrapping $B$ verschiedene Trainingsmengen erzeugt.\n",
    "Die Anzahl der Trainingsmengen $B$ ist dabei ein Meta-Parameter (Option: n_estimators=B).\n",
    "\n",
    "Die finale Prognose wird dann als Mittelwert der $B$ Prädiktoren ermittelt:\n",
    "\n",
    "$\\hat{f}_{bag}(x)=\\frac{1}{B}\\sum_{b=1}^B \\hat{f}^{*b}(x)$\n",
    "\n",
    "Möchte man beim Bootstrapping mit Zurücklegen ziehen, muß man die Option bootstrap=True mitnehmen (default). Sonst wird ohne Zurücklegen gezogen und die Anzahl der Modelle ist damit automatisch beschränkt."
   ]
  },
  {
   "cell_type": "code",
   "execution_count": 5,
   "id": "stock-manor",
   "metadata": {},
   "outputs": [],
   "source": [
    "from sklearn.ensemble import BaggingRegressor\n",
    "\n",
    "AutoBagReg = BaggingRegressor(base_estimator=DecisionTreeRegressor(),\n",
    "                         n_estimators=10, random_state=0, bootstrap=True).fit(X_train, y_train)"
   ]
  },
  {
   "cell_type": "code",
   "execution_count": 6,
   "id": "specialized-missile",
   "metadata": {},
   "outputs": [],
   "source": [
    "y_hat_train_Bag = AutoBagReg.predict(X_train)\n",
    "y_hat_test_Bag = AutoBagReg.predict(X_test)\n",
    "y_hat_test_Bag;"
   ]
  },
  {
   "cell_type": "code",
   "execution_count": 7,
   "id": "scheduled-hello",
   "metadata": {},
   "outputs": [
    {
     "name": "stdout",
     "output_type": "stream",
     "text": [
      "Trainingsfehler: 1.0381923334814407\n",
      "Testfehler: 3.217419773669578\n"
     ]
    }
   ],
   "source": [
    "rmseTree_Bag_tr = sqrt(mean_squared_error(y_hat_train_Bag,y_train)) \n",
    "rmseTree_Bag_test = sqrt(mean_squared_error(y_hat_test_Bag,y_test)) \n",
    "\n",
    "print('Trainingsfehler:',rmseTree_Bag_tr)\n",
    "print('Testfehler:',rmseTree_Bag_test)"
   ]
  },
  {
   "cell_type": "markdown",
   "id": "assisted-underground",
   "metadata": {},
   "source": [
    "Als score der automatisch ausgegeben wird, hat sklearn den r2-score implementiert:"
   ]
  },
  {
   "cell_type": "code",
   "execution_count": 8,
   "id": "about-numbers",
   "metadata": {},
   "outputs": [
    {
     "data": {
      "text/plain": [
       "0.8342280151227657"
      ]
     },
     "execution_count": 8,
     "metadata": {},
     "output_type": "execute_result"
    }
   ],
   "source": [
    "AutoBagReg_test_r2=AutoBagReg.score(X_test,y_test)\n",
    "\n",
    "AutoBagReg_test_r2"
   ]
  },
  {
   "cell_type": "markdown",
   "id": "pressed-senegal",
   "metadata": {},
   "source": [
    "### Aufgabe 1)\n",
    "\n",
    "- Finden Sie heraus, für welche Anzahl von Modellen (n_estimators) man mit dem Verfahren den besten Testfehler erzielt."
   ]
  },
  {
   "cell_type": "code",
   "execution_count": null,
   "id": "unable-latter",
   "metadata": {},
   "outputs": [],
   "source": []
  },
  {
   "cell_type": "markdown",
   "id": "european-repair",
   "metadata": {},
   "source": [
    "Möchte man bewußt auf eine Testmenge verzichten, z.B. weil sehr wenig Daten zur Verfügung stehen, dann kann man den Testfehler mit Hilfe der Out-Of-Bag Fehlerschätzung berechnen.\n",
    "\n",
    "Dazu läßt man sich als score den OOB-Score (oob_score=True) ausgeben.\n",
    "Zu beachten ist, daß die Anzahl der Modelle nicht zu klein sein darf, weil sonst die OOB-Schätzung nicht mehr aussagekräftig ist."
   ]
  },
  {
   "cell_type": "code",
   "execution_count": 9,
   "id": "nutritional-electronics",
   "metadata": {},
   "outputs": [],
   "source": [
    "scalerOOB = MinMaxScaler()\n",
    "X_train_OOB = scaler.fit_transform(X_train)\n",
    "X_test_OOB = scaler.transform(X_test)\n",
    "y_train_OOB=y_train\n",
    "y_test_OOB=y_test\n",
    "#X_test = scaler.transform(X_test)"
   ]
  },
  {
   "cell_type": "code",
   "execution_count": 10,
   "id": "saved-storage",
   "metadata": {},
   "outputs": [
    {
     "name": "stderr",
     "output_type": "stream",
     "text": [
      "/Library/Frameworks/Python.framework/Versions/3.8/lib/python3.8/site-packages/sklearn/ensemble/_bagging.py:1069: UserWarning: Some inputs do not have OOB scores. This probably means too few estimators were used to compute any reliable oob estimates.\n",
      "  warn(\"Some inputs do not have OOB scores. \"\n"
     ]
    },
    {
     "data": {
      "text/plain": [
       "BaggingRegressor(base_estimator=DecisionTreeRegressor(), oob_score=True,\n",
       "                 random_state=0)"
      ]
     },
     "execution_count": 10,
     "metadata": {},
     "output_type": "execute_result"
    }
   ],
   "source": [
    "AutoBagReg_OOB = BaggingRegressor(base_estimator=DecisionTreeRegressor(),\n",
    "                         n_estimators=10, random_state=0, bootstrap=True, \n",
    "                                  oob_score=True)\n",
    "\n",
    "AutoBagReg_OOB.fit(X_train_OOB, y_train_OOB)"
   ]
  },
  {
   "cell_type": "markdown",
   "id": "charged-jacksonville",
   "metadata": {},
   "source": [
    "Als score wird für die OOB-samples der r2-score ausgegeben. Also das Quadrat der Pearson-Korrelation zwischen Output und Target."
   ]
  },
  {
   "cell_type": "code",
   "execution_count": 11,
   "id": "greatest-render",
   "metadata": {},
   "outputs": [],
   "source": [
    "#r2-score (OOB)\n",
    "AutoBagReg_OOB_r2=AutoBagReg_OOB.oob_score_\n",
    "\n",
    "#Pearson-Korrelation (OOB)\n",
    "corr_OOB=sqrt(AutoBagReg_OOB_r2)\n"
   ]
  },
  {
   "cell_type": "markdown",
   "id": "informal-teaching",
   "metadata": {},
   "source": [
    "Jetzt kann man prüfen, wie nahe man damit dem Fehler auf der Testmenge kommt:"
   ]
  },
  {
   "cell_type": "code",
   "execution_count": 12,
   "id": "lovely-picking",
   "metadata": {},
   "outputs": [],
   "source": [
    "y_hat_OOB=AutoBagReg_OOB.predict(X_test_OOB)\n",
    "#accuracy_score(y_test_OOB,y_hat_OOB)\n",
    "\n",
    "corr_test_OOB=np.corrcoef(y_hat_OOB,y_test_OOB)[0,1]"
   ]
  },
  {
   "cell_type": "code",
   "execution_count": 13,
   "id": "surrounded-account",
   "metadata": {},
   "outputs": [
    {
     "name": "stdout",
     "output_type": "stream",
     "text": [
      "Korrelation auf den OOB samples: 0.8945337389270079\n",
      "Korrelation auf der Testmenge: 0.9153585701763227\n"
     ]
    }
   ],
   "source": [
    "print('Korrelation auf den OOB samples:',corr_OOB)\n",
    "print('Korrelation auf der Testmenge:',corr_test_OOB)\n"
   ]
  },
  {
   "cell_type": "markdown",
   "id": "close-microphone",
   "metadata": {},
   "source": [
    "Das legt nahe, daß wir tatsächlich auf eine Testmenge verzichten könnten und als Schätzung des Fehlers den OOB-Fehler verwenden könnten.\n",
    "Vorteil: mehr Daten zum Training!"
   ]
  },
  {
   "cell_type": "markdown",
   "id": "dress-affairs",
   "metadata": {},
   "source": [
    "### Aufgabe 2)\n",
    "\n",
    "- wie groß muß die Anzahl der Modelle mindestens sein, damit die Schätzung stabil ist (sh. warning)?\n",
    "- Verwenden Sie jetzt alle Daten aus Train+Test für den OOB-Schätzer. Wie verändert sich der (geschätzte) Fehler?\n"
   ]
  },
  {
   "cell_type": "code",
   "execution_count": null,
   "id": "progressive-cardiff",
   "metadata": {},
   "outputs": [],
   "source": []
  },
  {
   "cell_type": "markdown",
   "id": "statutory-concept",
   "metadata": {},
   "source": [
    "Bagging funktioniert natürlich nicht nur für Regressionsmodelle sondern auch für Klassifikation.\n",
    "Dazu braucht man allerdings den BaggingClassifier..."
   ]
  },
  {
   "cell_type": "code",
   "execution_count": 14,
   "id": "purple-listing",
   "metadata": {},
   "outputs": [],
   "source": [
    "from sklearn.ensemble import BaggingClassifier"
   ]
  },
  {
   "cell_type": "markdown",
   "id": "chief-montana",
   "metadata": {},
   "source": [
    "Beim letzten Mal hatten wir einen Standard-Classifier (Decision Tree) für den heart-Datensatz aufgesetzt"
   ]
  },
  {
   "cell_type": "code",
   "execution_count": 15,
   "id": "quarterly-grove",
   "metadata": {},
   "outputs": [],
   "source": [
    "Heart = pd.read_csv(\"../Daten/heart.csv\")\n",
    "#len(Heart)\n",
    "#Heart.head()\n",
    "\n",
    "Heart_y=Heart['AHD']\n",
    "Heart_X=np.array(Heart[['Age','Sex','RestBP','Chol','Fbs','RestECG','MaxHR','ExAng','Oldpeak','Slope']])\n",
    "\n",
    "\n",
    "Heart_y=np.array(Heart_y.replace(['No', 'Yes'], [0,1]))\n",
    "#Heart_y\n",
    "\n",
    "X_train_H, X_test_H, y_train_H, y_test_H = train_test_split(Heart_X, Heart_y, test_size=0.3, shuffle='True')"
   ]
  },
  {
   "cell_type": "code",
   "execution_count": 16,
   "id": "preliminary-mathematics",
   "metadata": {},
   "outputs": [
    {
     "data": {
      "text/plain": [
       "DecisionTreeClassifier(max_depth=3)"
      ]
     },
     "execution_count": 16,
     "metadata": {},
     "output_type": "execute_result"
    }
   ],
   "source": [
    "from sklearn.tree import DecisionTreeClassifier\n",
    "\n",
    "# Modell spezifizieren (max. Tiefe = 3)\n",
    "# Entscheidungskriterium ist im default 'gini' (sonst 'entropy' wählen)\n",
    "\n",
    "heart_tree=DecisionTreeClassifier(max_depth=3,criterion='gini') \n",
    "\n",
    "# Modell an die Trainingsdaten anpassen\n",
    "heart_tree.fit(X_train_H,y_train_H)"
   ]
  },
  {
   "cell_type": "code",
   "execution_count": 17,
   "id": "official-valuation",
   "metadata": {},
   "outputs": [
    {
     "name": "stdout",
     "output_type": "stream",
     "text": [
      "Trainings-Score: 0.7904761904761904 ; Test-Score: 0.7\n"
     ]
    }
   ],
   "source": [
    "heart_tr_score=heart_tree.score(X_train_H, y_train_H, sample_weight=None)\n",
    "heart_test_score=heart_tree.score(X_test_H, y_test_H, sample_weight=None)\n",
    "\n",
    "print('Trainings-Score:',heart_tr_score,'; Test-Score:',heart_test_score)"
   ]
  },
  {
   "cell_type": "markdown",
   "id": "adult-vienna",
   "metadata": {},
   "source": [
    "### Aufgabe 3)\n",
    "\n",
    "- Wenden Sie den sklearn BaggingClassifier für den Fall der Klassifikation von Herzinfarkten an.\n",
    "- Verbessert sich das Ergebnis?"
   ]
  },
  {
   "cell_type": "code",
   "execution_count": null,
   "id": "immediate-saudi",
   "metadata": {},
   "outputs": [],
   "source": []
  },
  {
   "cell_type": "markdown",
   "id": "rapid-importance",
   "metadata": {},
   "source": [
    "### 7.2) Random Forests"
   ]
  },
  {
   "cell_type": "markdown",
   "id": "atomic-alliance",
   "metadata": {},
   "source": [
    "Eine weitere Möglichkeit die Performance von einfachen Decision Trees zu verbessern ist der Random Forest.\n",
    "Bei der Teilung an den Knoten wird dabei nur eine Auswahl von Input-Features verwendet.\n",
    "Das führt zu einer Dekorrelation der einzelnen Bäume, was sich positiv auf den Fehler des Ensemble-Schätzers auswirkt.\n",
    "\n",
    "Random Forests können sowohl für die Regression als auch für die Klassifikation verwendet werden.\n",
    "Man benötigt dann entweder den RandomForestClassifier oder den RandomForestRegressor...\n"
   ]
  },
  {
   "cell_type": "code",
   "execution_count": 18,
   "id": "prepared-lodge",
   "metadata": {},
   "outputs": [],
   "source": [
    "from sklearn.ensemble import RandomForestClassifier\n",
    "from sklearn.ensemble import RandomForestRegressor"
   ]
  },
  {
   "cell_type": "markdown",
   "id": "modified-carter",
   "metadata": {},
   "source": [
    "hier erstmal das Beispiel für die Klassifikation (heart-Datensatz):"
   ]
  },
  {
   "cell_type": "code",
   "execution_count": null,
   "id": "architectural-journey",
   "metadata": {},
   "outputs": [],
   "source": []
  },
  {
   "cell_type": "code",
   "execution_count": 19,
   "id": "reliable-penny",
   "metadata": {},
   "outputs": [],
   "source": [
    "RF_Heart=RandomForestClassifier(n_estimators=100, max_leaf_nodes=10)\n",
    "RF_Heart=RF_Heart.fit(X_train_H,y_train_H)"
   ]
  },
  {
   "cell_type": "code",
   "execution_count": 20,
   "id": "progressive-enhancement",
   "metadata": {},
   "outputs": [
    {
     "data": {
      "text/plain": [
       "0.7666666666666667"
      ]
     },
     "execution_count": 20,
     "metadata": {},
     "output_type": "execute_result"
    }
   ],
   "source": [
    "RF_Heart.score(X_test_H, y_test_H)"
   ]
  },
  {
   "cell_type": "code",
   "execution_count": 21,
   "id": "inappropriate-proposition",
   "metadata": {},
   "outputs": [],
   "source": [
    "y_hat_RF_Heart=RF_Heart.predict(X_test_H)"
   ]
  },
  {
   "cell_type": "code",
   "execution_count": 22,
   "id": "certain-departure",
   "metadata": {},
   "outputs": [
    {
     "name": "stdout",
     "output_type": "stream",
     "text": [
      "Accuracy: 0.7666666666666667\n"
     ]
    }
   ],
   "source": [
    "from sklearn import metrics\n",
    "print(\"Accuracy:\",metrics.accuracy_score(y_test_H, y_hat_RF_Heart))"
   ]
  },
  {
   "cell_type": "code",
   "execution_count": 23,
   "id": "specialized-snake",
   "metadata": {},
   "outputs": [
    {
     "name": "stdout",
     "output_type": "stream",
     "text": [
      "Confusion Matrix:\n",
      "[[39  1]\n",
      " [20 30]]\n"
     ]
    }
   ],
   "source": [
    "print(\"Confusion Matrix:\")\n",
    "print(confusion_matrix(y_test_H, y_hat_RF_Heart))"
   ]
  },
  {
   "cell_type": "markdown",
   "id": "specialized-truth",
   "metadata": {},
   "source": [
    "Die Feature Importance läßt sich auch ganz leicht ausgeben. Die Werte beziehen sich auf die Reihenfolge der Input-Features in der Datenmatrix X"
   ]
  },
  {
   "cell_type": "code",
   "execution_count": 24,
   "id": "verbal-lawsuit",
   "metadata": {},
   "outputs": [],
   "source": [
    "ImpArray=np.transpose([['Age','Sex','RestBP','Chol','Fbs','RestECG','MaxHR','ExAng','Oldpeak','Slope'],RF_Heart.feature_importances_])"
   ]
  },
  {
   "cell_type": "code",
   "execution_count": 25,
   "id": "boring-marine",
   "metadata": {},
   "outputs": [
    {
     "data": {
      "text/plain": [
       "array([['Age', '0.07007351066400488'],\n",
       "       ['Sex', '0.09695236738980925'],\n",
       "       ['RestBP', '0.08328258138377168'],\n",
       "       ['Chol', '0.0956934681864803'],\n",
       "       ['Fbs', '0.007638600974076198'],\n",
       "       ['RestECG', '0.021879798179898508'],\n",
       "       ['MaxHR', '0.21885351305570627'],\n",
       "       ['ExAng', '0.11116409382595856'],\n",
       "       ['Oldpeak', '0.2357226545741275'],\n",
       "       ['Slope', '0.058739411766166746']], dtype='<U32')"
      ]
     },
     "execution_count": 25,
     "metadata": {},
     "output_type": "execute_result"
    }
   ],
   "source": [
    "ImpArray"
   ]
  },
  {
   "cell_type": "code",
   "execution_count": 26,
   "id": "considerable-radar",
   "metadata": {},
   "outputs": [],
   "source": [
    "n_estimators_list=[]\n",
    "train_score_list=[]\n",
    "test_score_list=[]\n",
    "\n",
    "for k in range(1, 200):\n",
    "    RF_Heart=RandomForestClassifier(n_estimators=k, max_leaf_nodes=2)\n",
    "    RF_Heart=RF_Heart.fit(X_train_H,y_train_H)\n",
    "    \n",
    "    train_score=RF_Heart.score(X_train_H, y_train_H)\n",
    "    test_score=RF_Heart.score(X_test_H, y_test_H)\n",
    "    \n",
    "    train_score_list.append(train_score)\n",
    "    test_score_list.append(test_score)\n",
    "    n_estimators_list.append(k)"
   ]
  },
  {
   "cell_type": "code",
   "execution_count": 27,
   "id": "august-assessment",
   "metadata": {},
   "outputs": [
    {
     "data": {
      "image/png": "[encoded data removed]",
      "text/plain": [
       "<Figure size 432x288 with 1 Axes>"
      ]
     },
     "metadata": {
      "needs_background": "light"
     },
     "output_type": "display_data"
    }
   ],
   "source": [
    "plt.plot(n_estimators_list,train_score_list,'b-',label='Accuracy - Train');\n",
    "plt.plot(n_estimators_list,test_score_list,'r--',label='Accuracy - Test');\n",
    "\n",
    "plt.xlabel('number of Trees used for modeling')\n",
    "plt.ylabel('Train- Test Accuracy') \n",
    "plt.title('Accuracy - Comparison')\n",
    "\n",
    "#Befehl zum Anzeigen der Graphik mit Angabe der Position\n",
    "plt.legend(loc='upper right');"
   ]
  },
  {
   "cell_type": "markdown",
   "id": "endangered-tiger",
   "metadata": {},
   "source": [
    "### Aufgabe 4)\n",
    "\n",
    "- Hat die maximale Anzahl der leaf Nodes einen Einfluß?\n",
    "\n",
    "Für Regressionsprobleme funktioniert das Ganze analog.\n",
    "\n",
    "- Testen Sie das Ergebnis eines Random Forest für unser Regressionsproblem (Auto-Daten) mit Hilfe des RandomForestRegressor."
   ]
  },
  {
   "cell_type": "code",
   "execution_count": null,
   "id": "adjustable-cleaning",
   "metadata": {},
   "outputs": [],
   "source": []
  },
  {
   "cell_type": "markdown",
   "id": "great-evolution",
   "metadata": {},
   "source": [
    "### 7.3) Boosting\n",
    "\n",
    "Beim Boosting versucht man mehrere ML-Verfahren (können gleich oder auch verschieden sein) so zu kombinieren, daß die Prädiktoren versuchen die Fehler ihrer Vorgänger zu korrigieren (Residual Learning).\n",
    "\n",
    "Das kann ganz unterschiedlich aussehen und ist sowohl für Regression als auch für Klassifikation einsetzbar:\n",
    "\n",
    "#### AdaBoost = Adaptive Boosting\n",
    "\n",
    "Der Prädiktor korrigiert seine Vorgänger, indem die vorher falsch klassifizierten Samples stärker gewichtet werden.  Man geht dann davon aus, daß diese Samples dann Stück für Stück besser getroffen werden.\n",
    "\n",
    "#### Gradient Boosting\n",
    "\n",
    "Der Prädiktor lernt den Restfehler seiner Vorgänger (sh. Vorlesung). Alle Prädiktoren werden dann am Ende zu einem Modell zusammengesetzt.\n",
    "\n"
   ]
  },
  {
   "cell_type": "markdown",
   "id": "further-bachelor",
   "metadata": {},
   "source": [
    "### 7.3.1) AdaBoost\n",
    "\n",
    "Hier ein Beispiel für unser Klassifikationsproblem und DecisionTree Classifiers: \n",
    "Metaparameter: \n",
    "- maximale Tiefe der Bäume\n",
    "- Anzahl der Schätzer\n",
    "- Lernrate\n",
    "kontrolliert wieviel das neue Modell zum bestehenden beitragen darf, bzw. wie schlecht klassifizierte Beispiele gewichtet werden.  \n",
    "Generell gilt: kleines $\\eta \\Rightarrow$ mehr Iterationen\n",
    "\n",
    "Im Default ist für die maximale Tiefe 1 eingestellt. Die einzelnen Modelle haben also jeweils nur einen inneren Knoten (stumps)."
   ]
  },
  {
   "cell_type": "code",
   "execution_count": 28,
   "id": "theoretical-optimum",
   "metadata": {},
   "outputs": [],
   "source": [
    "from sklearn.ensemble import AdaBoostClassifier\n",
    "#from sklearn.ensemble import AdaBoostRegressor"
   ]
  },
  {
   "cell_type": "code",
   "execution_count": 29,
   "id": "generous-newsletter",
   "metadata": {},
   "outputs": [
    {
     "data": {
      "text/plain": [
       "AdaBoostClassifier(base_estimator=DecisionTreeClassifier(max_depth=1),\n",
       "                   learning_rate=0.5, n_estimators=100)"
      ]
     },
     "execution_count": 29,
     "metadata": {},
     "output_type": "execute_result"
    }
   ],
   "source": [
    "ada_Heart=AdaBoostClassifier(DecisionTreeClassifier(max_depth=1),n_estimators=100,learning_rate=0.5)\n",
    "\n",
    "ada_Heart.fit(X_train_H,y_train_H)"
   ]
  },
  {
   "cell_type": "code",
   "execution_count": 30,
   "id": "public-oxide",
   "metadata": {},
   "outputs": [
    {
     "data": {
      "text/plain": [
       "0.7333333333333333"
      ]
     },
     "execution_count": 30,
     "metadata": {},
     "output_type": "execute_result"
    }
   ],
   "source": [
    "ada_Heart.score(X_test_H, y_test_H)"
   ]
  },
  {
   "cell_type": "code",
   "execution_count": 31,
   "id": "increased-invitation",
   "metadata": {},
   "outputs": [],
   "source": [
    "y_hat_test_ada=ada_Heart.predict(X_test_H)"
   ]
  },
  {
   "cell_type": "code",
   "execution_count": 32,
   "id": "extreme-conviction",
   "metadata": {},
   "outputs": [
    {
     "name": "stdout",
     "output_type": "stream",
     "text": [
      "Confusion Matrix:\n",
      "[[35  5]\n",
      " [19 31]]\n"
     ]
    }
   ],
   "source": [
    "print(\"Confusion Matrix:\")\n",
    "print(confusion_matrix(y_test_H, y_hat_test_ada))"
   ]
  },
  {
   "cell_type": "markdown",
   "id": "romance-coverage",
   "metadata": {},
   "source": [
    "Das Verfahren ist stark von der Lernrate beeinflußt.\n",
    "Das kann man sehen, wenn man bei gleichbleibender Zahl der Modelle die Lernrate von z.B. 0.01 bis 1 variiert:"
   ]
  },
  {
   "cell_type": "code",
   "execution_count": 33,
   "id": "buried-director",
   "metadata": {},
   "outputs": [],
   "source": [
    "lr_list=[]\n",
    "train_score_list_ada=[]\n",
    "test_score_list_ada=[]\n",
    "\n",
    "for k in range(1, 100):\n",
    "    lr=k/100\n",
    "    ada_Heart=AdaBoostClassifier(DecisionTreeClassifier(max_depth=1),n_estimators=100,learning_rate=lr)\n",
    "    ada_Heart.fit(X_train_H,y_train_H)\n",
    "    \n",
    "    train_score=ada_Heart.score(X_train_H, y_train_H)\n",
    "    test_score=ada_Heart.score(X_test_H, y_test_H)\n",
    "    \n",
    "    train_score_list_ada.append(train_score)\n",
    "    test_score_list_ada.append(test_score)\n",
    "    lr_list.append(lr)"
   ]
  },
  {
   "cell_type": "code",
   "execution_count": 34,
   "id": "sought-assumption",
   "metadata": {},
   "outputs": [
    {
     "data": {
      "image/png": "[encoded data removed]",
      "text/plain": [
       "<Figure size 432x288 with 1 Axes>"
      ]
     },
     "metadata": {
      "needs_background": "light"
     },
     "output_type": "display_data"
    }
   ],
   "source": [
    "plt.plot(lr_list,train_score_list_ada,'b-',label='Accuracy - Train');\n",
    "plt.plot(lr_list,test_score_list_ada,'r--',label='Accuracy - Test');\n",
    "\n",
    "plt.xlabel('learning rate used for modeling')\n",
    "plt.ylabel('Train- Test Accuracy') \n",
    "plt.title('Accuracy - Comparison')\n",
    "\n",
    "#Befehl zum Anzeigen der Graphik mit Angabe der Position\n",
    "plt.legend(loc='upper right');"
   ]
  },
  {
   "cell_type": "markdown",
   "id": "foster-expert",
   "metadata": {},
   "source": [
    "### Aufgabe 6)\n",
    "\n",
    "Natürlich hängen optimale Zahl von Modellen und optimale Lernrate miteinander zusammen.\n",
    "\n",
    "- bestimmen Sie die optimale Lernrate (Minimum des Testfehlers sh. oben) für eine veränderliche Anzahl von Modellen in einer entsprechenden Schleife.\n",
    "- Tragen Sie die Anzahl der Modelle (x-Achse) gegen das Optimum der Lernrate (y-Achse) in eine Graphik ein.\n",
    "- Was läßt sich daraus erkennen? Gibt es eine Systematik?"
   ]
  },
  {
   "cell_type": "code",
   "execution_count": null,
   "id": "clean-reducing",
   "metadata": {},
   "outputs": [],
   "source": []
  },
  {
   "cell_type": "markdown",
   "id": "continent-strip",
   "metadata": {},
   "source": [
    "### 7.3.2) Gradient Boosting\n",
    "\n",
    "Der in sklearn implementierte GradientBoostingClassifier benutzt als Modellklasse DecisionTrees.\n",
    "Fast alle Methoden für Decision Trees können als Optionen mitgegeben werden.\n",
    "\n",
    "Im Beispiel ist das:\n",
    "\n",
    "- maximale Tiefe des Baumes (kann aber z.B. durch min. Anzahl samples etc. ersetzt wereden)\n",
    "- Anzahl der Modelle\n",
    "- Lernrate (shrinkage Parameter $\\lambda$, sh. Vorlesung)\n",
    "\n",
    "Allgemein gilt: kleine $\\lambda$ führen dazu, daß man i.A. mehr Bäume braucht. dafür generalisieren die Modelle besser.  \n",
    "Allerdings: Boosting-Modelle mit zu vielen Bäumen führen zu overfitting. Das kann man z.B. beheben, indem man Trainings- und Testfehler tracked und das Optimum im Testfehler auswählt (Early Stopping). \n"
   ]
  },
  {
   "cell_type": "code",
   "execution_count": 35,
   "id": "concerned-house",
   "metadata": {},
   "outputs": [],
   "source": [
    "from sklearn.ensemble import GradientBoostingClassifier\n",
    "#from sklearn.ensemble import GradientBoostingRegressor"
   ]
  },
  {
   "cell_type": "code",
   "execution_count": 36,
   "id": "accomplished-headline",
   "metadata": {},
   "outputs": [
    {
     "data": {
      "text/plain": [
       "GradientBoostingClassifier()"
      ]
     },
     "execution_count": 36,
     "metadata": {},
     "output_type": "execute_result"
    }
   ],
   "source": [
    "GBC_Heart=GradientBoostingClassifier(max_depth=3,n_estimators=100,learning_rate=0.1)\n",
    "\n",
    "GBC_Heart.fit(X_train_H,y_train_H)"
   ]
  },
  {
   "cell_type": "code",
   "execution_count": 37,
   "id": "freelance-wright",
   "metadata": {},
   "outputs": [
    {
     "data": {
      "text/plain": [
       "0.7444444444444445"
      ]
     },
     "execution_count": 37,
     "metadata": {},
     "output_type": "execute_result"
    }
   ],
   "source": [
    "GBC_Heart.score(X_test_H, y_test_H)"
   ]
  },
  {
   "cell_type": "markdown",
   "id": "adopted-ukraine",
   "metadata": {},
   "source": [
    "### Aufgabe 7)\n",
    "\n",
    "- Versuchen Sie ein early Stopping für den Gradient Boosting Algorithmus zu implementieren.\n",
    "- Lassen Sie sich die Trainings- und Testfehler vs. n_estimators für verschiedene Lernraten in einer Graphik ausgeben. Welchen Einfluß hat der shrinkage Parameter $\\lambda$?"
   ]
  },
  {
   "cell_type": "markdown",
   "id": "governmental-transfer",
   "metadata": {},
   "source": [
    "#### Bemerkung:\n",
    "\n",
    "Gradient Boosting ist auch in der Python Bib XGBoost umgesetzt.\n",
    "Hier gibt es eine Menge netter Zusatzfeatures (z.B. implementiertes Early Stopping)."
   ]
  },
  {
   "cell_type": "code",
   "execution_count": null,
   "id": "isolated-nightmare",
   "metadata": {},
   "outputs": [],
   "source": []
  },
  {
   "cell_type": "code",
   "execution_count": null,
   "id": "assumed-excuse",
   "metadata": {},
   "outputs": [],
   "source": []
  }
 ],
 "metadata": {
  "kernelspec": {
   "display_name": "Python 3",
   "language": "python",
   "name": "python3"
  },
  "language_info": {
   "codemirror_mode": {
    "name": "ipython",
    "version": 3
   },
   "file_extension": ".py",
   "mimetype": "text/x-python",
   "name": "python",
   "nbconvert_exporter": "python",
   "pygments_lexer": "ipython3",
   "version": "3.8.7"
  }
 },
 "nbformat": 4,
 "nbformat_minor": 5
}
