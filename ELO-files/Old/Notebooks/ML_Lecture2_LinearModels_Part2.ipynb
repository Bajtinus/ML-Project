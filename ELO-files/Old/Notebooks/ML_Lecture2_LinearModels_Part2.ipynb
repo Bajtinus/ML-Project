{
 "cells": [
  {
   "cell_type": "markdown",
   "id": "chronic-india",
   "metadata": {},
   "source": [
    "# Lecture 2) Lineare & Linearisierbare Modelle - Teil 2"
   ]
  },
  {
   "cell_type": "code",
   "execution_count": 1,
   "id": "selected-strategy",
   "metadata": {},
   "outputs": [],
   "source": [
    "import pandas as pd\n",
    "import numpy as np\n",
    "import matplotlib as mpl\n",
    "import matplotlib.pyplot as plt\n",
    "import sklearn as sl\n",
    "from sklearn.metrics import mean_squared_error\n",
    "from sklearn.model_selection import train_test_split\n",
    "from sklearn.preprocessing import PolynomialFeatures\n",
    "from sklearn.linear_model import LinearRegression\n",
    "from sklearn.metrics import mean_squared_error, r2_score\n",
    "\n",
    "%matplotlib inline\n",
    "import scipy as sc\n",
    "import math as ma\n",
    "from scipy import linalg, optimize, constants, interpolate, special, stats\n",
    "from math import exp, pow, sqrt, log\n",
    "\n",
    "import seaborn as sns #spezielle Graphikdarstellungen\n",
    "import statsmodels.api as sm\n",
    "import statsmodels.stats.api as sms"
   ]
  },
  {
   "cell_type": "markdown",
   "id": "satellite-comparative",
   "metadata": {},
   "source": [
    "Wir brauchen wie letztes Mal einen Datensatz. \n",
    "Wir verwenden dafür erstmal ein synthetisches Beispiel...  \n",
    "\n",
    "Zwischen X und y besteht ein (leicht durch Rauschen gestörter) polynomialer Zusammenhang vom Grad 3:"
   ]
  },
  {
   "cell_type": "code",
   "execution_count": 2,
   "id": "cultural-batman",
   "metadata": {},
   "outputs": [
    {
     "data": {
      "image/png": "[encoded data removed]",
      "text/plain": [
       "<Figure size 432x288 with 1 Axes>"
      ]
     },
     "metadata": {
      "needs_background": "light"
     },
     "output_type": "display_data"
    }
   ],
   "source": [
    "np.random.seed(0)\n",
    "X = 2 - 3 * np.random.normal(0, 0.5, 100)\n",
    "y = X - 2 * (X ** 2) + 0.3 * (X ** 3) + np.random.normal(-2, 2, 100)\n",
    "\n",
    "plt.plot(X,y,'o');\n"
   ]
  },
  {
   "cell_type": "markdown",
   "id": "ready-tampa",
   "metadata": {},
   "source": [
    "...was würden wir mit unseren Methoden feststellen?\n",
    "\n",
    "Suche nach der Stärke des linearen Zusammenhanges..."
   ]
  },
  {
   "cell_type": "code",
   "execution_count": 3,
   "id": "dirty-fleece",
   "metadata": {},
   "outputs": [
    {
     "data": {
      "text/plain": [
       "array([[ 1.        , -0.67685471],\n",
       "       [-0.67685471,  1.        ]])"
      ]
     },
     "execution_count": 3,
     "metadata": {},
     "output_type": "execute_result"
    }
   ],
   "source": [
    "np.corrcoef(X,y)"
   ]
  },
  {
   "cell_type": "markdown",
   "id": "described-salon",
   "metadata": {},
   "source": [
    "###### eine Korrelation von 0.6 weist auf einen moderaten linearen Zusammenhang hin.\n",
    "\n",
    "...weiter:"
   ]
  },
  {
   "cell_type": "code",
   "execution_count": 4,
   "id": "significant-namibia",
   "metadata": {},
   "outputs": [
    {
     "data": {
      "text/plain": [
       "array([[ 1.        , -0.69278937],\n",
       "       [-0.69278937,  1.        ]])"
      ]
     },
     "execution_count": 4,
     "metadata": {},
     "output_type": "execute_result"
    }
   ],
   "source": [
    "np.corrcoef(X**2,y)"
   ]
  },
  {
   "cell_type": "code",
   "execution_count": 5,
   "id": "varied-width",
   "metadata": {},
   "outputs": [
    {
     "data": {
      "text/plain": [
       "array([[ 1.        , -0.57362894],\n",
       "       [-0.57362894,  1.        ]])"
      ]
     },
     "execution_count": 5,
     "metadata": {},
     "output_type": "execute_result"
    }
   ],
   "source": [
    "np.corrcoef(X**3,y)"
   ]
  },
  {
   "cell_type": "markdown",
   "id": "proper-alliance",
   "metadata": {},
   "source": [
    "Versuchen wir es mit dem univariaten Polynommodell."
   ]
  },
  {
   "cell_type": "markdown",
   "id": "specialized-cisco",
   "metadata": {},
   "source": [
    "## 2.1) Das univariate Polynommodell"
   ]
  },
  {
   "cell_type": "markdown",
   "id": "soviet-adrian",
   "metadata": {},
   "source": [
    "Wenn wir ein univariates Polynommodell anpassen wollen, dann haben wir die Modellstruktur:\n",
    "    \n",
    "$f(X)=b_0+b_1X+b_2X^2+\\cdot + b_mX^m$\n",
    "\n",
    "\n",
    "unsere Datenmatrix $X$ muß also für n Datenpunkte $x_1,\\ldots,x_n$ die Form\n",
    "\n",
    "\n",
    "$$\n",
    "X=\\begin{pmatrix} \n",
    "1 & x_1 & \\ldots & x_1^m\\\\\n",
    " 1 & x_2 & \\ldots & x_2^m\\\\\n",
    " \\vdots & \\vdots & \\ddots & \\vdots \\\\\n",
    " 1 & x_n & \\ldots & x_n^m\\\\\n",
    "\\end{pmatrix}\n",
    "$$\n",
    "\n",
    "haben.\n",
    "\n",
    "Wir brauchen zusätzlicher Spalten in unserer Feature-Matrix, die die potenzierte Größe 'bmi' enthalten.  \n",
    "\n",
    "Das könnten wir \"per Hand\" machen oder wir benutzen die \"Polynomial Features\" aus ScikitLearn..."
   ]
  },
  {
   "cell_type": "markdown",
   "id": "economic-minneapolis",
   "metadata": {},
   "source": [
    "## Die Polynomial Features sind eine Transformations-Methode für Daten.  \n",
    "Wie bei den bekannten Scalern erwartet die Funktion zuerst die Spezifikation der Trafo.  \n",
    "In diesem Fall eine Info, bis zu welchem Grad solche Features erzeugt werden sollen\n",
    "\n",
    "    polynomial_features= PolynomialFeatures(degree=20)\n",
    "    \n",
    "Ist die Spezifikation erfolgt, dann werden die Daten übergeben und die Trafo durchgeführt.  \n",
    "In unserem Fall hier werden Spalten mit den potenzierten Einflußgrößen erzeugt und zusammengefügt.  \n",
    "\n",
    "$\\underline{Achtung:}$ Die Trafo startet mit $X^0=1$. Die 1er-Spalte wird also diesmal automatisch erzeugt und wir müssen nicht mehr extra aktiv werden..."
   ]
  },
  {
   "cell_type": "code",
   "execution_count": 6,
   "id": "excited-technology",
   "metadata": {},
   "outputs": [
    {
     "name": "stdout",
     "output_type": "stream",
     "text": [
      "(100, 101)\n"
     ]
    }
   ],
   "source": [
    "# Import Polynomial Features\n",
    "\n",
    "from sklearn.preprocessing import PolynomialFeatures\n",
    "\n",
    "#degree = 100\n",
    "\n",
    "polynomial_features= PolynomialFeatures(degree=100)\n",
    "\n",
    "#generate numpy array with suitable shape\n",
    "X=np.array(X).reshape(-1,1)\n",
    "\n",
    "#append polxynomial features to array\n",
    "X_poly = polynomial_features.fit_transform(X)\n",
    "\n",
    "print(X_poly.shape)"
   ]
  },
  {
   "cell_type": "code",
   "execution_count": 7,
   "id": "dressed-slide",
   "metadata": {},
   "outputs": [
    {
     "data": {
      "image/png": "[encoded data removed]",
      "text/plain": [
       "<Figure size 480x480 with 1 Axes>"
      ]
     },
     "metadata": {
      "needs_background": "light"
     },
     "output_type": "display_data"
    }
   ],
   "source": [
    "# Plot size\n",
    "plt.figure(figsize=(6, 6), dpi=80)\n",
    "\n",
    "plt.plot(X_poly[:,1],X_poly[:,2],'o')\n",
    "\n",
    "plt.xlabel('X');\n",
    "plt.ylabel('X^2');\n",
    "plt.title('1st Polynomial Feature');\n"
   ]
  },
  {
   "cell_type": "code",
   "execution_count": 8,
   "id": "equal-recipient",
   "metadata": {},
   "outputs": [],
   "source": [
    "# Split the data into training and testing sets (by default, 80% train and 20% test)\n",
    "X_train_poly, X_test_poly, y_train, y_test = train_test_split(X_poly, y, test_size=0.20)"
   ]
  },
  {
   "cell_type": "markdown",
   "id": "nearby-roommate",
   "metadata": {},
   "source": [
    "### 2.1.1) Ein univariates Polynommodell\n",
    "\n",
    "Das Anpassen des (linearisierten) Modelles geht mit OLS wie gehabt ganz einfach...\n",
    "Wir nehmen zunächst die lineare Einfachregression:"
   ]
  },
  {
   "cell_type": "code",
   "execution_count": 9,
   "id": "attractive-advocacy",
   "metadata": {},
   "outputs": [
    {
     "name": "stdout",
     "output_type": "stream",
     "text": [
      "                            OLS Regression Results                            \n",
      "==============================================================================\n",
      "Dep. Variable:                      y   R-squared:                       0.427\n",
      "Model:                            OLS   Adj. R-squared:                  0.420\n",
      "Method:                 Least Squares   F-statistic:                     58.23\n",
      "Date:                Wed, 01 Nov 2023   Prob (F-statistic):           4.86e-11\n",
      "Time:                        19:59:03   Log-Likelihood:                -200.46\n",
      "No. Observations:                  80   AIC:                             404.9\n",
      "Df Residuals:                      78   BIC:                             409.7\n",
      "Df Model:                           1                                         \n",
      "Covariance Type:            nonrobust                                         \n",
      "==============================================================================\n",
      "                 coef    std err          t      P>|t|      [0.025      0.975]\n",
      "------------------------------------------------------------------------------\n",
      "const         -2.6377      0.547     -4.822      0.000      -3.727      -1.549\n",
      "x1            -1.6611      0.218     -7.631      0.000      -2.094      -1.228\n",
      "==============================================================================\n",
      "Omnibus:                        2.491   Durbin-Watson:                   1.910\n",
      "Prob(Omnibus):                  0.288   Jarque-Bera (JB):                1.800\n",
      "Skew:                          -0.246   Prob(JB):                        0.407\n",
      "Kurtosis:                       3.545   Cond. No.                         4.52\n",
      "==============================================================================\n",
      "\n",
      "Notes:\n",
      "[1] Standard Errors assume that the covariance matrix of the errors is correctly specified.\n"
     ]
    }
   ],
   "source": [
    "# Model Fit - Train\n",
    "\n",
    "olsmod_LinReg_Poly1 = sm.OLS(y_train, X_train_poly[:,0:2]) # definition of model f(x)=b0+b1x\n",
    "olsres_LinReg_Poly1 = olsmod_LinReg_Poly1.fit() # parameter estimation on Train set - model name olsres_LinReg\n",
    "\n",
    "# Get the summary of the model\n",
    "olsres_LinReg_Poly1_summary = olsres_LinReg_Poly1.summary()\n",
    "print(olsres_LinReg_Poly1_summary)"
   ]
  },
  {
   "cell_type": "markdown",
   "id": "collectible-albany",
   "metadata": {},
   "source": [
    "jetzt kann man die Prognosen berechnen lassen. Dazu gibts ja die Methode \n",
    "    \n",
    "    model.predict()"
   ]
  },
  {
   "cell_type": "code",
   "execution_count": 10,
   "id": "detailed-excerpt",
   "metadata": {},
   "outputs": [],
   "source": [
    "y_hat_Poly1_tr = olsres_LinReg_Poly1.predict(X_train_poly[:,0:2]) # predictions on training set\n",
    "y_hat_Poly1_te = olsres_LinReg_Poly1.predict(X_test_poly[:,0:2]) # predictions on test set"
   ]
  },
  {
   "cell_type": "markdown",
   "id": "popular-floor",
   "metadata": {},
   "source": [
    "Wie gut paßt das Modell?"
   ]
  },
  {
   "cell_type": "code",
   "execution_count": 11,
   "id": "spectacular-fifth",
   "metadata": {},
   "outputs": [
    {
     "data": {
      "image/png": "[encoded data removed]",
      "text/plain": [
       "<Figure size 1152x576 with 2 Axes>"
      ]
     },
     "metadata": {
      "needs_background": "light"
     },
     "output_type": "display_data"
    }
   ],
   "source": [
    "# Generate the data points\n",
    "xFunc = np.linspace(-3, 8, 200)\n",
    "\n",
    "# Plot size\n",
    "\n",
    "plt.figure(figsize=(16, 8))  # Adjust the figure size as needed\n",
    "plt.subplot(1, 2, 1)\n",
    "\n",
    "plt.plot(X_train_poly[:,1], y_train, 'o', label='model vs. data');\n",
    "plt.plot(X_train_poly[:,1],y_hat_Poly1_tr, '-', label='ideal');\n",
    "\n",
    "\n",
    "plt.xlim(-2,7)  # Set the x-axis limits \n",
    "#plt.ylim(0, 30)  # Set the y-axis limits \n",
    "\n",
    "plt.xlabel('Input Feature X')\n",
    "plt.ylabel('Target') \n",
    "plt.title('Model vs. Data (Train set) - Polynomial deg 1')\n",
    "#position of labels\n",
    "plt.legend(); \n",
    "\n",
    "plt.subplot(1, 2, 2)\n",
    "\n",
    "plt.plot(X_test_poly[:,1], y_test, 'o', label='model vs. data');\n",
    "plt.plot(X_test_poly[:,1],y_hat_Poly1_te, '-', label='ideal');\n",
    "\n",
    "\n",
    "plt.xlim(-2,7)  # Set the x-axis limits \n",
    "#plt.ylim(0, 30)  # Set the y-axis limits \n",
    "\n",
    "plt.xlabel('Input Feature X')\n",
    "plt.ylabel('Target') \n",
    "plt.title('Model vs. Data (Test set) - Polynomial deg 1')\n",
    "#position of labels\n",
    "plt.legend(); \n"
   ]
  },
  {
   "cell_type": "code",
   "execution_count": null,
   "id": "several-boost",
   "metadata": {},
   "outputs": [],
   "source": []
  },
  {
   "cell_type": "code",
   "execution_count": null,
   "id": "molecular-windows",
   "metadata": {},
   "outputs": [],
   "source": []
  },
  {
   "cell_type": "code",
   "execution_count": 12,
   "id": "introductory-chess",
   "metadata": {},
   "outputs": [
    {
     "name": "stdout",
     "output_type": "stream",
     "text": [
      "                            OLS Regression Results                            \n",
      "==============================================================================\n",
      "Dep. Variable:                      y   R-squared:                       0.731\n",
      "Model:                            OLS   Adj. R-squared:                  0.721\n",
      "Method:                 Least Squares   F-statistic:                     68.89\n",
      "Date:                Wed, 01 Nov 2023   Prob (F-statistic):           1.27e-21\n",
      "Time:                        19:59:04   Log-Likelihood:                -170.23\n",
      "No. Observations:                  80   AIC:                             348.5\n",
      "Df Residuals:                      76   BIC:                             358.0\n",
      "Df Model:                           3                                         \n",
      "Covariance Type:            nonrobust                                         \n",
      "==============================================================================\n",
      "                 coef    std err          t      P>|t|      [0.025      0.975]\n",
      "------------------------------------------------------------------------------\n",
      "const         -1.4911      0.438     -3.404      0.001      -2.364      -0.619\n",
      "x1             1.3682      0.404      3.387      0.001       0.564       2.173\n",
      "x2            -2.2844      0.248     -9.217      0.000      -2.778      -1.791\n",
      "x3             0.3314      0.039      8.492      0.000       0.254       0.409\n",
      "==============================================================================\n",
      "Omnibus:                        4.282   Durbin-Watson:                   1.879\n",
      "Prob(Omnibus):                  0.118   Jarque-Bera (JB):                2.647\n",
      "Skew:                           0.242   Prob(JB):                        0.266\n",
      "Kurtosis:                       2.252   Cond. No.                         83.9\n",
      "==============================================================================\n",
      "\n",
      "Notes:\n",
      "[1] Standard Errors assume that the covariance matrix of the errors is correctly specified.\n"
     ]
    }
   ],
   "source": [
    "# Model Fit - Train\n",
    "\n",
    "olsmod_LinReg_Poly3 = sm.OLS(y_train, X_train_poly[:,0:4]) # definition of model f(x)=b0+b1x+b2x^2+b3x^3\n",
    "olsres_LinReg_Poly3 = olsmod_LinReg_Poly3.fit() # parameter estimation on Train set - model name olsres_LinReg\n",
    "\n",
    "# Get the summary of the model\n",
    "olsres_LinReg_Poly3_summary = olsres_LinReg_Poly3.summary()\n",
    "print(olsres_LinReg_Poly3_summary)\n",
    "\n",
    "y_hat_Poly3_tr = olsres_LinReg_Poly3.predict(X_train_poly[:,0:4]) # predictions on training set\n",
    "y_hat_Poly3_te = olsres_LinReg_Poly3.predict(X_test_poly[:,0:4]) # predictions on test set"
   ]
  },
  {
   "cell_type": "code",
   "execution_count": 13,
   "id": "deadly-decimal",
   "metadata": {},
   "outputs": [],
   "source": [
    "# Define the Polynomial Function\n",
    "# Extract the coefficients from the fitted model\n",
    "coefficients3 = olsres_LinReg_Poly3.params\n",
    "\n",
    "# Define a function to calculate the polynomial value\n",
    "def polynomial_function3(x):\n",
    "    # Extract individual coefficients\n",
    "    b0 = coefficients3[0]\n",
    "    b1 = coefficients3[1]\n",
    "    b2 = coefficients3[2]\n",
    "    b3 = coefficients3[3]\n",
    "    \n",
    "    # Calculate the polynomial value using the coefficients\n",
    "    y = b0 + b1 * x + b2 * x**2 + b3 * x**3\n",
    "    \n",
    "    return y"
   ]
  },
  {
   "cell_type": "code",
   "execution_count": 14,
   "id": "right-cancellation",
   "metadata": {},
   "outputs": [
    {
     "name": "stdout",
     "output_type": "stream",
     "text": [
      "                            OLS Regression Results                            \n",
      "==============================================================================\n",
      "Dep. Variable:                      y   R-squared:                       0.765\n",
      "Model:                            OLS   Adj. R-squared:                  0.735\n",
      "Method:                 Least Squares   F-statistic:                     25.36\n",
      "Date:                Wed, 01 Nov 2023   Prob (F-statistic):           1.02e-18\n",
      "Time:                        19:59:04   Log-Likelihood:                -164.80\n",
      "No. Observations:                  80   AIC:                             349.6\n",
      "Df Residuals:                      70   BIC:                             373.4\n",
      "Df Model:                           9                                         \n",
      "Covariance Type:            nonrobust                                         \n",
      "==============================================================================\n",
      "                 coef    std err          t      P>|t|      [0.025      0.975]\n",
      "------------------------------------------------------------------------------\n",
      "const         -1.0403      0.789     -1.318      0.192      -2.614       0.534\n",
      "x1            -2.3428      1.813     -1.292      0.200      -5.958       1.272\n",
      "x2            -3.7913      1.843     -2.058      0.043      -7.466      -0.116\n",
      "x3             6.5131      3.153      2.066      0.043       0.225      12.802\n",
      "x4            -1.8422      1.477     -1.247      0.217      -4.789       1.104\n",
      "x5            -1.6349      0.875     -1.869      0.066      -3.379       0.109\n",
      "x6             1.2483      0.723      1.727      0.089      -0.193       2.690\n",
      "x7            -0.3423      0.220     -1.553      0.125      -0.782       0.097\n",
      "x8             0.0433      0.030      1.428      0.158      -0.017       0.104\n",
      "x9            -0.0021      0.002     -1.337      0.185      -0.005       0.001\n",
      "==============================================================================\n",
      "Omnibus:                        8.451   Durbin-Watson:                   1.963\n",
      "Prob(Omnibus):                  0.015   Jarque-Bera (JB):                3.951\n",
      "Skew:                           0.297   Prob(JB):                        0.139\n",
      "Kurtosis:                       2.087   Cond. No.                     1.63e+07\n",
      "==============================================================================\n",
      "\n",
      "Notes:\n",
      "[1] Standard Errors assume that the covariance matrix of the errors is correctly specified.\n",
      "[2] The condition number is large, 1.63e+07. This might indicate that there are\n",
      "strong multicollinearity or other numerical problems.\n"
     ]
    }
   ],
   "source": [
    "# Model Fit - Train\n",
    "\n",
    "olsmod_LinReg_Poly9 = sm.OLS(y_train, X_train_poly[:,0:10]) # definition of model f(x)=b0+b1x+...+b9x^9\n",
    "olsres_LinReg_Poly9 = olsmod_LinReg_Poly9.fit() # parameter estimation on Train set - model name olsres_LinReg\n",
    "\n",
    "# Get the summary of the model\n",
    "olsres_LinReg_Poly9_summary = olsres_LinReg_Poly9.summary()\n",
    "print(olsres_LinReg_Poly9_summary)\n",
    "\n",
    "y_hat_Poly9_tr = olsres_LinReg_Poly9.predict(X_train_poly[:,0:10]) # predictions on training set\n",
    "y_hat_Poly9_te = olsres_LinReg_Poly9.predict(X_test_poly[:,0:10]) # predictions on test set"
   ]
  },
  {
   "cell_type": "code",
   "execution_count": 15,
   "id": "smoking-hebrew",
   "metadata": {},
   "outputs": [],
   "source": [
    "# Define the Polynomial Function\n",
    "# Extract the coefficients from the fitted model\n",
    "coefficients9 = olsres_LinReg_Poly9.params\n",
    "\n",
    "# Define a function to calculate the polynomial value\n",
    "def polynomial_function9(x):\n",
    "    # Extract individual coefficients\n",
    "    b0 = coefficients9[0]\n",
    "    b1 = coefficients9[1]\n",
    "    b2 = coefficients9[2]\n",
    "    b3 = coefficients9[3]\n",
    "    b4 = coefficients9[4]\n",
    "    b5 = coefficients9[5]\n",
    "    b6 = coefficients9[6]\n",
    "    b7 = coefficients9[7]\n",
    "    b8 = coefficients9[8]\n",
    "    b9 = coefficients9[9]\n",
    "    \n",
    "    # Calculate the polynomial value using the coefficients\n",
    "    y = b0+b1*x + b2*x**2 + b3*x**3 + b4*x**4 + b5*x**5 + b6*x**6 + b7*x**7 + b8*x**8 + b9*x**9\n",
    "    \n",
    "    return y"
   ]
  },
  {
   "cell_type": "code",
   "execution_count": 16,
   "id": "excess-singer",
   "metadata": {},
   "outputs": [],
   "source": [
    "# Model Fit - Train\n",
    "degPoly_max=20\n",
    "\n",
    "olsmod_LinReg_Poly20 = sm.OLS(y_train,X_train_poly[:,0:degPoly_max+1]) # definition of model f(x)=b0+b1x+...+b90x^90\n",
    "olsres_LinReg_Poly20 = olsmod_LinReg_Poly20.fit() # parameter estimation on Train set - model name olsres_LinReg\n",
    "\n",
    "# Get the summary of the model\n",
    "olsres_LinReg_Poly20_summary = olsres_LinReg_Poly20.summary()\n",
    "#print(olsres_LinReg_Poly90_summary)\n",
    "\n",
    "y_hat_Poly20_tr = olsres_LinReg_Poly20.predict(X_train_poly[:,0:degPoly_max+1]) # predictions on training set\n",
    "y_hat_Poly20_te = olsres_LinReg_Poly20.predict(X_test_poly[:,0:degPoly_max+1]) # predictions on test set"
   ]
  },
  {
   "cell_type": "code",
   "execution_count": 17,
   "id": "intelligent-eating",
   "metadata": {},
   "outputs": [],
   "source": [
    "# Define the polynomial function\n",
    "def polynomial_function20(x, coefficients):\n",
    "    degree = len(coefficients) - 1  # Determine the degree based on the number of coefficients\n",
    "    y = sum(coeff * x ** i for i, coeff in enumerate(coefficients))\n",
    "    return y"
   ]
  },
  {
   "cell_type": "code",
   "execution_count": null,
   "id": "consecutive-possession",
   "metadata": {},
   "outputs": [],
   "source": []
  },
  {
   "cell_type": "code",
   "execution_count": 18,
   "id": "oriented-weekly",
   "metadata": {},
   "outputs": [
    {
     "data": {
      "image/png": "[encoded data removed]",
      "text/plain": [
       "<Figure size 1152x576 with 2 Axes>"
      ]
     },
     "metadata": {
      "needs_background": "light"
     },
     "output_type": "display_data"
    }
   ],
   "source": [
    "# Generate the data points\n",
    "xFunc = np.linspace(-3, 8, 200)\n",
    "\n",
    "# Plot size\n",
    "\n",
    "plt.figure(figsize=(16, 8))  # Adjust the figure size as needed\n",
    "plt.subplot(1, 2, 1)\n",
    "\n",
    "plt.plot(X_train_poly[:,1], y_train, 'o', label='Observations');\n",
    "plt.plot(xFunc,polynomial_function3(xFunc), '-', label='ideal');\n",
    "\n",
    "\n",
    "plt.xlim(-2,7)  # Set the x-axis limits \n",
    "plt.ylim(-25, 25)  # Set the y-axis limits \n",
    "\n",
    "plt.xlabel('Input Feature X')\n",
    "plt.ylabel('Target') \n",
    "plt.title('Model vs. Data (Train set) - Polynomial deg 3')\n",
    "#position of labels\n",
    "plt.legend(); \n",
    "\n",
    "plt.subplot(1, 2, 2)\n",
    "\n",
    "plt.plot(X_test_poly[:,1], y_test, 'o', label='model vs. data');\n",
    "plt.plot(xFunc,polynomial_function3(xFunc), '-', label='ideal');\n",
    "\n",
    "\n",
    "plt.xlim(-2,7)  # Set the x-axis limits \n",
    "plt.ylim(-25, 25)  # Set the y-axis limits \n",
    "\n",
    "plt.xlabel('Input Feature X')\n",
    "plt.ylabel('Target') \n",
    "plt.title('Model vs. Data (Test set) - Polynomial deg 3')\n",
    "#position of labels\n",
    "plt.legend(); \n"
   ]
  },
  {
   "cell_type": "code",
   "execution_count": 19,
   "id": "undefined-tracy",
   "metadata": {},
   "outputs": [
    {
     "data": {
      "image/png": "[encoded data removed]",
      "text/plain": [
       "<Figure size 1152x576 with 2 Axes>"
      ]
     },
     "metadata": {
      "needs_background": "light"
     },
     "output_type": "display_data"
    }
   ],
   "source": [
    "# Generate the data points\n",
    "xFunc = np.linspace(-3, 8, 200)\n",
    "\n",
    "# Plot size\n",
    "\n",
    "plt.figure(figsize=(16, 8))  # Adjust the figure size as needed\n",
    "plt.subplot(1, 2, 1)\n",
    "\n",
    "plt.plot(X_train_poly[:,1], y_train, 'o', label='Observations');\n",
    "plt.plot(xFunc,polynomial_function9(xFunc), '-', label='model');\n",
    "\n",
    "\n",
    "plt.xlim(-2,7)  # Set the x-axis limits \n",
    "plt.ylim(-25, 25)  # Set the y-axis limits  \n",
    "\n",
    "plt.xlabel('Input Feature X')\n",
    "plt.ylabel('Target') \n",
    "plt.title('Model vs. Data (Train set) - Polynomial deg 9')\n",
    "#position of labels\n",
    "plt.legend(); \n",
    "\n",
    "plt.subplot(1, 2, 2)\n",
    "\n",
    "plt.plot(X_test_poly[:,1], y_test, 'o', label='Observations');\n",
    "plt.plot(xFunc,polynomial_function9(xFunc), '-', label='model');\n",
    "\n",
    "\n",
    "plt.xlim(-2,7)  # Set the x-axis limits \n",
    "plt.ylim(-25, 25)  # Set the y-axis limits  \n",
    "\n",
    "plt.xlabel('Input Feature X')\n",
    "plt.ylabel('Target') \n",
    "plt.title('Model vs. Data (Test set) - Polynomial deg 9')\n",
    "#position of labels\n",
    "plt.legend(); \n"
   ]
  },
  {
   "cell_type": "code",
   "execution_count": 20,
   "id": "defensive-begin",
   "metadata": {},
   "outputs": [
    {
     "data": {
      "image/png": "[encoded data removed]",
      "text/plain": [
       "<Figure size 1152x576 with 2 Axes>"
      ]
     },
     "metadata": {
      "needs_background": "light"
     },
     "output_type": "display_data"
    }
   ],
   "source": [
    "# Generate the data points\n",
    "xFunc = np.linspace(-3, 8, 200)\n",
    "\n",
    "# Extract the coefficients from the fitted model\n",
    "coefficients20 = olsres_LinReg_Poly20.params\n",
    "\n",
    "# Plot size\n",
    "\n",
    "plt.figure(figsize=(16, 8))  # Adjust the figure size as needed\n",
    "plt.subplot(1, 2, 1)\n",
    "\n",
    "plt.plot(X_train_poly[:,1], y_train, 'o', label='Observations');\n",
    "plt.plot(xFunc,polynomial_function20(xFunc,coefficients20), '-', label='model');\n",
    "\n",
    "\n",
    "plt.xlim(-2,7)  # Set the x-axis limits \n",
    "plt.ylim(-25, 75)  # Set the y-axis limits  \n",
    "\n",
    "plt.xlabel('Input Feature X')\n",
    "plt.ylabel('Target') \n",
    "plt.title('Model vs. Data (Train set) - Polynomial deg 20')\n",
    "#position of labels\n",
    "plt.legend(); \n",
    "\n",
    "plt.subplot(1, 2, 2)\n",
    "\n",
    "plt.plot(X_test_poly[:,1], y_test, 'o', label='Observations');\n",
    "plt.plot(xFunc,polynomial_function20(xFunc,coefficients20), '-', label='model');\n",
    "\n",
    "\n",
    "plt.xlim(-2,7)  # Set the x-axis limits \n",
    "plt.ylim(-25, 75)  # Set the y-axis limits  \n",
    "\n",
    "plt.xlabel('Input Feature X')\n",
    "plt.ylabel('Target') \n",
    "plt.title('Model vs. Data (Test set) - Polynomial deg 20')\n",
    "#position of labels\n",
    "plt.legend(); \n"
   ]
  },
  {
   "cell_type": "markdown",
   "id": "muslim-coalition",
   "metadata": {},
   "source": [
    "### Aufgabe 1) Polynommodell (univariat)\n",
    "\n",
    "Wir haben gesehen, daß mit steigender Komplexität des Modelles (das heißt hier wachsendem Polynomgrad) das Modell zwar teilweise besser auf der Trainingsmenge wird, aber irgendwann schlechter beim Generalisieren auf ungesehene Daten. Zumindest so lange, bis derr Lösungsalgorithmus Probleme beim stabilen Fitten der Parameter bekommt.\n",
    "\n",
    "\n",
    "- Berechnen Sie den RMSE auf der Trainings- und Testmenge für Polynomgrade von 0 bis 50.\n",
    "\n",
    "Hinweis:  \n",
    "\n",
    "    - Legen Sie Polynomiale Features bis zu Grad 50 in den Daten an. \n",
    "    - Teilen Sie den Datensatz in 80% Training und 20% Test\n",
    "    - Variieren Sie in einer Schleife den Grad des Polynoms (= Anzahl der Spalten in der Feature Matrix die OLS benutzt)\n",
    "    - Lassen Sie sich RMSE und Pearson Korrelation für Trainings- und Testmenge in eine Liste schreiben\n",
    "    \n",
    "- Zeichnen Sie Trainings- und Testfehler in Abhängigkeit vom steigenden Polynomgrad\n",
    "- Interpretieren Sie das Ergebnis: welche Komplexität wäre optimal?\n"
   ]
  },
  {
   "cell_type": "markdown",
   "id": "listed-services",
   "metadata": {},
   "source": [
    "### ...und wie sieht das Ganze auf echten Daten aus?\n",
    "\n",
    "wir nehmen nochmal den Datensatz zur Diabetes-Erkrankung."
   ]
  },
  {
   "cell_type": "code",
   "execution_count": 21,
   "id": "becoming-browser",
   "metadata": {},
   "outputs": [
    {
     "data": {
      "text/html": [
       "<div>\n",
       "<style scoped>\n",
       "    .dataframe tbody tr th:only-of-type {\n",
       "        vertical-align: middle;\n",
       "    }\n",
       "\n",
       "    .dataframe tbody tr th {\n",
       "        vertical-align: top;\n",
       "    }\n",
       "\n",
       "    .dataframe thead th {\n",
       "        text-align: right;\n",
       "    }\n",
       "</style>\n",
       "<table border=\"1\" class=\"dataframe\">\n",
       "  <thead>\n",
       "    <tr style=\"text-align: right;\">\n",
       "      <th></th>\n",
       "      <th>age</th>\n",
       "      <th>sex</th>\n",
       "      <th>bmi</th>\n",
       "      <th>bp</th>\n",
       "      <th>s1</th>\n",
       "      <th>s2</th>\n",
       "      <th>s3</th>\n",
       "      <th>s4</th>\n",
       "      <th>s5</th>\n",
       "      <th>s6</th>\n",
       "      <th>Target</th>\n",
       "    </tr>\n",
       "  </thead>\n",
       "  <tbody>\n",
       "    <tr>\n",
       "      <th>0</th>\n",
       "      <td>0.038076</td>\n",
       "      <td>0.050680</td>\n",
       "      <td>0.061696</td>\n",
       "      <td>0.021872</td>\n",
       "      <td>-0.044223</td>\n",
       "      <td>-0.034821</td>\n",
       "      <td>-0.043401</td>\n",
       "      <td>-0.002592</td>\n",
       "      <td>0.019908</td>\n",
       "      <td>-0.017646</td>\n",
       "      <td>151.0</td>\n",
       "    </tr>\n",
       "    <tr>\n",
       "      <th>1</th>\n",
       "      <td>-0.001882</td>\n",
       "      <td>-0.044642</td>\n",
       "      <td>-0.051474</td>\n",
       "      <td>-0.026328</td>\n",
       "      <td>-0.008449</td>\n",
       "      <td>-0.019163</td>\n",
       "      <td>0.074412</td>\n",
       "      <td>-0.039493</td>\n",
       "      <td>-0.068330</td>\n",
       "      <td>-0.092204</td>\n",
       "      <td>75.0</td>\n",
       "    </tr>\n",
       "    <tr>\n",
       "      <th>2</th>\n",
       "      <td>0.085299</td>\n",
       "      <td>0.050680</td>\n",
       "      <td>0.044451</td>\n",
       "      <td>-0.005671</td>\n",
       "      <td>-0.045599</td>\n",
       "      <td>-0.034194</td>\n",
       "      <td>-0.032356</td>\n",
       "      <td>-0.002592</td>\n",
       "      <td>0.002864</td>\n",
       "      <td>-0.025930</td>\n",
       "      <td>141.0</td>\n",
       "    </tr>\n",
       "    <tr>\n",
       "      <th>3</th>\n",
       "      <td>-0.089063</td>\n",
       "      <td>-0.044642</td>\n",
       "      <td>-0.011595</td>\n",
       "      <td>-0.036656</td>\n",
       "      <td>0.012191</td>\n",
       "      <td>0.024991</td>\n",
       "      <td>-0.036038</td>\n",
       "      <td>0.034309</td>\n",
       "      <td>0.022692</td>\n",
       "      <td>-0.009362</td>\n",
       "      <td>206.0</td>\n",
       "    </tr>\n",
       "    <tr>\n",
       "      <th>4</th>\n",
       "      <td>0.005383</td>\n",
       "      <td>-0.044642</td>\n",
       "      <td>-0.036385</td>\n",
       "      <td>0.021872</td>\n",
       "      <td>0.003935</td>\n",
       "      <td>0.015596</td>\n",
       "      <td>0.008142</td>\n",
       "      <td>-0.002592</td>\n",
       "      <td>-0.031991</td>\n",
       "      <td>-0.046641</td>\n",
       "      <td>135.0</td>\n",
       "    </tr>\n",
       "    <tr>\n",
       "      <th>...</th>\n",
       "      <td>...</td>\n",
       "      <td>...</td>\n",
       "      <td>...</td>\n",
       "      <td>...</td>\n",
       "      <td>...</td>\n",
       "      <td>...</td>\n",
       "      <td>...</td>\n",
       "      <td>...</td>\n",
       "      <td>...</td>\n",
       "      <td>...</td>\n",
       "      <td>...</td>\n",
       "    </tr>\n",
       "    <tr>\n",
       "      <th>437</th>\n",
       "      <td>0.041708</td>\n",
       "      <td>0.050680</td>\n",
       "      <td>0.019662</td>\n",
       "      <td>0.059744</td>\n",
       "      <td>-0.005697</td>\n",
       "      <td>-0.002566</td>\n",
       "      <td>-0.028674</td>\n",
       "      <td>-0.002592</td>\n",
       "      <td>0.031193</td>\n",
       "      <td>0.007207</td>\n",
       "      <td>178.0</td>\n",
       "    </tr>\n",
       "    <tr>\n",
       "      <th>438</th>\n",
       "      <td>-0.005515</td>\n",
       "      <td>0.050680</td>\n",
       "      <td>-0.015906</td>\n",
       "      <td>-0.067642</td>\n",
       "      <td>0.049341</td>\n",
       "      <td>0.079165</td>\n",
       "      <td>-0.028674</td>\n",
       "      <td>0.034309</td>\n",
       "      <td>-0.018118</td>\n",
       "      <td>0.044485</td>\n",
       "      <td>104.0</td>\n",
       "    </tr>\n",
       "    <tr>\n",
       "      <th>439</th>\n",
       "      <td>0.041708</td>\n",
       "      <td>0.050680</td>\n",
       "      <td>-0.015906</td>\n",
       "      <td>0.017282</td>\n",
       "      <td>-0.037344</td>\n",
       "      <td>-0.013840</td>\n",
       "      <td>-0.024993</td>\n",
       "      <td>-0.011080</td>\n",
       "      <td>-0.046879</td>\n",
       "      <td>0.015491</td>\n",
       "      <td>132.0</td>\n",
       "    </tr>\n",
       "    <tr>\n",
       "      <th>440</th>\n",
       "      <td>-0.045472</td>\n",
       "      <td>-0.044642</td>\n",
       "      <td>0.039062</td>\n",
       "      <td>0.001215</td>\n",
       "      <td>0.016318</td>\n",
       "      <td>0.015283</td>\n",
       "      <td>-0.028674</td>\n",
       "      <td>0.026560</td>\n",
       "      <td>0.044528</td>\n",
       "      <td>-0.025930</td>\n",
       "      <td>220.0</td>\n",
       "    </tr>\n",
       "    <tr>\n",
       "      <th>441</th>\n",
       "      <td>-0.045472</td>\n",
       "      <td>-0.044642</td>\n",
       "      <td>-0.073030</td>\n",
       "      <td>-0.081414</td>\n",
       "      <td>0.083740</td>\n",
       "      <td>0.027809</td>\n",
       "      <td>0.173816</td>\n",
       "      <td>-0.039493</td>\n",
       "      <td>-0.004220</td>\n",
       "      <td>0.003064</td>\n",
       "      <td>57.0</td>\n",
       "    </tr>\n",
       "  </tbody>\n",
       "</table>\n",
       "<p>442 rows × 11 columns</p>\n",
       "</div>"
      ],
      "text/plain": [
       "          age       sex       bmi        bp        s1        s2        s3  \\\n",
       "0    0.038076  0.050680  0.061696  0.021872 -0.044223 -0.034821 -0.043401   \n",
       "1   -0.001882 -0.044642 -0.051474 -0.026328 -0.008449 -0.019163  0.074412   \n",
       "2    0.085299  0.050680  0.044451 -0.005671 -0.045599 -0.034194 -0.032356   \n",
       "3   -0.089063 -0.044642 -0.011595 -0.036656  0.012191  0.024991 -0.036038   \n",
       "4    0.005383 -0.044642 -0.036385  0.021872  0.003935  0.015596  0.008142   \n",
       "..        ...       ...       ...       ...       ...       ...       ...   \n",
       "437  0.041708  0.050680  0.019662  0.059744 -0.005697 -0.002566 -0.028674   \n",
       "438 -0.005515  0.050680 -0.015906 -0.067642  0.049341  0.079165 -0.028674   \n",
       "439  0.041708  0.050680 -0.015906  0.017282 -0.037344 -0.013840 -0.024993   \n",
       "440 -0.045472 -0.044642  0.039062  0.001215  0.016318  0.015283 -0.028674   \n",
       "441 -0.045472 -0.044642 -0.073030 -0.081414  0.083740  0.027809  0.173816   \n",
       "\n",
       "           s4        s5        s6  Target  \n",
       "0   -0.002592  0.019908 -0.017646   151.0  \n",
       "1   -0.039493 -0.068330 -0.092204    75.0  \n",
       "2   -0.002592  0.002864 -0.025930   141.0  \n",
       "3    0.034309  0.022692 -0.009362   206.0  \n",
       "4   -0.002592 -0.031991 -0.046641   135.0  \n",
       "..        ...       ...       ...     ...  \n",
       "437 -0.002592  0.031193  0.007207   178.0  \n",
       "438  0.034309 -0.018118  0.044485   104.0  \n",
       "439 -0.011080 -0.046879  0.015491   132.0  \n",
       "440  0.026560  0.044528 -0.025930   220.0  \n",
       "441 -0.039493 -0.004220  0.003064    57.0  \n",
       "\n",
       "[442 rows x 11 columns]"
      ]
     },
     "execution_count": 21,
     "metadata": {},
     "output_type": "execute_result"
    }
   ],
   "source": [
    "from sklearn.datasets import load_diabetes\n",
    "\n",
    "\n",
    "# Load the Diabetes dataset\n",
    "diabetes = load_diabetes()\n",
    "\n",
    "# The dataset is stored as a dictionary-like object with various attributes\n",
    "# You can access the data, target, feature names, and other information from the dictionary\n",
    "data = diabetes.data  # Features\n",
    "target = diabetes.target  # Target (diabetes progression)\n",
    "feature_names = diabetes.feature_names  # Feature names\n",
    "\n",
    "# Create a Pandas DataFrame to work with the data more easily (optional)\n",
    "diabetes_df = pd.DataFrame(data, columns=feature_names)\n",
    "diabetes_df['Target'] = target  # Adding the target column\n",
    "\n",
    "# Display the first few rows of the DataFrame with the Input Features\n",
    "diabetes_df"
   ]
  },
  {
   "cell_type": "markdown",
   "id": "considered-instruction",
   "metadata": {},
   "source": [
    "Mit Hilfe einer Heatmap hatten wir letztes Mal schon festgestellt, daß die erklärende Variable mit dem größten (linearen) Zusammenhang zum Target der BMI ist:"
   ]
  },
  {
   "cell_type": "code",
   "execution_count": 22,
   "id": "acting-cemetery",
   "metadata": {},
   "outputs": [
    {
     "data": {
      "image/png": "[encoded data removed]",
      "text/plain": [
       "<Figure size 720x576 with 2 Axes>"
      ]
     },
     "metadata": {
      "needs_background": "light"
     },
     "output_type": "display_data"
    }
   ],
   "source": [
    "# Plot the correlation-Heatmap\n",
    "fig = plt.figure(figsize=(10, 8));\n",
    "sns.heatmap(diabetes_df.corr(), cmap=\"YlGnBu\", annot=True)\n",
    "  \n",
    "plt.show()"
   ]
  },
  {
   "cell_type": "markdown",
   "id": "mysterious-termination",
   "metadata": {},
   "source": [
    "Mit einem Modell der linearen Einfachregression ist man beim letzten Mal auf der Testmenge auf einen RMSE von ungefähr 50 - 60 gekommen.\n",
    "\n",
    "$\\textbf{Frage:}$ Wird es besser, wenn man den bmi auch nichtlinear ins Modell eingehen läßt?\n",
    "\n",
    "Stichwort: univariates Polynommodell!"
   ]
  },
  {
   "cell_type": "code",
   "execution_count": 23,
   "id": "arabic-header",
   "metadata": {},
   "outputs": [],
   "source": [
    "from sklearn.model_selection import train_test_split\n",
    "\n",
    "# Assuming you have a single DataFrame 'df' with features and target\n",
    "X = diabetes_df['bmi']  # Features = bmi\n",
    "y = diabetes_df['Target']  # Target variable\n"
   ]
  },
  {
   "cell_type": "markdown",
   "id": "first-owner",
   "metadata": {},
   "source": [
    "Wenn wir ein univariates Polynommodell anpassen wollen, dann haben wir die Modellstruktur:\n",
    "    \n",
    "$f(X)=b_0+b_1X+b_2X^2+\\cdot + b_mX^m$\n",
    "\n",
    "\n",
    "unsere Datenmatrix $X$ muß also für n Datenpunkte $x_1,\\ldots,x_n$ die Form\n",
    "\n",
    "\n",
    "$$\n",
    "X=\\begin{pmatrix} \n",
    "1 & x_1 & \\ldots & x_1^m\\\\\n",
    " 1 & x_2 & \\ldots & x_2^m\\\\\n",
    " \\vdots & \\vdots & \\ddots & \\vdots \\\\\n",
    " 1 & x_n & \\ldots & x_n^m\\\\\n",
    "\\end{pmatrix}\n",
    "$$\n",
    "\n",
    "haben.\n",
    "\n",
    "Wir brauchen zusätzlicher Spalten in unserer Feature-Matrix, die die potenzierte Größe 'bmi' enthalten.  \n",
    "\n",
    "Das könnten wir \"per Hand\" machen oder wir benutzen die \"Polynomial Features\" aus ScikitLearn..."
   ]
  },
  {
   "cell_type": "code",
   "execution_count": 24,
   "id": "returning-confidence",
   "metadata": {},
   "outputs": [
    {
     "name": "stdout",
     "output_type": "stream",
     "text": [
      "(442, 51)\n"
     ]
    }
   ],
   "source": [
    "# polynomial features\n",
    "\n",
    "from sklearn.preprocessing import PolynomialFeatures\n",
    "\n",
    "#degree of polynomial \n",
    "\n",
    "polynomial_features= PolynomialFeatures(degree=50)\n",
    "\n",
    "#generate numpy array\n",
    "X_bmi=np.array(X).reshape(-1,1)\n",
    "\n",
    "#append polynomial features\n",
    "X_bmi_poly = polynomial_features.fit_transform(X_bmi)\n",
    "\n",
    "print(X_bmi_poly.shape)"
   ]
  },
  {
   "cell_type": "code",
   "execution_count": 25,
   "id": "funny-jamaica",
   "metadata": {},
   "outputs": [
    {
     "data": {
      "image/png": "[encoded data removed]",
      "text/plain": [
       "<Figure size 480x480 with 1 Axes>"
      ]
     },
     "metadata": {
      "needs_background": "light"
     },
     "output_type": "display_data"
    }
   ],
   "source": [
    "# Plot size\n",
    "plt.figure(figsize=(6, 6), dpi=80)\n",
    "\n",
    "plt.plot(X_bmi_poly[:,1],X_bmi_poly[:,2],'o')\n",
    "\n",
    "plt.xlabel('X (bmi)');\n",
    "plt.ylabel('X^2 (bmi^2)');\n",
    "plt.title('1st Polynomial Feature');\n"
   ]
  },
  {
   "cell_type": "markdown",
   "id": "scientific-teddy",
   "metadata": {},
   "source": [
    "Jetzt müssen wir noch die Daten in Test- und Trainingsdatensatz aufteilen:"
   ]
  },
  {
   "cell_type": "code",
   "execution_count": 26,
   "id": "appropriate-going",
   "metadata": {},
   "outputs": [],
   "source": [
    "# Split the data into training and testing sets (by default, 80% train and 20% test)\n",
    "X_train_bmi_poly, X_test_bmi_poly, y_train, y_test = train_test_split(X_bmi_poly, y, test_size=0.20)"
   ]
  },
  {
   "cell_type": "code",
   "execution_count": 27,
   "id": "sharing-mouth",
   "metadata": {},
   "outputs": [
    {
     "data": {
      "text/plain": [
       "(89, 51)"
      ]
     },
     "execution_count": 27,
     "metadata": {},
     "output_type": "execute_result"
    }
   ],
   "source": [
    "np.shape(X_test_bmi_poly)"
   ]
  },
  {
   "cell_type": "markdown",
   "id": "impaired-month",
   "metadata": {},
   "source": [
    "### 2.1.2) Univariates Polynommodell - Diabetes Daten\n",
    "\n",
    "Das Anpassen des (linearisierten) Modelles geht mit OLS wie gehabt ganz einfach..."
   ]
  },
  {
   "cell_type": "markdown",
   "id": "velvet-belfast",
   "metadata": {},
   "source": [
    " "
   ]
  },
  {
   "cell_type": "code",
   "execution_count": 28,
   "id": "domestic-precipitation",
   "metadata": {},
   "outputs": [
    {
     "name": "stdout",
     "output_type": "stream",
     "text": [
      "                            OLS Regression Results                            \n",
      "==============================================================================\n",
      "Dep. Variable:                 Target   R-squared:                       0.344\n",
      "Model:                            OLS   Adj. R-squared:                  0.323\n",
      "Method:                 Least Squares   F-statistic:                     16.26\n",
      "Date:                Wed, 01 Nov 2023   Prob (F-statistic):           1.18e-25\n",
      "Time:                        19:59:06   Log-Likelihood:                -1959.9\n",
      "No. Observations:                 353   AIC:                             3944.\n",
      "Df Residuals:                     341   BIC:                             3990.\n",
      "Df Model:                          11                                         \n",
      "Covariance Type:            nonrobust                                         \n",
      "==============================================================================\n",
      "                 coef    std err          t      P>|t|      [0.025      0.975]\n",
      "------------------------------------------------------------------------------\n",
      "const        160.7869      7.329     21.940      0.000     146.372     175.202\n",
      "x1          1592.6686    479.395      3.322      0.001     649.726    2535.611\n",
      "x2          -2.12e+04   2.36e+04     -0.899      0.369   -6.76e+04    2.52e+04\n",
      "x3         -4.443e+05   6.11e+05     -0.727      0.468   -1.65e+06    7.58e+05\n",
      "x4          1.424e+07   1.92e+07      0.743      0.458   -2.34e+07    5.19e+07\n",
      "x5          4.279e+07   2.39e+08      0.179      0.858   -4.27e+08    5.13e+08\n",
      "x6         -3.921e+09   6.07e+09     -0.646      0.519   -1.59e+10    8.02e+09\n",
      "x7          1.525e+10   3.99e+10      0.382      0.702   -6.32e+10    9.37e+10\n",
      "x8          4.471e+11   8.18e+11      0.547      0.585   -1.16e+12    2.06e+12\n",
      "x9         -3.407e+12   4.91e+12     -0.694      0.488   -1.31e+13    6.25e+12\n",
      "x10        -1.386e+13   3.56e+13     -0.389      0.697   -8.39e+13    5.62e+13\n",
      "x11         1.896e+14   3.18e+14      0.595      0.552   -4.37e+14    8.16e+14\n",
      "x12        -4.146e+14   6.28e+14     -0.660      0.509   -1.65e+15     8.2e+14\n",
      "x13        -1.877e+14   2.85e+14     -0.658      0.511   -7.49e+14    3.73e+14\n",
      "x14        -6.806e+13   1.04e+14     -0.656      0.512   -2.72e+14    1.36e+14\n",
      "x15        -1.943e+13   2.96e+13     -0.656      0.513   -7.77e+13    3.89e+13\n",
      "x16        -5.013e+12   7.65e+12     -0.655      0.513   -2.01e+13       1e+13\n",
      "x17        -1.185e+12   1.81e+12     -0.655      0.513   -4.75e+12    2.38e+12\n",
      "x18        -2.652e+11   4.05e+11     -0.654      0.513   -1.06e+12    5.32e+11\n",
      "x19        -5.671e+10   8.67e+10     -0.654      0.513   -2.27e+11    1.14e+11\n",
      "x20        -1.173e+10   1.79e+10     -0.654      0.513    -4.7e+10    2.35e+10\n",
      "x21        -2.359e+09   3.61e+09     -0.654      0.514   -9.45e+09    4.74e+09\n",
      "x22        -4.643e+08    7.1e+08     -0.654      0.514   -1.86e+09    9.32e+08\n",
      "x23        -8.974e+07   1.37e+08     -0.654      0.514    -3.6e+08     1.8e+08\n",
      "x24        -1.709e+07   2.61e+07     -0.654      0.514   -6.85e+07    3.43e+07\n",
      "x25        -3.212e+06   4.91e+06     -0.654      0.514   -1.29e+07    6.45e+06\n",
      "x26        -5.974e+05   9.14e+05     -0.654      0.514    -2.4e+06     1.2e+06\n",
      "x27        -1.101e+05   1.68e+05     -0.654      0.514   -4.41e+05    2.21e+05\n",
      "x28        -2.013e+04   3.08e+04     -0.654      0.514   -8.07e+04    4.04e+04\n",
      "x29        -3654.3464   5591.305     -0.654      0.514   -1.47e+04    7343.444\n",
      "x30         -659.4957   1009.094     -0.654      0.514   -2644.329    1325.338\n",
      "x31         -118.3906    181.155     -0.654      0.514    -474.713     237.932\n",
      "x32          -21.1542     32.370     -0.654      0.514     -84.824      42.516\n",
      "x33           -3.7643      5.760     -0.653      0.514     -15.094       7.566\n",
      "x34           -0.6674      1.021     -0.653      0.514      -2.676       1.341\n",
      "x35           -0.1179      0.180     -0.653      0.514      -0.473       0.237\n",
      "x36           -0.0208      0.032     -0.653      0.514      -0.083       0.042\n",
      "x37           -0.0037      0.006     -0.653      0.514      -0.015       0.007\n",
      "x38           -0.0006      0.001     -0.653      0.514      -0.003       0.001\n",
      "x39           -0.0001      0.000     -0.653      0.514      -0.000       0.000\n",
      "x40        -1.955e-05   2.99e-05     -0.653      0.514   -7.84e-05    3.93e-05\n",
      "x41        -3.408e-06   5.22e-06     -0.653      0.514   -1.37e-05    6.85e-06\n",
      "x42         -5.93e-07   9.08e-07     -0.653      0.514   -2.38e-06    1.19e-06\n",
      "x43         -1.03e-07   1.58e-07     -0.653      0.514   -4.13e-07    2.07e-07\n",
      "x44        -1.788e-08   2.74e-08     -0.653      0.514   -7.17e-08    3.59e-08\n",
      "x45        -3.099e-09   4.74e-09     -0.653      0.514   -1.24e-08    6.23e-09\n",
      "x46        -5.365e-10   8.21e-10     -0.653      0.514   -2.15e-09    1.08e-09\n",
      "x47        -9.277e-11   1.42e-10     -0.653      0.514   -3.72e-10    1.87e-10\n",
      "x48        -1.603e-11   2.45e-11     -0.653      0.514   -6.43e-11    3.22e-11\n",
      "x49        -2.767e-12   4.23e-12     -0.653      0.514   -1.11e-11    5.56e-12\n",
      "x50        -4.772e-13    7.3e-13     -0.653      0.514   -1.91e-12    9.59e-13\n",
      "==============================================================================\n",
      "Omnibus:                       10.473   Durbin-Watson:                   2.125\n",
      "Prob(Omnibus):                  0.005   Jarque-Bera (JB):                7.197\n",
      "Skew:                           0.219   Prob(JB):                       0.0274\n",
      "Kurtosis:                       2.454   Cond. No.                     1.00e+16\n",
      "==============================================================================\n",
      "\n",
      "Notes:\n",
      "[1] Standard Errors assume that the covariance matrix of the errors is correctly specified.\n",
      "[2] The smallest eigenvalue is 3.52e-30. This might indicate that there are\n",
      "strong multicollinearity problems or that the design matrix is singular.\n"
     ]
    }
   ],
   "source": [
    "# Model Fit - Train\n",
    "\n",
    "olsmod_LinRegPoly = sm.OLS(y_train, X_train_bmi_poly) # definition of model\n",
    "olsres_LinRegPoly = olsmod_LinRegPoly.fit() # parameter estimation on Train set - model name olsres_LinReg\n",
    "\n",
    "# Get the summary of the model\n",
    "olsres_LinRegPoly_summary = olsres_LinRegPoly.summary()\n",
    "print(olsres_LinRegPoly_summary)"
   ]
  },
  {
   "cell_type": "code",
   "execution_count": null,
   "id": "applied-florist",
   "metadata": {},
   "outputs": [],
   "source": []
  },
  {
   "cell_type": "markdown",
   "id": "egyptian-herald",
   "metadata": {},
   "source": [
    "ist doch ein wenig besser als die Einfachregression, in der der 'bmi' nur linear eingeht...\n",
    "Vergleich zu vorher:\n",
    "    \n",
    "R-squared:                       0.296\n",
    "Adj. R-squared:                  0.294"
   ]
  },
  {
   "cell_type": "code",
   "execution_count": 29,
   "id": "stock-kansas",
   "metadata": {},
   "outputs": [],
   "source": [
    "y_hat_Poly_tr = olsres_LinRegPoly.predict(X_train_bmi_poly) # predictions on training set\n",
    "y_hat_Poly_te = olsres_LinRegPoly.predict(X_test_bmi_poly) # predictions on test set"
   ]
  },
  {
   "cell_type": "code",
   "execution_count": 30,
   "id": "durable-regular",
   "metadata": {},
   "outputs": [
    {
     "data": {
      "image/png": "[encoded data removed]",
      "text/plain": [
       "<Figure size 864x288 with 2 Axes>"
      ]
     },
     "metadata": {
      "needs_background": "light"
     },
     "output_type": "display_data"
    }
   ],
   "source": [
    "# Plot size\n",
    "\n",
    "plt.figure(figsize=(12, 4))  # Adjust the figure size as needed\n",
    "plt.subplot(1, 2, 1)\n",
    "\n",
    "plt.plot(y_hat_Poly_tr, y_train, 'o', label='model vs. data');\n",
    "plt.plot(y_train,y_train, 'r', label='ideal');\n",
    "plt.xlabel('model')\n",
    "plt.ylabel('target') \n",
    "plt.title('comparison of model and target (train set)')\n",
    "#position of labels\n",
    "plt.legend(); \n",
    "\n",
    "plt.subplot(1, 2, 2)\n",
    "\n",
    "plt.plot(y_hat_Poly_te, y_test, 'o', label='model vs. data');\n",
    "plt.plot(y_test,y_test, 'r', label='ideal');\n",
    "plt.xlabel('model')\n",
    "plt.ylabel('target') \n",
    "plt.title('comparison of model and target (test set)')\n",
    "#position of labels\n",
    "plt.legend(); \n",
    "\n",
    "\n",
    "\n"
   ]
  },
  {
   "cell_type": "code",
   "execution_count": 31,
   "id": "ahead-german",
   "metadata": {},
   "outputs": [
    {
     "data": {
      "image/png": "[encoded data removed]",
      "text/plain": [
       "<Figure size 360x360 with 1 Axes>"
      ]
     },
     "metadata": {
      "needs_background": "light"
     },
     "output_type": "display_data"
    }
   ],
   "source": [
    "sns.displot(y_hat_Poly_te - y_test); #Histogram of residuals"
   ]
  },
  {
   "cell_type": "markdown",
   "id": "golden-killer",
   "metadata": {},
   "source": []
  },
  {
   "cell_type": "markdown",
   "id": "expressed-source",
   "metadata": {},
   "source": [
    "### 2.1.3) Feature Selection"
   ]
  },
  {
   "cell_type": "markdown",
   "id": "communist-rouge",
   "metadata": {},
   "source": [
    "### Auf Basis des Model-Summary können wir versuchen begründet zu entscheiden, welche Variablen ins Modell rein sollen...\n",
    "\n",
    "Das macht vermutlich mehr Sinn!"
   ]
  },
  {
   "cell_type": "code",
   "execution_count": 32,
   "id": "genuine-opening",
   "metadata": {},
   "outputs": [
    {
     "data": {
      "text/html": [
       "<table class=\"simpletable\">\n",
       "<tr>\n",
       "    <td></td>       <th>coef</th>     <th>std err</th>      <th>t</th>      <th>P>|t|</th>  <th>[0.025</th>    <th>0.975]</th>  \n",
       "</tr>\n",
       "<tr>\n",
       "  <th>const</th> <td>  160.7869</td> <td>    7.329</td> <td>   21.940</td> <td> 0.000</td> <td>  146.372</td> <td>  175.202</td>\n",
       "</tr>\n",
       "<tr>\n",
       "  <th>x1</th>    <td> 1592.6686</td> <td>  479.395</td> <td>    3.322</td> <td> 0.001</td> <td>  649.726</td> <td> 2535.611</td>\n",
       "</tr>\n",
       "<tr>\n",
       "  <th>x2</th>    <td> -2.12e+04</td> <td> 2.36e+04</td> <td>   -0.899</td> <td> 0.369</td> <td>-6.76e+04</td> <td> 2.52e+04</td>\n",
       "</tr>\n",
       "<tr>\n",
       "  <th>x3</th>    <td>-4.443e+05</td> <td> 6.11e+05</td> <td>   -0.727</td> <td> 0.468</td> <td>-1.65e+06</td> <td> 7.58e+05</td>\n",
       "</tr>\n",
       "<tr>\n",
       "  <th>x4</th>    <td> 1.424e+07</td> <td> 1.92e+07</td> <td>    0.743</td> <td> 0.458</td> <td>-2.34e+07</td> <td> 5.19e+07</td>\n",
       "</tr>\n",
       "<tr>\n",
       "  <th>x5</th>    <td> 4.279e+07</td> <td> 2.39e+08</td> <td>    0.179</td> <td> 0.858</td> <td>-4.27e+08</td> <td> 5.13e+08</td>\n",
       "</tr>\n",
       "<tr>\n",
       "  <th>x6</th>    <td>-3.921e+09</td> <td> 6.07e+09</td> <td>   -0.646</td> <td> 0.519</td> <td>-1.59e+10</td> <td> 8.02e+09</td>\n",
       "</tr>\n",
       "<tr>\n",
       "  <th>x7</th>    <td> 1.525e+10</td> <td> 3.99e+10</td> <td>    0.382</td> <td> 0.702</td> <td>-6.32e+10</td> <td> 9.37e+10</td>\n",
       "</tr>\n",
       "<tr>\n",
       "  <th>x8</th>    <td> 4.471e+11</td> <td> 8.18e+11</td> <td>    0.547</td> <td> 0.585</td> <td>-1.16e+12</td> <td> 2.06e+12</td>\n",
       "</tr>\n",
       "<tr>\n",
       "  <th>x9</th>    <td>-3.407e+12</td> <td> 4.91e+12</td> <td>   -0.694</td> <td> 0.488</td> <td>-1.31e+13</td> <td> 6.25e+12</td>\n",
       "</tr>\n",
       "<tr>\n",
       "  <th>x10</th>   <td>-1.386e+13</td> <td> 3.56e+13</td> <td>   -0.389</td> <td> 0.697</td> <td>-8.39e+13</td> <td> 5.62e+13</td>\n",
       "</tr>\n",
       "<tr>\n",
       "  <th>x11</th>   <td> 1.896e+14</td> <td> 3.18e+14</td> <td>    0.595</td> <td> 0.552</td> <td>-4.37e+14</td> <td> 8.16e+14</td>\n",
       "</tr>\n",
       "<tr>\n",
       "  <th>x12</th>   <td>-4.146e+14</td> <td> 6.28e+14</td> <td>   -0.660</td> <td> 0.509</td> <td>-1.65e+15</td> <td>  8.2e+14</td>\n",
       "</tr>\n",
       "<tr>\n",
       "  <th>x13</th>   <td>-1.877e+14</td> <td> 2.85e+14</td> <td>   -0.658</td> <td> 0.511</td> <td>-7.49e+14</td> <td> 3.73e+14</td>\n",
       "</tr>\n",
       "<tr>\n",
       "  <th>x14</th>   <td>-6.806e+13</td> <td> 1.04e+14</td> <td>   -0.656</td> <td> 0.512</td> <td>-2.72e+14</td> <td> 1.36e+14</td>\n",
       "</tr>\n",
       "<tr>\n",
       "  <th>x15</th>   <td>-1.943e+13</td> <td> 2.96e+13</td> <td>   -0.656</td> <td> 0.513</td> <td>-7.77e+13</td> <td> 3.89e+13</td>\n",
       "</tr>\n",
       "<tr>\n",
       "  <th>x16</th>   <td>-5.013e+12</td> <td> 7.65e+12</td> <td>   -0.655</td> <td> 0.513</td> <td>-2.01e+13</td> <td>    1e+13</td>\n",
       "</tr>\n",
       "<tr>\n",
       "  <th>x17</th>   <td>-1.185e+12</td> <td> 1.81e+12</td> <td>   -0.655</td> <td> 0.513</td> <td>-4.75e+12</td> <td> 2.38e+12</td>\n",
       "</tr>\n",
       "<tr>\n",
       "  <th>x18</th>   <td>-2.652e+11</td> <td> 4.05e+11</td> <td>   -0.654</td> <td> 0.513</td> <td>-1.06e+12</td> <td> 5.32e+11</td>\n",
       "</tr>\n",
       "<tr>\n",
       "  <th>x19</th>   <td>-5.671e+10</td> <td> 8.67e+10</td> <td>   -0.654</td> <td> 0.513</td> <td>-2.27e+11</td> <td> 1.14e+11</td>\n",
       "</tr>\n",
       "<tr>\n",
       "  <th>x20</th>   <td>-1.173e+10</td> <td> 1.79e+10</td> <td>   -0.654</td> <td> 0.513</td> <td> -4.7e+10</td> <td> 2.35e+10</td>\n",
       "</tr>\n",
       "<tr>\n",
       "  <th>x21</th>   <td>-2.359e+09</td> <td> 3.61e+09</td> <td>   -0.654</td> <td> 0.514</td> <td>-9.45e+09</td> <td> 4.74e+09</td>\n",
       "</tr>\n",
       "<tr>\n",
       "  <th>x22</th>   <td>-4.643e+08</td> <td>  7.1e+08</td> <td>   -0.654</td> <td> 0.514</td> <td>-1.86e+09</td> <td> 9.32e+08</td>\n",
       "</tr>\n",
       "<tr>\n",
       "  <th>x23</th>   <td>-8.974e+07</td> <td> 1.37e+08</td> <td>   -0.654</td> <td> 0.514</td> <td> -3.6e+08</td> <td>  1.8e+08</td>\n",
       "</tr>\n",
       "<tr>\n",
       "  <th>x24</th>   <td>-1.709e+07</td> <td> 2.61e+07</td> <td>   -0.654</td> <td> 0.514</td> <td>-6.85e+07</td> <td> 3.43e+07</td>\n",
       "</tr>\n",
       "<tr>\n",
       "  <th>x25</th>   <td>-3.212e+06</td> <td> 4.91e+06</td> <td>   -0.654</td> <td> 0.514</td> <td>-1.29e+07</td> <td> 6.45e+06</td>\n",
       "</tr>\n",
       "<tr>\n",
       "  <th>x26</th>   <td>-5.974e+05</td> <td> 9.14e+05</td> <td>   -0.654</td> <td> 0.514</td> <td> -2.4e+06</td> <td>  1.2e+06</td>\n",
       "</tr>\n",
       "<tr>\n",
       "  <th>x27</th>   <td>-1.101e+05</td> <td> 1.68e+05</td> <td>   -0.654</td> <td> 0.514</td> <td>-4.41e+05</td> <td> 2.21e+05</td>\n",
       "</tr>\n",
       "<tr>\n",
       "  <th>x28</th>   <td>-2.013e+04</td> <td> 3.08e+04</td> <td>   -0.654</td> <td> 0.514</td> <td>-8.07e+04</td> <td> 4.04e+04</td>\n",
       "</tr>\n",
       "<tr>\n",
       "  <th>x29</th>   <td>-3654.3464</td> <td> 5591.305</td> <td>   -0.654</td> <td> 0.514</td> <td>-1.47e+04</td> <td> 7343.444</td>\n",
       "</tr>\n",
       "<tr>\n",
       "  <th>x30</th>   <td> -659.4957</td> <td> 1009.094</td> <td>   -0.654</td> <td> 0.514</td> <td>-2644.329</td> <td> 1325.338</td>\n",
       "</tr>\n",
       "<tr>\n",
       "  <th>x31</th>   <td> -118.3906</td> <td>  181.155</td> <td>   -0.654</td> <td> 0.514</td> <td> -474.713</td> <td>  237.932</td>\n",
       "</tr>\n",
       "<tr>\n",
       "  <th>x32</th>   <td>  -21.1542</td> <td>   32.370</td> <td>   -0.654</td> <td> 0.514</td> <td>  -84.824</td> <td>   42.516</td>\n",
       "</tr>\n",
       "<tr>\n",
       "  <th>x33</th>   <td>   -3.7643</td> <td>    5.760</td> <td>   -0.653</td> <td> 0.514</td> <td>  -15.094</td> <td>    7.566</td>\n",
       "</tr>\n",
       "<tr>\n",
       "  <th>x34</th>   <td>   -0.6674</td> <td>    1.021</td> <td>   -0.653</td> <td> 0.514</td> <td>   -2.676</td> <td>    1.341</td>\n",
       "</tr>\n",
       "<tr>\n",
       "  <th>x35</th>   <td>   -0.1179</td> <td>    0.180</td> <td>   -0.653</td> <td> 0.514</td> <td>   -0.473</td> <td>    0.237</td>\n",
       "</tr>\n",
       "<tr>\n",
       "  <th>x36</th>   <td>   -0.0208</td> <td>    0.032</td> <td>   -0.653</td> <td> 0.514</td> <td>   -0.083</td> <td>    0.042</td>\n",
       "</tr>\n",
       "<tr>\n",
       "  <th>x37</th>   <td>   -0.0037</td> <td>    0.006</td> <td>   -0.653</td> <td> 0.514</td> <td>   -0.015</td> <td>    0.007</td>\n",
       "</tr>\n",
       "<tr>\n",
       "  <th>x38</th>   <td>   -0.0006</td> <td>    0.001</td> <td>   -0.653</td> <td> 0.514</td> <td>   -0.003</td> <td>    0.001</td>\n",
       "</tr>\n",
       "<tr>\n",
       "  <th>x39</th>   <td>   -0.0001</td> <td>    0.000</td> <td>   -0.653</td> <td> 0.514</td> <td>   -0.000</td> <td>    0.000</td>\n",
       "</tr>\n",
       "<tr>\n",
       "  <th>x40</th>   <td>-1.955e-05</td> <td> 2.99e-05</td> <td>   -0.653</td> <td> 0.514</td> <td>-7.84e-05</td> <td> 3.93e-05</td>\n",
       "</tr>\n",
       "<tr>\n",
       "  <th>x41</th>   <td>-3.408e-06</td> <td> 5.22e-06</td> <td>   -0.653</td> <td> 0.514</td> <td>-1.37e-05</td> <td> 6.85e-06</td>\n",
       "</tr>\n",
       "<tr>\n",
       "  <th>x42</th>   <td> -5.93e-07</td> <td> 9.08e-07</td> <td>   -0.653</td> <td> 0.514</td> <td>-2.38e-06</td> <td> 1.19e-06</td>\n",
       "</tr>\n",
       "<tr>\n",
       "  <th>x43</th>   <td> -1.03e-07</td> <td> 1.58e-07</td> <td>   -0.653</td> <td> 0.514</td> <td>-4.13e-07</td> <td> 2.07e-07</td>\n",
       "</tr>\n",
       "<tr>\n",
       "  <th>x44</th>   <td>-1.788e-08</td> <td> 2.74e-08</td> <td>   -0.653</td> <td> 0.514</td> <td>-7.17e-08</td> <td> 3.59e-08</td>\n",
       "</tr>\n",
       "<tr>\n",
       "  <th>x45</th>   <td>-3.099e-09</td> <td> 4.74e-09</td> <td>   -0.653</td> <td> 0.514</td> <td>-1.24e-08</td> <td> 6.23e-09</td>\n",
       "</tr>\n",
       "<tr>\n",
       "  <th>x46</th>   <td>-5.365e-10</td> <td> 8.21e-10</td> <td>   -0.653</td> <td> 0.514</td> <td>-2.15e-09</td> <td> 1.08e-09</td>\n",
       "</tr>\n",
       "<tr>\n",
       "  <th>x47</th>   <td>-9.277e-11</td> <td> 1.42e-10</td> <td>   -0.653</td> <td> 0.514</td> <td>-3.72e-10</td> <td> 1.87e-10</td>\n",
       "</tr>\n",
       "<tr>\n",
       "  <th>x48</th>   <td>-1.603e-11</td> <td> 2.45e-11</td> <td>   -0.653</td> <td> 0.514</td> <td>-6.43e-11</td> <td> 3.22e-11</td>\n",
       "</tr>\n",
       "<tr>\n",
       "  <th>x49</th>   <td>-2.767e-12</td> <td> 4.23e-12</td> <td>   -0.653</td> <td> 0.514</td> <td>-1.11e-11</td> <td> 5.56e-12</td>\n",
       "</tr>\n",
       "<tr>\n",
       "  <th>x50</th>   <td>-4.772e-13</td> <td>  7.3e-13</td> <td>   -0.653</td> <td> 0.514</td> <td>-1.91e-12</td> <td> 9.59e-13</td>\n",
       "</tr>\n",
       "</table>"
      ],
      "text/plain": [
       "<class 'statsmodels.iolib.table.SimpleTable'>"
      ]
     },
     "execution_count": 32,
     "metadata": {},
     "output_type": "execute_result"
    }
   ],
   "source": [
    "olsres_LinRegPoly_summary.tables[1]"
   ]
  },
  {
   "cell_type": "code",
   "execution_count": 33,
   "id": "metallic-ghost",
   "metadata": {},
   "outputs": [],
   "source": [
    "# Extract feature names from the summary\n",
    "feature_names = olsres_LinRegPoly_summary.tables[1]\n",
    "\n",
    "feature_names;\n",
    "# Print the feature names\n",
    "#print(\"Feature Names:\", feature_names)"
   ]
  },
  {
   "cell_type": "code",
   "execution_count": 34,
   "id": "informational-chinese",
   "metadata": {},
   "outputs": [],
   "source": [
    "# Extract only the variable names and their corresponding p-values\n",
    "variable_names_and_pvalues = [(row[0], row[4]) for row in feature_names.data[1:]];\n",
    "\n",
    "# Print the variable names and their p-values\n",
    "#for name, p_value in variable_names_and_pvalues:\n",
    "#    print(f\"Variable Name: {name}, P-value: {p_value}\")\n",
    "    \n",
    "# Create a list of tuples with variable names and p-values\n",
    "variable_list = [[name, p_value] for name, p_value in variable_names_and_pvalues];\n",
    "\n",
    "# Print the variable list\n",
    "\n",
    "# print(np.array(variable_list))\n"
   ]
  },
  {
   "cell_type": "markdown",
   "id": "closing-survival",
   "metadata": {},
   "source": [
    "### Aufgabe 2) Feature Selection\n",
    "\n",
    "Wir haben zwei verschiedene Methoden kennengelernt um auszuwählen, welche Features ins Modell rein sollen:\n",
    "\n",
    "    - Forward Selection - das Modell wird sukzessive erweitert\n",
    "    - Backward Selection - das Modell wird schrittweise vereinfacht\n",
    "    \n",
    "Versuchen Sie anhand der p-Werte und der erzielten Performance-Kriterien ein optimales Setup für das Polynommodell zu finden.\n",
    "\n",
    "Welche Verbesserung erzielt man durch die sinnvolle Auswahl im Vergleich zum Modell vom Grad "
   ]
  },
  {
   "cell_type": "markdown",
   "id": "involved-workshop",
   "metadata": {},
   "source": [
    "## 2.2) Ein multivariates lineares Modell"
   ]
  },
  {
   "cell_type": "code",
   "execution_count": 35,
   "id": "charming-christian",
   "metadata": {},
   "outputs": [],
   "source": [
    "# Assuming you have a single DataFrame 'df' with features and target\n",
    "X_mult = diabetes_df.drop('Target',axis=1)  # drop target\n",
    "y = diabetes_df['Target']  # Target variable"
   ]
  },
  {
   "cell_type": "code",
   "execution_count": 36,
   "id": "blocked-ticket",
   "metadata": {},
   "outputs": [
    {
     "data": {
      "text/html": [
       "<div>\n",
       "<style scoped>\n",
       "    .dataframe tbody tr th:only-of-type {\n",
       "        vertical-align: middle;\n",
       "    }\n",
       "\n",
       "    .dataframe tbody tr th {\n",
       "        vertical-align: top;\n",
       "    }\n",
       "\n",
       "    .dataframe thead th {\n",
       "        text-align: right;\n",
       "    }\n",
       "</style>\n",
       "<table border=\"1\" class=\"dataframe\">\n",
       "  <thead>\n",
       "    <tr style=\"text-align: right;\">\n",
       "      <th></th>\n",
       "      <th>age</th>\n",
       "      <th>sex</th>\n",
       "      <th>bmi</th>\n",
       "      <th>bp</th>\n",
       "      <th>s1</th>\n",
       "      <th>s2</th>\n",
       "      <th>s3</th>\n",
       "      <th>s4</th>\n",
       "      <th>s5</th>\n",
       "      <th>s6</th>\n",
       "    </tr>\n",
       "  </thead>\n",
       "  <tbody>\n",
       "    <tr>\n",
       "      <th>0</th>\n",
       "      <td>0.038076</td>\n",
       "      <td>0.050680</td>\n",
       "      <td>0.061696</td>\n",
       "      <td>0.021872</td>\n",
       "      <td>-0.044223</td>\n",
       "      <td>-0.034821</td>\n",
       "      <td>-0.043401</td>\n",
       "      <td>-0.002592</td>\n",
       "      <td>0.019908</td>\n",
       "      <td>-0.017646</td>\n",
       "    </tr>\n",
       "    <tr>\n",
       "      <th>1</th>\n",
       "      <td>-0.001882</td>\n",
       "      <td>-0.044642</td>\n",
       "      <td>-0.051474</td>\n",
       "      <td>-0.026328</td>\n",
       "      <td>-0.008449</td>\n",
       "      <td>-0.019163</td>\n",
       "      <td>0.074412</td>\n",
       "      <td>-0.039493</td>\n",
       "      <td>-0.068330</td>\n",
       "      <td>-0.092204</td>\n",
       "    </tr>\n",
       "    <tr>\n",
       "      <th>2</th>\n",
       "      <td>0.085299</td>\n",
       "      <td>0.050680</td>\n",
       "      <td>0.044451</td>\n",
       "      <td>-0.005671</td>\n",
       "      <td>-0.045599</td>\n",
       "      <td>-0.034194</td>\n",
       "      <td>-0.032356</td>\n",
       "      <td>-0.002592</td>\n",
       "      <td>0.002864</td>\n",
       "      <td>-0.025930</td>\n",
       "    </tr>\n",
       "    <tr>\n",
       "      <th>3</th>\n",
       "      <td>-0.089063</td>\n",
       "      <td>-0.044642</td>\n",
       "      <td>-0.011595</td>\n",
       "      <td>-0.036656</td>\n",
       "      <td>0.012191</td>\n",
       "      <td>0.024991</td>\n",
       "      <td>-0.036038</td>\n",
       "      <td>0.034309</td>\n",
       "      <td>0.022692</td>\n",
       "      <td>-0.009362</td>\n",
       "    </tr>\n",
       "    <tr>\n",
       "      <th>4</th>\n",
       "      <td>0.005383</td>\n",
       "      <td>-0.044642</td>\n",
       "      <td>-0.036385</td>\n",
       "      <td>0.021872</td>\n",
       "      <td>0.003935</td>\n",
       "      <td>0.015596</td>\n",
       "      <td>0.008142</td>\n",
       "      <td>-0.002592</td>\n",
       "      <td>-0.031991</td>\n",
       "      <td>-0.046641</td>\n",
       "    </tr>\n",
       "  </tbody>\n",
       "</table>\n",
       "</div>"
      ],
      "text/plain": [
       "        age       sex       bmi        bp        s1        s2        s3  \\\n",
       "0  0.038076  0.050680  0.061696  0.021872 -0.044223 -0.034821 -0.043401   \n",
       "1 -0.001882 -0.044642 -0.051474 -0.026328 -0.008449 -0.019163  0.074412   \n",
       "2  0.085299  0.050680  0.044451 -0.005671 -0.045599 -0.034194 -0.032356   \n",
       "3 -0.089063 -0.044642 -0.011595 -0.036656  0.012191  0.024991 -0.036038   \n",
       "4  0.005383 -0.044642 -0.036385  0.021872  0.003935  0.015596  0.008142   \n",
       "\n",
       "         s4        s5        s6  \n",
       "0 -0.002592  0.019908 -0.017646  \n",
       "1 -0.039493 -0.068330 -0.092204  \n",
       "2 -0.002592  0.002864 -0.025930  \n",
       "3  0.034309  0.022692 -0.009362  \n",
       "4 -0.002592 -0.031991 -0.046641  "
      ]
     },
     "execution_count": 36,
     "metadata": {},
     "output_type": "execute_result"
    }
   ],
   "source": [
    "X_mult.head()"
   ]
  },
  {
   "cell_type": "markdown",
   "id": "stretch-toner",
   "metadata": {},
   "source": [
    "im einfachsten Fall verwenden wir alles, was wir haben :-) und schauen mal..."
   ]
  },
  {
   "cell_type": "code",
   "execution_count": 37,
   "id": "listed-webster",
   "metadata": {},
   "outputs": [],
   "source": [
    "# Split the data into training and testing sets (by default, 80% train and 20% test)\n",
    "X_train_mult1, X_test_mult1, y_train, y_test = train_test_split(X_mult, y, test_size=0.20)"
   ]
  },
  {
   "cell_type": "code",
   "execution_count": 38,
   "id": "found-decline",
   "metadata": {},
   "outputs": [
    {
     "data": {
      "text/html": [
       "<div>\n",
       "<style scoped>\n",
       "    .dataframe tbody tr th:only-of-type {\n",
       "        vertical-align: middle;\n",
       "    }\n",
       "\n",
       "    .dataframe tbody tr th {\n",
       "        vertical-align: top;\n",
       "    }\n",
       "\n",
       "    .dataframe thead th {\n",
       "        text-align: right;\n",
       "    }\n",
       "</style>\n",
       "<table border=\"1\" class=\"dataframe\">\n",
       "  <thead>\n",
       "    <tr style=\"text-align: right;\">\n",
       "      <th></th>\n",
       "      <th>const</th>\n",
       "      <th>age</th>\n",
       "      <th>sex</th>\n",
       "      <th>bmi</th>\n",
       "      <th>bp</th>\n",
       "      <th>s1</th>\n",
       "      <th>s2</th>\n",
       "      <th>s3</th>\n",
       "      <th>s4</th>\n",
       "      <th>s5</th>\n",
       "      <th>s6</th>\n",
       "    </tr>\n",
       "  </thead>\n",
       "  <tbody>\n",
       "    <tr>\n",
       "      <th>289</th>\n",
       "      <td>1.0</td>\n",
       "      <td>-0.074533</td>\n",
       "      <td>0.050680</td>\n",
       "      <td>0.055229</td>\n",
       "      <td>-0.040099</td>\n",
       "      <td>0.053469</td>\n",
       "      <td>0.053174</td>\n",
       "      <td>-0.043401</td>\n",
       "      <td>0.071210</td>\n",
       "      <td>0.061238</td>\n",
       "      <td>-0.034215</td>\n",
       "    </tr>\n",
       "    <tr>\n",
       "      <th>104</th>\n",
       "      <td>1.0</td>\n",
       "      <td>-0.027310</td>\n",
       "      <td>-0.044642</td>\n",
       "      <td>0.064930</td>\n",
       "      <td>-0.002228</td>\n",
       "      <td>-0.024960</td>\n",
       "      <td>-0.017284</td>\n",
       "      <td>0.022869</td>\n",
       "      <td>-0.039493</td>\n",
       "      <td>-0.061177</td>\n",
       "      <td>-0.063209</td>\n",
       "    </tr>\n",
       "    <tr>\n",
       "      <th>65</th>\n",
       "      <td>1.0</td>\n",
       "      <td>-0.045472</td>\n",
       "      <td>0.050680</td>\n",
       "      <td>-0.024529</td>\n",
       "      <td>0.059744</td>\n",
       "      <td>0.005311</td>\n",
       "      <td>0.014970</td>\n",
       "      <td>-0.054446</td>\n",
       "      <td>0.071210</td>\n",
       "      <td>0.042345</td>\n",
       "      <td>0.015491</td>\n",
       "    </tr>\n",
       "    <tr>\n",
       "      <th>161</th>\n",
       "      <td>1.0</td>\n",
       "      <td>-0.045472</td>\n",
       "      <td>0.050680</td>\n",
       "      <td>0.063852</td>\n",
       "      <td>0.070073</td>\n",
       "      <td>0.133274</td>\n",
       "      <td>0.131461</td>\n",
       "      <td>-0.039719</td>\n",
       "      <td>0.108111</td>\n",
       "      <td>0.075738</td>\n",
       "      <td>0.085907</td>\n",
       "    </tr>\n",
       "    <tr>\n",
       "      <th>349</th>\n",
       "      <td>1.0</td>\n",
       "      <td>0.001751</td>\n",
       "      <td>0.050680</td>\n",
       "      <td>-0.057941</td>\n",
       "      <td>-0.043542</td>\n",
       "      <td>-0.096510</td>\n",
       "      <td>-0.047034</td>\n",
       "      <td>-0.098625</td>\n",
       "      <td>0.034309</td>\n",
       "      <td>-0.061177</td>\n",
       "      <td>-0.071494</td>\n",
       "    </tr>\n",
       "  </tbody>\n",
       "</table>\n",
       "</div>"
      ],
      "text/plain": [
       "     const       age       sex       bmi        bp        s1        s2  \\\n",
       "289    1.0 -0.074533  0.050680  0.055229 -0.040099  0.053469  0.053174   \n",
       "104    1.0 -0.027310 -0.044642  0.064930 -0.002228 -0.024960 -0.017284   \n",
       "65     1.0 -0.045472  0.050680 -0.024529  0.059744  0.005311  0.014970   \n",
       "161    1.0 -0.045472  0.050680  0.063852  0.070073  0.133274  0.131461   \n",
       "349    1.0  0.001751  0.050680 -0.057941 -0.043542 -0.096510 -0.047034   \n",
       "\n",
       "           s3        s4        s5        s6  \n",
       "289 -0.043401  0.071210  0.061238 -0.034215  \n",
       "104  0.022869 -0.039493 -0.061177 -0.063209  \n",
       "65  -0.054446  0.071210  0.042345  0.015491  \n",
       "161 -0.039719  0.108111  0.075738  0.085907  \n",
       "349 -0.098625  0.034309 -0.061177 -0.071494  "
      ]
     },
     "execution_count": 38,
     "metadata": {},
     "output_type": "execute_result"
    }
   ],
   "source": [
    "# add first column with 1\n",
    "\n",
    "X_train_mult = sm.add_constant(X_train_mult1) # 1er Spalte vorne anhängen\n",
    "X_test_mult = sm.add_constant(X_test_mult1) # 1er Spalte vorne anhängen\n",
    "\n",
    "X_train_mult.head()"
   ]
  },
  {
   "cell_type": "code",
   "execution_count": 39,
   "id": "alpha-authority",
   "metadata": {},
   "outputs": [
    {
     "name": "stdout",
     "output_type": "stream",
     "text": [
      "                            OLS Regression Results                            \n",
      "==============================================================================\n",
      "Dep. Variable:                 Target   R-squared:                       0.517\n",
      "Model:                            OLS   Adj. R-squared:                  0.503\n",
      "Method:                 Least Squares   F-statistic:                     36.64\n",
      "Date:                Wed, 01 Nov 2023   Prob (F-statistic):           2.32e-48\n",
      "Time:                        19:59:06   Log-Likelihood:                -1901.1\n",
      "No. Observations:                 353   AIC:                             3824.\n",
      "Df Residuals:                     342   BIC:                             3867.\n",
      "Df Model:                          10                                         \n",
      "Covariance Type:            nonrobust                                         \n",
      "==============================================================================\n",
      "                 coef    std err          t      P>|t|      [0.025      0.975]\n",
      "------------------------------------------------------------------------------\n",
      "const        152.1964      2.859     53.241      0.000     146.574     157.819\n",
      "age          -37.0717     66.715     -0.556      0.579    -168.296      94.152\n",
      "sex         -252.5662     68.206     -3.703      0.000    -386.723    -118.410\n",
      "bmi          509.2699     74.944      6.795      0.000     361.860     656.680\n",
      "bp           365.4154     72.186      5.062      0.000     223.432     507.399\n",
      "s1          -690.9481    469.425     -1.472      0.142   -1614.272     232.375\n",
      "s2           370.0249    382.024      0.969      0.333    -381.388    1121.437\n",
      "s3           -13.4813    232.294     -0.058      0.954    -470.387     443.424\n",
      "s4            95.1757    173.615      0.548      0.584    -246.312     436.663\n",
      "s5           711.1253    188.759      3.767      0.000     339.852    1082.399\n",
      "s6            81.5922     72.809      1.121      0.263     -61.618     224.802\n",
      "==============================================================================\n",
      "Omnibus:                        0.094   Durbin-Watson:                   1.954\n",
      "Prob(Omnibus):                  0.954   Jarque-Bera (JB):                0.192\n",
      "Skew:                          -0.024   Prob(JB):                        0.909\n",
      "Kurtosis:                       2.896   Cond. No.                         230.\n",
      "==============================================================================\n",
      "\n",
      "Notes:\n",
      "[1] Standard Errors assume that the covariance matrix of the errors is correctly specified.\n"
     ]
    }
   ],
   "source": [
    "# Model Fit - Train\n",
    "\n",
    "olsmod_mult = sm.OLS(y_train, X_train_mult) # definition of model\n",
    "olsres_mult = olsmod_mult.fit() # parameter estimation on Train set - model name olsres_mult\n",
    "\n",
    "# Get the summary of the model\n",
    "olsres_mult_summary = olsres_mult.summary()\n",
    "print(olsres_mult_summary)"
   ]
  },
  {
   "cell_type": "code",
   "execution_count": 40,
   "id": "geographic-opportunity",
   "metadata": {},
   "outputs": [
    {
     "name": "stdout",
     "output_type": "stream",
     "text": [
      "train rho [[1.         0.71916855]\n",
      " [0.71916855 1.        ]]\n",
      "test rho [[1.         0.71212428]\n",
      " [0.71212428 1.        ]]\n"
     ]
    }
   ],
   "source": [
    "y_hat_mult_tr = olsres_mult.predict(X_train_mult) # predictions on training set\n",
    "y_hat_mult_te = olsres_mult.predict(X_test_mult) # predictions on test set\n",
    "\n",
    "print('train rho',np.corrcoef(y_train,y_hat_mult_tr))\n",
    "print('test rho',np.corrcoef(y_test,y_hat_mult_te))"
   ]
  },
  {
   "cell_type": "code",
   "execution_count": null,
   "id": "efficient-yemen",
   "metadata": {},
   "outputs": [],
   "source": []
  },
  {
   "cell_type": "markdown",
   "id": "confirmed-billion",
   "metadata": {},
   "source": [
    "### Aufgabe 3) Multivariates Modell\n",
    "\n",
    "Wir haben im multivariaten Fall ziemlich viel Auswahl, wie das Modell aussehen kann. Das macht es schwierig ein Top-Modell zu identifizieren.  \n",
    "\n",
    "    \n",
    "- Versuchen Sie anhand der p-Werte und der erzielten Performance-Kriterien ein optimales Setup für das multivariate Modell zu finden. Also: entscheiden Sie, welche Variablen rein sollen und welche nicht.\n",
    "- Nutzen Sie dazu alle Möglichkeiten (z.B. auch eine Schleife über die Input Features etc.)\n",
    "- bringt es was, wenn man für die relevanten Größen auch noch polynomilae Features erlaubt?\n",
    "- Was ist das Top-Modell, das Sie zustande bekommen?\n",
    "- Diskutieren Sie, wieviel der ganze Aufwand bringt, d.h.: Ist es die Mühe wert? :-)"
   ]
  },
  {
   "cell_type": "code",
   "execution_count": null,
   "id": "stunning-yield",
   "metadata": {},
   "outputs": [],
   "source": []
  }
 ],
 "metadata": {
  "kernelspec": {
   "display_name": "Python 3",
   "language": "python",
   "name": "python3"
  },
  "language_info": {
   "codemirror_mode": {
    "name": "ipython",
    "version": 3
   },
   "file_extension": ".py",
   "mimetype": "text/x-python",
   "name": "python",
   "nbconvert_exporter": "python",
   "pygments_lexer": "ipython3",
   "version": "3.8.7"
  }
 },
 "nbformat": 4,
 "nbformat_minor": 5
}
