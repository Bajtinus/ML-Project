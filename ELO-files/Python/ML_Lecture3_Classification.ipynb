{
 "cells": [
  {
   "cell_type": "markdown",
   "id": "worthy-warehouse",
   "metadata": {},
   "source": [
    "# Lecture 3) Classical Classification"
   ]
  },
  {
   "cell_type": "code",
   "execution_count": 46,
   "id": "accompanied-sustainability",
   "metadata": {},
   "outputs": [],
   "source": [
    "import pandas as pd\n",
    "import numpy as np\n",
    "import matplotlib as mpl\n",
    "import matplotlib.pyplot as plt\n",
    "import sklearn as sl\n",
    "\n",
    "from sklearn.model_selection import train_test_split\n",
    "from sklearn.metrics import roc_curve, roc_auc_score, classification_report, accuracy_score, confusion_matrix, auc \n",
    "from sklearn.preprocessing import MinMaxScaler\n",
    "from sklearn.linear_model import LogisticRegression\n",
    "from sklearn.discriminant_analysis import LinearDiscriminantAnalysis as LDA\n",
    "from sklearn.discriminant_analysis import QuadraticDiscriminantAnalysis as QDA\n",
    "from sklearn import neighbors\n",
    "\n",
    "%matplotlib inline\n",
    "import scipy as sc\n",
    "import math as ma\n",
    "from scipy import linalg, optimize, constants, interpolate, special, stats\n",
    "from math import exp, pow, sqrt, log\n",
    "\n",
    "import seaborn as sns #spezielle Graphikdarstellungen\n",
    "import statsmodels.api as sm\n",
    "import statsmodels.stats.api as sms"
   ]
  },
  {
   "cell_type": "markdown",
   "id": "criminal-discharge",
   "metadata": {},
   "source": [
    "In der Vorlesung haben wir 3 Verfahren zur Klassifikation kennengelernt:\n",
    "\n",
    "- logistische Regression (hauptsächlich für Y mit 2 Merkmalen)\n",
    "- Diskriminanzanalyse (Y mit mehreren Merkmalen)\n",
    "- KNN\n",
    "\n",
    "Die lineare Diskriminanzanalyse geht davon aus, daß die erklärenden Größen $X_i$ durch eine multivariate Normalverteilung mit $p$ unterschiedlichen Erwartungswerten $\\mu_i$ im Vektor $\\vec{\\mu}=(\\mu_1,...,\\mu_p)$, aber gleicher Varianz beschrieben werden. Das heißt, wir haben lineare Entscheidungsgrenzen.\n",
    "\n",
    "Erweiterung: Die quadratische Diskriminanzanalyse erlaubt auch verschiedene Varianzen. Die Entscheidungsgrenzen sind dann nicht-linear.\n",
    "\n",
    "#### Bemerkung: jedes Regressionsproblem läßt sich in eine Klassifikationsaufgabe umformulieren indem man die Zielgröße in Bins einteilt. Die Anzahl der Klassen wird dann durch den Wertebereich und die Breite der Bins festgelegt!\n",
    "\n",
    "Wir starten mit einer binären Klassifikation und einer erklärenden Größe."
   ]
  },
  {
   "cell_type": "markdown",
   "id": "instrumental-helena",
   "metadata": {},
   "source": [
    "## 3.1) Logistische Regression"
   ]
  },
  {
   "cell_type": "markdown",
   "id": "specified-representation",
   "metadata": {},
   "source": [
    "...als erstes importieren wir die Daten. Die Zielgröße ist AHD (binär) = Herzinfarkt 'ja' oder 'nein'"
   ]
  },
  {
   "cell_type": "code",
   "execution_count": 2,
   "id": "directed-hawaiian",
   "metadata": {},
   "outputs": [
    {
     "data": {
      "text/plain": [
       "300"
      ]
     },
     "execution_count": 2,
     "metadata": {},
     "output_type": "execute_result"
    }
   ],
   "source": [
    "Heart = pd.read_csv(\"../Daten/heart.csv\")\n",
    "len(Heart)"
   ]
  },
  {
   "cell_type": "code",
   "execution_count": 3,
   "id": "incorporate-slovak",
   "metadata": {},
   "outputs": [
    {
     "data": {
      "text/html": [
       "<div>\n",
       "<style scoped>\n",
       "    .dataframe tbody tr th:only-of-type {\n",
       "        vertical-align: middle;\n",
       "    }\n",
       "\n",
       "    .dataframe tbody tr th {\n",
       "        vertical-align: top;\n",
       "    }\n",
       "\n",
       "    .dataframe thead th {\n",
       "        text-align: right;\n",
       "    }\n",
       "</style>\n",
       "<table border=\"1\" class=\"dataframe\">\n",
       "  <thead>\n",
       "    <tr style=\"text-align: right;\">\n",
       "      <th></th>\n",
       "      <th>Unnamed: 0</th>\n",
       "      <th>Age</th>\n",
       "      <th>Sex</th>\n",
       "      <th>ChestPain</th>\n",
       "      <th>RestBP</th>\n",
       "      <th>Chol</th>\n",
       "      <th>Fbs</th>\n",
       "      <th>RestECG</th>\n",
       "      <th>MaxHR</th>\n",
       "      <th>ExAng</th>\n",
       "      <th>Oldpeak</th>\n",
       "      <th>Slope</th>\n",
       "      <th>Ca</th>\n",
       "      <th>Thal</th>\n",
       "      <th>AHD</th>\n",
       "    </tr>\n",
       "  </thead>\n",
       "  <tbody>\n",
       "    <tr>\n",
       "      <th>0</th>\n",
       "      <td>1</td>\n",
       "      <td>63</td>\n",
       "      <td>1</td>\n",
       "      <td>typical</td>\n",
       "      <td>145</td>\n",
       "      <td>233</td>\n",
       "      <td>1</td>\n",
       "      <td>2</td>\n",
       "      <td>150</td>\n",
       "      <td>0</td>\n",
       "      <td>2.3</td>\n",
       "      <td>3</td>\n",
       "      <td>0</td>\n",
       "      <td>fixed</td>\n",
       "      <td>No</td>\n",
       "    </tr>\n",
       "    <tr>\n",
       "      <th>1</th>\n",
       "      <td>2</td>\n",
       "      <td>67</td>\n",
       "      <td>1</td>\n",
       "      <td>asymptomatic</td>\n",
       "      <td>160</td>\n",
       "      <td>286</td>\n",
       "      <td>0</td>\n",
       "      <td>2</td>\n",
       "      <td>108</td>\n",
       "      <td>1</td>\n",
       "      <td>1.5</td>\n",
       "      <td>2</td>\n",
       "      <td>3</td>\n",
       "      <td>normal</td>\n",
       "      <td>Yes</td>\n",
       "    </tr>\n",
       "    <tr>\n",
       "      <th>2</th>\n",
       "      <td>3</td>\n",
       "      <td>67</td>\n",
       "      <td>1</td>\n",
       "      <td>asymptomatic</td>\n",
       "      <td>120</td>\n",
       "      <td>229</td>\n",
       "      <td>0</td>\n",
       "      <td>2</td>\n",
       "      <td>129</td>\n",
       "      <td>1</td>\n",
       "      <td>2.6</td>\n",
       "      <td>2</td>\n",
       "      <td>2</td>\n",
       "      <td>reversable</td>\n",
       "      <td>Yes</td>\n",
       "    </tr>\n",
       "    <tr>\n",
       "      <th>3</th>\n",
       "      <td>4</td>\n",
       "      <td>37</td>\n",
       "      <td>1</td>\n",
       "      <td>nonanginal</td>\n",
       "      <td>130</td>\n",
       "      <td>250</td>\n",
       "      <td>0</td>\n",
       "      <td>0</td>\n",
       "      <td>187</td>\n",
       "      <td>0</td>\n",
       "      <td>3.5</td>\n",
       "      <td>3</td>\n",
       "      <td>0</td>\n",
       "      <td>normal</td>\n",
       "      <td>No</td>\n",
       "    </tr>\n",
       "    <tr>\n",
       "      <th>4</th>\n",
       "      <td>5</td>\n",
       "      <td>41</td>\n",
       "      <td>0</td>\n",
       "      <td>nontypical</td>\n",
       "      <td>130</td>\n",
       "      <td>204</td>\n",
       "      <td>0</td>\n",
       "      <td>2</td>\n",
       "      <td>172</td>\n",
       "      <td>0</td>\n",
       "      <td>1.4</td>\n",
       "      <td>1</td>\n",
       "      <td>0</td>\n",
       "      <td>normal</td>\n",
       "      <td>No</td>\n",
       "    </tr>\n",
       "  </tbody>\n",
       "</table>\n",
       "</div>"
      ],
      "text/plain": [
       "   Unnamed: 0  Age  Sex     ChestPain  RestBP  Chol  Fbs  RestECG  MaxHR  \\\n",
       "0           1   63    1       typical     145   233    1        2    150   \n",
       "1           2   67    1  asymptomatic     160   286    0        2    108   \n",
       "2           3   67    1  asymptomatic     120   229    0        2    129   \n",
       "3           4   37    1    nonanginal     130   250    0        0    187   \n",
       "4           5   41    0    nontypical     130   204    0        2    172   \n",
       "\n",
       "   ExAng  Oldpeak  Slope  Ca        Thal  AHD  \n",
       "0      0      2.3      3   0       fixed   No  \n",
       "1      1      1.5      2   3      normal  Yes  \n",
       "2      1      2.6      2   2  reversable  Yes  \n",
       "3      0      3.5      3   0      normal   No  \n",
       "4      0      1.4      1   0      normal   No  "
      ]
     },
     "execution_count": 3,
     "metadata": {},
     "output_type": "execute_result"
    }
   ],
   "source": [
    "Heart.head()"
   ]
  },
  {
   "cell_type": "markdown",
   "id": "surprising-influence",
   "metadata": {},
   "source": [
    "Auswahl einiger relevanter (numerischer) erklärender Größen:"
   ]
  },
  {
   "cell_type": "code",
   "execution_count": 4,
   "id": "dramatic-lindsay",
   "metadata": {},
   "outputs": [
    {
     "data": {
      "text/html": [
       "<div>\n",
       "<style scoped>\n",
       "    .dataframe tbody tr th:only-of-type {\n",
       "        vertical-align: middle;\n",
       "    }\n",
       "\n",
       "    .dataframe tbody tr th {\n",
       "        vertical-align: top;\n",
       "    }\n",
       "\n",
       "    .dataframe thead th {\n",
       "        text-align: right;\n",
       "    }\n",
       "</style>\n",
       "<table border=\"1\" class=\"dataframe\">\n",
       "  <thead>\n",
       "    <tr style=\"text-align: right;\">\n",
       "      <th></th>\n",
       "      <th>Age</th>\n",
       "      <th>Sex</th>\n",
       "      <th>Chol</th>\n",
       "      <th>AHD</th>\n",
       "    </tr>\n",
       "  </thead>\n",
       "  <tbody>\n",
       "    <tr>\n",
       "      <th>0</th>\n",
       "      <td>63</td>\n",
       "      <td>1</td>\n",
       "      <td>233</td>\n",
       "      <td>No</td>\n",
       "    </tr>\n",
       "    <tr>\n",
       "      <th>1</th>\n",
       "      <td>67</td>\n",
       "      <td>1</td>\n",
       "      <td>286</td>\n",
       "      <td>Yes</td>\n",
       "    </tr>\n",
       "    <tr>\n",
       "      <th>2</th>\n",
       "      <td>67</td>\n",
       "      <td>1</td>\n",
       "      <td>229</td>\n",
       "      <td>Yes</td>\n",
       "    </tr>\n",
       "    <tr>\n",
       "      <th>3</th>\n",
       "      <td>37</td>\n",
       "      <td>1</td>\n",
       "      <td>250</td>\n",
       "      <td>No</td>\n",
       "    </tr>\n",
       "    <tr>\n",
       "      <th>4</th>\n",
       "      <td>41</td>\n",
       "      <td>0</td>\n",
       "      <td>204</td>\n",
       "      <td>No</td>\n",
       "    </tr>\n",
       "  </tbody>\n",
       "</table>\n",
       "</div>"
      ],
      "text/plain": [
       "   Age  Sex  Chol  AHD\n",
       "0   63    1   233   No\n",
       "1   67    1   286  Yes\n",
       "2   67    1   229  Yes\n",
       "3   37    1   250   No\n",
       "4   41    0   204   No"
      ]
     },
     "execution_count": 4,
     "metadata": {},
     "output_type": "execute_result"
    }
   ],
   "source": [
    "HeartBin=Heart[['Age','Sex','Chol','AHD']]\n",
    "HeartBin.head()"
   ]
  },
  {
   "cell_type": "markdown",
   "id": "silent-provider",
   "metadata": {},
   "source": [
    "mal überprüfen, daß es tatsächlich nur zwei Ausprägungen der Zielgröße AHD gibt:"
   ]
  },
  {
   "cell_type": "code",
   "execution_count": 5,
   "id": "relevant-dictionary",
   "metadata": {},
   "outputs": [
    {
     "name": "stdout",
     "output_type": "stream",
     "text": [
      "['No' 'Yes']\n"
     ]
    }
   ],
   "source": [
    "print(HeartBin['AHD'].unique())"
   ]
  },
  {
   "cell_type": "markdown",
   "id": "colored-supplement",
   "metadata": {},
   "source": [
    "wie sind die Beispiele in den beiden Gruppen verteilt? Zahlenmäßig"
   ]
  },
  {
   "cell_type": "code",
   "execution_count": 6,
   "id": "transparent-removal",
   "metadata": {},
   "outputs": [
    {
     "name": "stdout",
     "output_type": "stream",
     "text": [
      "AHD\n",
      "No     161\n",
      "Yes    139\n",
      "dtype: int64\n"
     ]
    }
   ],
   "source": [
    "print(HeartBin.groupby('AHD').size())"
   ]
  },
  {
   "cell_type": "markdown",
   "id": "received-consensus",
   "metadata": {},
   "source": [
    "die beiden Gruppen sind von ihrer Größe her ziemlich ausgeglichen. Das ist ganz gut, wir brauchen hier also nichts zu unternehmen.\n",
    "\n",
    "Für die weiteren Arbeiten ersetzen wir mal die beiden Ausprägungen durch 1='Yes' und 0='No'"
   ]
  },
  {
   "cell_type": "code",
   "execution_count": 7,
   "id": "visible-affiliate",
   "metadata": {},
   "outputs": [],
   "source": [
    "HeartBin=HeartBin.replace(['No', 'Yes'], [0,1]) "
   ]
  },
  {
   "cell_type": "code",
   "execution_count": 8,
   "id": "efficient-blogger",
   "metadata": {},
   "outputs": [
    {
     "data": {
      "text/html": [
       "<div>\n",
       "<style scoped>\n",
       "    .dataframe tbody tr th:only-of-type {\n",
       "        vertical-align: middle;\n",
       "    }\n",
       "\n",
       "    .dataframe tbody tr th {\n",
       "        vertical-align: top;\n",
       "    }\n",
       "\n",
       "    .dataframe thead th {\n",
       "        text-align: right;\n",
       "    }\n",
       "</style>\n",
       "<table border=\"1\" class=\"dataframe\">\n",
       "  <thead>\n",
       "    <tr style=\"text-align: right;\">\n",
       "      <th></th>\n",
       "      <th>Age</th>\n",
       "      <th>Sex</th>\n",
       "      <th>Chol</th>\n",
       "      <th>AHD</th>\n",
       "    </tr>\n",
       "  </thead>\n",
       "  <tbody>\n",
       "    <tr>\n",
       "      <th>0</th>\n",
       "      <td>63</td>\n",
       "      <td>1</td>\n",
       "      <td>233</td>\n",
       "      <td>0</td>\n",
       "    </tr>\n",
       "    <tr>\n",
       "      <th>1</th>\n",
       "      <td>67</td>\n",
       "      <td>1</td>\n",
       "      <td>286</td>\n",
       "      <td>1</td>\n",
       "    </tr>\n",
       "    <tr>\n",
       "      <th>2</th>\n",
       "      <td>67</td>\n",
       "      <td>1</td>\n",
       "      <td>229</td>\n",
       "      <td>1</td>\n",
       "    </tr>\n",
       "    <tr>\n",
       "      <th>3</th>\n",
       "      <td>37</td>\n",
       "      <td>1</td>\n",
       "      <td>250</td>\n",
       "      <td>0</td>\n",
       "    </tr>\n",
       "    <tr>\n",
       "      <th>4</th>\n",
       "      <td>41</td>\n",
       "      <td>0</td>\n",
       "      <td>204</td>\n",
       "      <td>0</td>\n",
       "    </tr>\n",
       "  </tbody>\n",
       "</table>\n",
       "</div>"
      ],
      "text/plain": [
       "   Age  Sex  Chol  AHD\n",
       "0   63    1   233    0\n",
       "1   67    1   286    1\n",
       "2   67    1   229    1\n",
       "3   37    1   250    0\n",
       "4   41    0   204    0"
      ]
     },
     "execution_count": 8,
     "metadata": {},
     "output_type": "execute_result"
    }
   ],
   "source": [
    "HeartBin.head()"
   ]
  },
  {
   "cell_type": "markdown",
   "id": "convertible-kernel",
   "metadata": {},
   "source": [
    "Vielleicht sieht man ja in der Graphik schon ob sich die beiden Gruppen leicht unterscheiden lassen:"
   ]
  },
  {
   "cell_type": "code",
   "execution_count": 9,
   "id": "pointed-pleasure",
   "metadata": {},
   "outputs": [
    {
     "data": {
      "image/png": "[encoded data removed]",
      "text/plain": [
       "<Figure size 648x648 with 9 Axes>"
      ]
     },
     "metadata": {
      "needs_background": "light"
     },
     "output_type": "display_data"
    }
   ],
   "source": [
    "features_heart = ['Age', 'Sex', 'Chol']\n",
    "Inputs = HeartBin[features_heart]\n",
    "Target = HeartBin['AHD']\n",
    "\n",
    "scatter = pd.plotting.scatter_matrix(Inputs, c = Target, marker = 'o', s=40, hist_kwds={'bins':15}, figsize=(9,9))\n",
    "plt.suptitle('Scatter-matrix der Inputs nach Klassen')\n",
    "plt.savefig('HeartBin_scatter_matrix.pdf')"
   ]
  },
  {
   "cell_type": "markdown",
   "id": "serial-significance",
   "metadata": {},
   "source": [
    "nicht so klar, wir versuchen es aber trotzdem und verwenden zuerst nur den Cholesterinwert als Prädiktor.\n",
    "Als erstes teilen wir den Datensatz in Trainings- und Testmenge. Dazu kann man den \n",
    "\n",
    "train_test_split \n",
    "\n",
    "von sklearn verwenden"
   ]
  },
  {
   "cell_type": "code",
   "execution_count": 10,
   "id": "greater-penguin",
   "metadata": {},
   "outputs": [
    {
     "data": {
      "text/html": [
       "<div>\n",
       "<style scoped>\n",
       "    .dataframe tbody tr th:only-of-type {\n",
       "        vertical-align: middle;\n",
       "    }\n",
       "\n",
       "    .dataframe tbody tr th {\n",
       "        vertical-align: top;\n",
       "    }\n",
       "\n",
       "    .dataframe thead th {\n",
       "        text-align: right;\n",
       "    }\n",
       "</style>\n",
       "<table border=\"1\" class=\"dataframe\">\n",
       "  <thead>\n",
       "    <tr style=\"text-align: right;\">\n",
       "      <th></th>\n",
       "      <th>Age</th>\n",
       "      <th>Sex</th>\n",
       "      <th>Chol</th>\n",
       "    </tr>\n",
       "  </thead>\n",
       "  <tbody>\n",
       "    <tr>\n",
       "      <th>164</th>\n",
       "      <td>57</td>\n",
       "      <td>1</td>\n",
       "      <td>207</td>\n",
       "    </tr>\n",
       "    <tr>\n",
       "      <th>196</th>\n",
       "      <td>45</td>\n",
       "      <td>0</td>\n",
       "      <td>236</td>\n",
       "    </tr>\n",
       "    <tr>\n",
       "      <th>60</th>\n",
       "      <td>51</td>\n",
       "      <td>0</td>\n",
       "      <td>305</td>\n",
       "    </tr>\n",
       "    <tr>\n",
       "      <th>292</th>\n",
       "      <td>63</td>\n",
       "      <td>0</td>\n",
       "      <td>197</td>\n",
       "    </tr>\n",
       "    <tr>\n",
       "      <th>191</th>\n",
       "      <td>43</td>\n",
       "      <td>1</td>\n",
       "      <td>247</td>\n",
       "    </tr>\n",
       "    <tr>\n",
       "      <th>...</th>\n",
       "      <td>...</td>\n",
       "      <td>...</td>\n",
       "      <td>...</td>\n",
       "    </tr>\n",
       "    <tr>\n",
       "      <th>22</th>\n",
       "      <td>58</td>\n",
       "      <td>1</td>\n",
       "      <td>284</td>\n",
       "    </tr>\n",
       "    <tr>\n",
       "      <th>231</th>\n",
       "      <td>49</td>\n",
       "      <td>1</td>\n",
       "      <td>149</td>\n",
       "    </tr>\n",
       "    <tr>\n",
       "      <th>268</th>\n",
       "      <td>42</td>\n",
       "      <td>1</td>\n",
       "      <td>180</td>\n",
       "    </tr>\n",
       "    <tr>\n",
       "      <th>177</th>\n",
       "      <td>43</td>\n",
       "      <td>1</td>\n",
       "      <td>315</td>\n",
       "    </tr>\n",
       "    <tr>\n",
       "      <th>132</th>\n",
       "      <td>51</td>\n",
       "      <td>1</td>\n",
       "      <td>261</td>\n",
       "    </tr>\n",
       "  </tbody>\n",
       "</table>\n",
       "<p>240 rows × 3 columns</p>\n",
       "</div>"
      ],
      "text/plain": [
       "     Age  Sex  Chol\n",
       "164   57    1   207\n",
       "196   45    0   236\n",
       "60    51    0   305\n",
       "292   63    0   197\n",
       "191   43    1   247\n",
       "..   ...  ...   ...\n",
       "22    58    1   284\n",
       "231   49    1   149\n",
       "268   42    1   180\n",
       "177   43    1   315\n",
       "132   51    1   261\n",
       "\n",
       "[240 rows x 3 columns]"
      ]
     },
     "execution_count": 10,
     "metadata": {},
     "output_type": "execute_result"
    }
   ],
   "source": [
    "from sklearn.model_selection import train_test_split\n",
    "\n",
    "# 20% Testmenge\n",
    "\n",
    "X_train, X_test, y_train, y_test = train_test_split(Inputs, Target, test_size=0.2)\n",
    "\n",
    "X_train"
   ]
  },
  {
   "cell_type": "code",
   "execution_count": 11,
   "id": "genetic-recording",
   "metadata": {},
   "outputs": [],
   "source": [
    "X_train1=np.array(X_train['Chol']).reshape(-1,1)\n",
    "X_test1=np.array(X_test['Chol']).reshape(-1,1)"
   ]
  },
  {
   "cell_type": "markdown",
   "id": "dried-bridges",
   "metadata": {},
   "source": [
    "Für die Klassifikation kann man z.B. die LogisticRegression aus sklearn verwenden:"
   ]
  },
  {
   "cell_type": "code",
   "execution_count": 12,
   "id": "color-client",
   "metadata": {},
   "outputs": [],
   "source": [
    "from sklearn.linear_model import LogisticRegression\n",
    "\n",
    "from sklearn.metrics import roc_curve, roc_auc_score, classification_report, accuracy_score, confusion_matrix "
   ]
  },
  {
   "cell_type": "code",
   "execution_count": 13,
   "id": "finished-campbell",
   "metadata": {},
   "outputs": [],
   "source": [
    "logistic_reg=LogisticRegression(); # Modell spezifizieren\n",
    "logistic_reg.fit(X_train1,y_train); # Modell fitten - Trainingsmenge"
   ]
  },
  {
   "cell_type": "markdown",
   "id": "mounted-river",
   "metadata": {},
   "source": [
    "jetzt kann man sich die Wahrscheinlichkeiten für y=0 und y=1 ausgeben lassen. Dazu benutzt man die Funktion predict_proba\n",
    "\n",
    "man bekommt ein array mit den Zugehörigkeitswahrscheinlichkeiten beider Klassen.  \n",
    "Im einfachsten Fall gilt:  \n",
    "$P(Y=1)=1-P(Y=0)$"
   ]
  },
  {
   "cell_type": "code",
   "execution_count": 14,
   "id": "according-brazil",
   "metadata": {},
   "outputs": [],
   "source": [
    "yhat_tr_pr=logistic_reg.predict_proba(X_train1)[:,1]\n",
    "yhat_test_pr=logistic_reg.predict_proba(X_test1)[:,1]\n",
    "yhat_tr_pr;\n"
   ]
  },
  {
   "cell_type": "markdown",
   "id": "sustainable-france",
   "metadata": {},
   "source": [
    "die tatsächlich Klasse müßte man sich dann mit dem entsprechenden threshold ausrechnen. Das geht \"per hand\" oder eben direkt mit predict"
   ]
  },
  {
   "cell_type": "code",
   "execution_count": 15,
   "id": "ranging-funeral",
   "metadata": {},
   "outputs": [],
   "source": [
    "yhat_tr=logistic_reg.predict(X_train1) # Predictions Training\n",
    "yhat_test=logistic_reg.predict(X_test1) # Predicitions Test"
   ]
  },
  {
   "cell_type": "markdown",
   "id": "cardiac-magic",
   "metadata": {},
   "source": [
    "Die Trefferquote ist ein mögliches Maß für die Güte des Klassifikationsmodelles:"
   ]
  },
  {
   "cell_type": "code",
   "execution_count": 16,
   "id": "interracial-diabetes",
   "metadata": {},
   "outputs": [
    {
     "name": "stdout",
     "output_type": "stream",
     "text": [
      "0.5458333333333333\n",
      "0.5166666666666667\n"
     ]
    }
   ],
   "source": [
    "print(logistic_reg.score(X_train1,y_train)) # Trainingsmenge\n",
    "print(logistic_reg.score(X_test1,y_test)) # Testmenge"
   ]
  },
  {
   "cell_type": "code",
   "execution_count": 42,
   "id": "handmade-debate",
   "metadata": {},
   "outputs": [
    {
     "name": "stdout",
     "output_type": "stream",
     "text": [
      "Confusion matrix:\n",
      " [[117  13]\n",
      " [ 96  14]]\n",
      "Training AUC: 0.5694 \n",
      "Training accuracy: 54.5833 %\n"
     ]
    }
   ],
   "source": [
    "# auch aus der ROC-Curve kriegt man einen score mit Hilfe der AUC\n",
    "# erstmal auf der Trainingsmenge\n",
    "\n",
    "train_accuracy = accuracy_score(y_train, yhat_tr)*100\n",
    "train_auc_roc = roc_auc_score(y_train, yhat_tr_pr)\n",
    "\n",
    "print('Confusion matrix:\\n', confusion_matrix(y_train, yhat_tr))\n",
    "\n",
    "print('Training AUC: %.4f ' % train_auc_roc)\n",
    "\n",
    "print('Training accuracy: %.4f %%' % train_accuracy)"
   ]
  },
  {
   "cell_type": "markdown",
   "id": "unnecessary-intensity",
   "metadata": {},
   "source": [
    "wichtig ist für uns jetzt aber eigentlich der Testfehler bzw. die Test-Accuracy"
   ]
  },
  {
   "cell_type": "code",
   "execution_count": 43,
   "id": "sitting-viewer",
   "metadata": {},
   "outputs": [
    {
     "name": "stdout",
     "output_type": "stream",
     "text": [
      "Confusion matrix:\n",
      " [[27  4]\n",
      " [25  4]]\n",
      "Testing AUC: 0.5478 \n",
      "Testing accuracy: 51.6667 %\n"
     ]
    }
   ],
   "source": [
    "test_accuracy = accuracy_score(y_test, yhat_test)*100\n",
    "test_auc_roc = roc_auc_score(y_test, yhat_test_pr)\n",
    "\n",
    "print('Confusion matrix:\\n', confusion_matrix(y_test, yhat_test))\n",
    "\n",
    "print('Testing AUC: %.4f ' % test_auc_roc)\n",
    "\n",
    "print('Testing accuracy: %.4f %%' % test_accuracy) "
   ]
  },
  {
   "cell_type": "markdown",
   "id": "stable-february",
   "metadata": {},
   "source": [
    "Die AUC ist nicht besonders toll. Optimal wäre 1!\n",
    "0.5 liegt nahe am \"Zufallsmodell\"!\n",
    "Das müßte man auch an der ROC-Curve sehen (nahe an der WH)"
   ]
  },
  {
   "cell_type": "code",
   "execution_count": 49,
   "id": "light-visit",
   "metadata": {},
   "outputs": [
    {
     "data": {
      "image/png": "[encoded data removed]",
      "text/plain": [
       "<Figure size 576x432 with 1 Axes>"
      ]
     },
     "metadata": {
      "needs_background": "light"
     },
     "output_type": "display_data"
    }
   ],
   "source": [
    "# Predict probabilities for the positive class\n",
    "y_probs = logistic_reg.predict_proba(X_test1)[:, 1]\n",
    "\n",
    "# Compute ROC curve and AUC\n",
    "fpr, tpr, thresholds = roc_curve(y_test, y_probs)\n",
    "roc_auc = auc(fpr, tpr)\n",
    "\n",
    "# Plot ROC curve\n",
    "plt.figure(figsize=(8, 6));\n",
    "plt.plot(fpr, tpr, color='darkorange', lw=2, label='ROC curve (AUC = {:.2f})'.format(roc_auc))\n",
    "plt.plot([0, 1], [0, 1], color='navy', lw=2, linestyle='--', label='Random')\n",
    "plt.xlabel('False Positive Rate')\n",
    "plt.ylabel('True Positive Rate')\n",
    "plt.title('ROC Curve')\n",
    "plt.legend(loc='lower right');"
   ]
  },
  {
   "cell_type": "markdown",
   "id": "creative-appointment",
   "metadata": {},
   "source": [
    "Es gibt auch die Möglichkeit sich alle Performance-Maße in einem Report anzeigen zu lassen:"
   ]
  },
  {
   "cell_type": "code",
   "execution_count": 19,
   "id": "hydraulic-ranking",
   "metadata": {},
   "outputs": [
    {
     "name": "stdout",
     "output_type": "stream",
     "text": [
      "              precision    recall  f1-score   support\n",
      "\n",
      "           0     0.5192    0.8710    0.6506        31\n",
      "           1     0.5000    0.1379    0.2162        29\n",
      "\n",
      "    accuracy                         0.5167        60\n",
      "   macro avg     0.5096    0.5044    0.4334        60\n",
      "weighted avg     0.5099    0.5167    0.4406        60\n",
      "\n"
     ]
    }
   ],
   "source": [
    "print(classification_report(y_test, yhat_test, digits=4))"
   ]
  },
  {
   "cell_type": "markdown",
   "id": "decent-failure",
   "metadata": {},
   "source": [
    "### Aufgabe 1)\n",
    "\n",
    "Die Qualität der Klassifikation mit nur einer erklärenden Größe läßt zu wünschen übrig!\n",
    "\n",
    "Vielleicht verbessert sich das Ganze, wenn man die 2 anderen Variablen noch im Input berücksichtigt?\n",
    "\n",
    "- Erweitern Sie das Klassifikationsmodell um die Größen 'Age' und 'Sex'\n",
    "- Werten Sie für den Vergleich mit dem ersten, einfachen Modell geeignete Performance-Maße aus\n",
    "- Momentan werden 80% der Daten zum Training und der Rest für den Test verwendet. Variieren Sie den Anteil der Testdaten zwischen 5 und 50 % und lassen sie sich den Trainings- und den Testfehler ausgeben.\n",
    "- Stellen Sie das Ergebnis in einer Graphik dar (Anteil test: x-Achse, Train-Test Accuracy: y-Achse)"
   ]
  },
  {
   "cell_type": "markdown",
   "id": "centered-russia",
   "metadata": {},
   "source": [
    "## 4.2) Klassifikation mit Hilfe der LDA"
   ]
  },
  {
   "cell_type": "markdown",
   "id": "artificial-spice",
   "metadata": {},
   "source": [
    "In der Vorlesung wurde die lineare Diskriminanzanalyse für die Klassifikation vorgestellt.\n",
    "Damit lassen sich auch Aufgaben mit mehreren Ausprägungen der Zielgröße sehr gut bearbeiten."
   ]
  },
  {
   "cell_type": "markdown",
   "id": "union-assistant",
   "metadata": {},
   "source": [
    "Datensatz: Klassifikation von Früchten"
   ]
  },
  {
   "cell_type": "code",
   "execution_count": 20,
   "id": "separated-judges",
   "metadata": {},
   "outputs": [
    {
     "data": {
      "text/html": [
       "<div>\n",
       "<style scoped>\n",
       "    .dataframe tbody tr th:only-of-type {\n",
       "        vertical-align: middle;\n",
       "    }\n",
       "\n",
       "    .dataframe tbody tr th {\n",
       "        vertical-align: top;\n",
       "    }\n",
       "\n",
       "    .dataframe thead th {\n",
       "        text-align: right;\n",
       "    }\n",
       "</style>\n",
       "<table border=\"1\" class=\"dataframe\">\n",
       "  <thead>\n",
       "    <tr style=\"text-align: right;\">\n",
       "      <th></th>\n",
       "      <th>fruit_label</th>\n",
       "      <th>fruit_name</th>\n",
       "      <th>fruit_subtype</th>\n",
       "      <th>mass</th>\n",
       "      <th>width</th>\n",
       "      <th>height</th>\n",
       "      <th>color_score</th>\n",
       "    </tr>\n",
       "  </thead>\n",
       "  <tbody>\n",
       "    <tr>\n",
       "      <th>0</th>\n",
       "      <td>1</td>\n",
       "      <td>apple</td>\n",
       "      <td>granny_smith</td>\n",
       "      <td>192</td>\n",
       "      <td>8.4</td>\n",
       "      <td>7.3</td>\n",
       "      <td>0.55</td>\n",
       "    </tr>\n",
       "    <tr>\n",
       "      <th>1</th>\n",
       "      <td>1</td>\n",
       "      <td>apple</td>\n",
       "      <td>granny_smith</td>\n",
       "      <td>180</td>\n",
       "      <td>8.0</td>\n",
       "      <td>6.8</td>\n",
       "      <td>0.59</td>\n",
       "    </tr>\n",
       "    <tr>\n",
       "      <th>2</th>\n",
       "      <td>1</td>\n",
       "      <td>apple</td>\n",
       "      <td>granny_smith</td>\n",
       "      <td>176</td>\n",
       "      <td>7.4</td>\n",
       "      <td>7.2</td>\n",
       "      <td>0.60</td>\n",
       "    </tr>\n",
       "    <tr>\n",
       "      <th>3</th>\n",
       "      <td>2</td>\n",
       "      <td>mandarin</td>\n",
       "      <td>mandarin</td>\n",
       "      <td>86</td>\n",
       "      <td>6.2</td>\n",
       "      <td>4.7</td>\n",
       "      <td>0.80</td>\n",
       "    </tr>\n",
       "    <tr>\n",
       "      <th>4</th>\n",
       "      <td>2</td>\n",
       "      <td>mandarin</td>\n",
       "      <td>mandarin</td>\n",
       "      <td>84</td>\n",
       "      <td>6.0</td>\n",
       "      <td>4.6</td>\n",
       "      <td>0.79</td>\n",
       "    </tr>\n",
       "  </tbody>\n",
       "</table>\n",
       "</div>"
      ],
      "text/plain": [
       "   fruit_label fruit_name fruit_subtype  mass  width  height  color_score\n",
       "0            1      apple  granny_smith   192    8.4     7.3         0.55\n",
       "1            1      apple  granny_smith   180    8.0     6.8         0.59\n",
       "2            1      apple  granny_smith   176    7.4     7.2         0.60\n",
       "3            2   mandarin      mandarin    86    6.2     4.7         0.80\n",
       "4            2   mandarin      mandarin    84    6.0     4.6         0.79"
      ]
     },
     "execution_count": 20,
     "metadata": {},
     "output_type": "execute_result"
    }
   ],
   "source": [
    "Fruits = pd.read_csv(\"../Daten/Fruits.csv\")\n",
    "len(Fruits)\n",
    "Fruits.head()\n"
   ]
  },
  {
   "cell_type": "code",
   "execution_count": 21,
   "id": "sharp-event",
   "metadata": {},
   "outputs": [
    {
     "name": "stdout",
     "output_type": "stream",
     "text": [
      "['apple' 'mandarin' 'orange' 'lemon']\n"
     ]
    }
   ],
   "source": [
    "print(Fruits['fruit_name'].unique())"
   ]
  },
  {
   "cell_type": "code",
   "execution_count": 22,
   "id": "explicit-latino",
   "metadata": {},
   "outputs": [
    {
     "name": "stdout",
     "output_type": "stream",
     "text": [
      "fruit_name\n",
      "apple       19\n",
      "lemon       16\n",
      "mandarin     5\n",
      "orange      19\n",
      "dtype: int64\n"
     ]
    }
   ],
   "source": [
    "print(Fruits.groupby('fruit_name').size())"
   ]
  },
  {
   "cell_type": "code",
   "execution_count": 44,
   "id": "fewer-terror",
   "metadata": {},
   "outputs": [
    {
     "data": {
      "image/png": "[encoded data removed]",
      "text/plain": [
       "<Figure size 432x288 with 1 Axes>"
      ]
     },
     "metadata": {
      "needs_background": "light"
     },
     "output_type": "display_data"
    }
   ],
   "source": [
    "\n",
    "sns.countplot(x='fruit_name', data=Fruits, label=\"Count\");\n"
   ]
  },
  {
   "cell_type": "code",
   "execution_count": 24,
   "id": "modern-arthritis",
   "metadata": {},
   "outputs": [
    {
     "data": {
      "image/png": "[encoded data removed]",
      "text/plain": [
       "<Figure size 648x648 with 16 Axes>"
      ]
     },
     "metadata": {
      "needs_background": "light"
     },
     "output_type": "display_data"
    }
   ],
   "source": [
    "\n",
    "feature_names = ['mass', 'width', 'height', 'color_score']\n",
    "X = Fruits[feature_names]\n",
    "y = Fruits['fruit_label']\n",
    "\n",
    "scatter = pd.plotting.scatter_matrix(X, c = y, marker = 'o', s=40, hist_kwds={'bins':15}, figsize=(9,9))\n",
    "plt.suptitle('Scatter-matrix der Inputs nach Klassen')\n",
    "plt.savefig('Fruits_scatter_matrix.pdf')"
   ]
  },
  {
   "cell_type": "markdown",
   "id": "known-december",
   "metadata": {},
   "source": [
    "\n",
    "Jetzt teilen wir die Daten in Trainings- und Testmenge auf und bringen die Wertebereiche der unterschiedlichen Größen mit Hilfe einer Skalierung in Übereinstimmung. Das macht die Schätzung der Parameter in den verschiedenen Modellen wesentlich stabiler.\n",
    "\n",
    "Man kann dazu z.B. einen\n",
    "\n",
    "MinMaxScaler\n",
    "\n",
    "verwenden. Dabei wird wie folgt skaliert:\n",
    "\n",
    "X_std = (X - X.min(axis=0)) / (X.max(axis=0) - X.min(axis=0))\n",
    "X_scaled = X_std * (max - min) + min\n",
    "\n",
    "Damit liegen die Werte der $X_i, (i=1,...,p)$ nachher alle zwischen 0 und 1. "
   ]
  },
  {
   "cell_type": "code",
   "execution_count": 25,
   "id": "visible-jonathan",
   "metadata": {},
   "outputs": [
    {
     "data": {
      "text/plain": [
       "array([[ 0.3129771 ,  0.53125   ,  0.46666667,  0.70588235],\n",
       "       [ 1.07633588,  1.1875    ,  0.81666667,  0.44117647],\n",
       "       [ 0.30534351,  0.375     ,  0.51666667,  0.64705882],\n",
       "       [ 0.27480916,  0.21875   ,  0.7       ,  0.38235294],\n",
       "       [-0.01526718,  0.        , -0.05      ,  0.64705882],\n",
       "       [ 0.42748092,  0.8125    ,  0.5       , -0.11764706],\n",
       "       [ 0.28244275,  0.4375    ,  0.48333333,  0.67647059],\n",
       "       [ 1.05343511,  1.0625    ,  0.81666667,  0.47058824],\n",
       "       [ 0.01526718,  0.0625    ,  0.05      ,  0.58823529],\n",
       "       [ 0.34351145,  0.5625    ,  0.6       ,  0.85294118],\n",
       "       [ 0.30534351,  0.53125   ,  0.53333333,  0.79411765],\n",
       "       [ 0.45801527,  0.46875   ,  1.03333333,  0.38235294]])"
      ]
     },
     "execution_count": 25,
     "metadata": {},
     "output_type": "execute_result"
    }
   ],
   "source": [
    "InputsF = Fruits[feature_names]\n",
    "TargetF = Fruits['fruit_label']\n",
    "\n",
    "XF_train, XF_test, yF_train, yF_test = train_test_split(InputsF, TargetF, test_size=0.2, shuffle=True)\n",
    "\n",
    "from sklearn.preprocessing import MinMaxScaler\n",
    "\n",
    "scaler = MinMaxScaler()\n",
    "XF_train = scaler.fit_transform(XF_train)\n",
    "XF_test = scaler.transform(XF_test)\n",
    "\n",
    "XF_test"
   ]
  },
  {
   "cell_type": "markdown",
   "id": "cross-insulation",
   "metadata": {},
   "source": [
    "Als Vergleich verwenden wir die logistische Regression (einfachstes Modell):"
   ]
  },
  {
   "cell_type": "code",
   "execution_count": 26,
   "id": "executed-reaction",
   "metadata": {},
   "outputs": [
    {
     "name": "stdout",
     "output_type": "stream",
     "text": [
      "Accuracy of Logistic regression classifier on training set: 0.66\n",
      "Accuracy of Logistic regression classifier on test set: 0.58\n"
     ]
    }
   ],
   "source": [
    "from sklearn.linear_model import LogisticRegression\n",
    "\n",
    "logreg = LogisticRegression()\n",
    "logreg.fit(XF_train, yF_train)\n",
    "print('Accuracy of Logistic regression classifier on training set: {:.2f}'\n",
    "     .format(logreg.score(XF_train, yF_train)))\n",
    "print('Accuracy of Logistic regression classifier on test set: {:.2f}'\n",
    "     .format(logreg.score(XF_test, yF_test)))"
   ]
  },
  {
   "cell_type": "markdown",
   "id": "global-crack",
   "metadata": {},
   "source": [
    "Das ist natürlich nicht der Hit. Man kann vermuten, daß die lineare Diskriminanzanalyse ein besseres Ergebnis liefert.\n",
    "Zur Erinnerung: die Mittelwerte werden auf den einzelnen Klassen separat ausgewertet, die Varianzen werden als gleich angenommen.\n",
    "Wir haben lineare Entscheidungsgrenzen zwischen den Gruppen (im Gegensatz zur quadratischen Diskriminanzanalyse bei der es nicht-lineare Entscheidungsgrenzen gibt)."
   ]
  },
  {
   "cell_type": "markdown",
   "id": "biological-treasure",
   "metadata": {},
   "source": [
    "In sklearn sind beide Methoden implementiert."
   ]
  },
  {
   "cell_type": "markdown",
   "id": "floppy-concentrate",
   "metadata": {},
   "source": [
    "## Lineare Diskriminanzanalyse"
   ]
  },
  {
   "cell_type": "code",
   "execution_count": 27,
   "id": "essential-clause",
   "metadata": {},
   "outputs": [
    {
     "data": {
      "text/plain": [
       "array([3, 3, 2, 1, 1, 1, 4, 3, 4, 1, 1, 3, 1, 3, 1, 1, 1, 3, 1, 1, 4, 4,\n",
       "       2, 1, 2, 1, 3, 3, 4, 1, 1, 3, 3, 4, 4, 3, 4, 3, 3, 4, 4, 1, 4, 4,\n",
       "       4, 3, 4])"
      ]
     },
     "execution_count": 27,
     "metadata": {},
     "output_type": "execute_result"
    }
   ],
   "source": [
    "from sklearn.discriminant_analysis import LinearDiscriminantAnalysis as LDA\n",
    "\n",
    "# Modell definieren und fitten (Trainingsmenge)\n",
    "lda = LDA()\n",
    "lda.fit(XF_train, yF_train)\n",
    "\n",
    "# Predicition für die Trainings- und Testmenge\n",
    "yhat_tr_lda=lda.predict(XF_train)\n",
    "yhat_test_lda=lda.predict(XF_test)\n",
    "\n",
    "# Prognose Training\n",
    "yhat_tr_lda"
   ]
  },
  {
   "cell_type": "code",
   "execution_count": 28,
   "id": "faced-argentina",
   "metadata": {},
   "outputs": [
    {
     "name": "stdout",
     "output_type": "stream",
     "text": [
      "0.851063829787234\n",
      "0.8333333333333334\n"
     ]
    }
   ],
   "source": [
    "# Accuracy auf der Trainings- und Testmenge\n",
    "\n",
    "print(lda.score(XF_train, yF_train))\n",
    "print(lda.score(XF_test, yF_test))"
   ]
  },
  {
   "cell_type": "code",
   "execution_count": 29,
   "id": "vital-battle",
   "metadata": {},
   "outputs": [
    {
     "name": "stdout",
     "output_type": "stream",
     "text": [
      "Confusion matrix (Train):\n",
      " [[12  0  4  0]\n",
      " [ 0  3  0  0]\n",
      " [ 3  0 11  0]\n",
      " [ 0  0  0 14]]\n",
      "Confusion matrix (Test):\n",
      " [[4 0 2 0]\n",
      " [0 2 0 0]\n",
      " [0 0 2 0]\n",
      " [0 0 0 2]]\n"
     ]
    }
   ],
   "source": [
    "# Confusion Matrix für den besseren Überblick\n",
    "\n",
    "print('Confusion matrix (Train):\\n', confusion_matrix(yhat_tr_lda, yF_train))\n",
    "print('Confusion matrix (Test):\\n', confusion_matrix(yhat_test_lda, yF_test))"
   ]
  },
  {
   "cell_type": "code",
   "execution_count": 30,
   "id": "scheduled-going",
   "metadata": {},
   "outputs": [
    {
     "name": "stdout",
     "output_type": "stream",
     "text": [
      "              precision    recall  f1-score   support\n",
      "\n",
      "           1     1.0000    0.6667    0.8000         6\n",
      "           2     1.0000    1.0000    1.0000         2\n",
      "           3     0.5000    1.0000    0.6667         2\n",
      "           4     1.0000    1.0000    1.0000         2\n",
      "\n",
      "    accuracy                         0.8333        12\n",
      "   macro avg     0.8750    0.9167    0.8667        12\n",
      "weighted avg     0.9167    0.8333    0.8444        12\n",
      "\n"
     ]
    }
   ],
   "source": [
    "print(classification_report(yhat_test_lda, yF_test, digits=4))"
   ]
  },
  {
   "cell_type": "markdown",
   "id": "premier-swiss",
   "metadata": {},
   "source": [
    "### Aufgabe 2)\n",
    "\n",
    "Wir haben für den ersten Versuch einfach mal alle Features ins Modell gesteckt.\n",
    "\n",
    "- Untersuchen Sie, ob wir Kollinearität innerhalb der erklärenden Größen haben\n",
    "- Nehmen Sie nur Größen ins Modell, die nicht zu sehr korrelieren\n",
    "- Verbessert sich das Klassifikationsergebnis?"
   ]
  },
  {
   "cell_type": "markdown",
   "id": "amino-sending",
   "metadata": {},
   "source": [
    "## Quadratische Diskriminanzanalyse"
   ]
  },
  {
   "cell_type": "code",
   "execution_count": 31,
   "id": "powerful-belief",
   "metadata": {},
   "outputs": [],
   "source": [
    "from sklearn.discriminant_analysis import QuadraticDiscriminantAnalysis as QDA"
   ]
  },
  {
   "cell_type": "code",
   "execution_count": 32,
   "id": "improving-defeat",
   "metadata": {},
   "outputs": [
    {
     "name": "stderr",
     "output_type": "stream",
     "text": [
      "/Library/Frameworks/Python.framework/Versions/3.8/lib/python3.8/site-packages/sklearn/discriminant_analysis.py:808: UserWarning: Variables are collinear\n",
      "  warnings.warn(\"Variables are collinear\")\n"
     ]
    },
    {
     "data": {
      "text/plain": [
       "array([3, 1, 2, 3, 1, 1, 4, 3, 4, 1, 1, 3, 1, 3, 1, 1, 1, 1, 1, 1, 4, 4,\n",
       "       2, 1, 2, 3, 3, 3, 4, 1, 1, 3, 1, 4, 4, 3, 4, 3, 3, 4, 4, 1, 4, 4,\n",
       "       4, 3, 4])"
      ]
     },
     "execution_count": 32,
     "metadata": {},
     "output_type": "execute_result"
    }
   ],
   "source": [
    "# Modell definieren und fitten (Trainingsmenge)\n",
    "qda = QDA()\n",
    "qda.fit(XF_train, yF_train)\n",
    "\n",
    "# Predicition für die Trainings- und Testmenge\n",
    "yhat_tr_qda=qda.predict(XF_train)\n",
    "yhat_test_qda=qda.predict(XF_test)\n",
    "\n",
    "# Prognose Training\n",
    "yhat_tr_qda"
   ]
  },
  {
   "cell_type": "markdown",
   "id": "proud-christianity",
   "metadata": {},
   "source": [
    "Die Kollinearität von Input-Features macht das Fitten des Modelles instabil.\n",
    "Daher gibt es auch die Warning.\n",
    "Wir müßten uns also nachher sinnvollerweise darum kümmern nur Features als Input zu verwenden, die nicht zu stark korreliert sind.\n",
    "Das machen wir dann später...\n",
    "\n",
    "Erstmal verwenden wir das Modell wie es ist und werten aus:"
   ]
  },
  {
   "cell_type": "code",
   "execution_count": 33,
   "id": "floating-sequence",
   "metadata": {},
   "outputs": [
    {
     "name": "stdout",
     "output_type": "stream",
     "text": [
      "0.9574468085106383\n",
      "0.6666666666666666\n"
     ]
    }
   ],
   "source": [
    "# Accuracy auf der Trainings- und Testmenge\n",
    "\n",
    "print(qda.score(XF_train, yF_train))\n",
    "print(qda.score(XF_test, yF_test))"
   ]
  },
  {
   "cell_type": "code",
   "execution_count": 34,
   "id": "promotional-kruger",
   "metadata": {},
   "outputs": [
    {
     "name": "stdout",
     "output_type": "stream",
     "text": [
      "Confusion matrix (Train):\n",
      " [[15  0  2  0]\n",
      " [ 0  3  0  0]\n",
      " [ 0  0 13  0]\n",
      " [ 0  0  0 14]]\n",
      "Confusion matrix (Test):\n",
      " [[4 0 2 0]\n",
      " [0 0 0 0]\n",
      " [0 2 2 0]\n",
      " [0 0 0 2]]\n"
     ]
    }
   ],
   "source": [
    "# Confusion Matrix für den besseren Überblick\n",
    "\n",
    "print('Confusion matrix (Train):\\n', confusion_matrix(yhat_tr_qda, yF_train))\n",
    "print('Confusion matrix (Test):\\n', confusion_matrix(yhat_test_qda, yF_test))"
   ]
  },
  {
   "cell_type": "markdown",
   "id": "organizational-forum",
   "metadata": {},
   "source": [
    "es gibt eine Klasse für die im Training kein Beispiel richtig gelandet ist, nämlich die Klasse mit dem Label 2.\n",
    "Das macht beim Auswerten natürlich ein bißchen Ärger (teilen durch 0!).\n",
    "Die Confusion Matrix verrät uns aber woher das Problem kommt..."
   ]
  },
  {
   "cell_type": "code",
   "execution_count": 35,
   "id": "correct-specification",
   "metadata": {},
   "outputs": [
    {
     "name": "stdout",
     "output_type": "stream",
     "text": [
      "              precision    recall  f1-score   support\n",
      "\n",
      "           1     1.0000    0.6667    0.8000         6\n",
      "           2     0.0000    0.0000    0.0000         0\n",
      "           3     0.5000    0.5000    0.5000         4\n",
      "           4     1.0000    1.0000    1.0000         2\n",
      "\n",
      "    accuracy                         0.6667        12\n",
      "   macro avg     0.6250    0.5417    0.5750        12\n",
      "weighted avg     0.8333    0.6667    0.7333        12\n",
      "\n"
     ]
    },
    {
     "name": "stderr",
     "output_type": "stream",
     "text": [
      "/Library/Frameworks/Python.framework/Versions/3.8/lib/python3.8/site-packages/sklearn/metrics/_classification.py:1245: UndefinedMetricWarning: Recall and F-score are ill-defined and being set to 0.0 in labels with no true samples. Use `zero_division` parameter to control this behavior.\n",
      "  _warn_prf(average, modifier, msg_start, len(result))\n",
      "/Library/Frameworks/Python.framework/Versions/3.8/lib/python3.8/site-packages/sklearn/metrics/_classification.py:1245: UndefinedMetricWarning: Recall and F-score are ill-defined and being set to 0.0 in labels with no true samples. Use `zero_division` parameter to control this behavior.\n",
      "  _warn_prf(average, modifier, msg_start, len(result))\n",
      "/Library/Frameworks/Python.framework/Versions/3.8/lib/python3.8/site-packages/sklearn/metrics/_classification.py:1245: UndefinedMetricWarning: Recall and F-score are ill-defined and being set to 0.0 in labels with no true samples. Use `zero_division` parameter to control this behavior.\n",
      "  _warn_prf(average, modifier, msg_start, len(result))\n"
     ]
    }
   ],
   "source": [
    "print(classification_report(yhat_test_qda, yF_test, digits=4))"
   ]
  },
  {
   "cell_type": "markdown",
   "id": "identical-journey",
   "metadata": {},
   "source": [
    "### Aufgabe 3)\n",
    "\n",
    "- Nehmen Sie nur Größen ins Modell, die nicht zu sehr korrelieren\n",
    "- Verändern Sie die Auswahl der zum Training und Test verwendeten Daten-Samples. Variieren Sie die Größe der Testmenge zwischen 10% und 50% \n",
    "- Wie stabil ist das Ergebnis?"
   ]
  },
  {
   "cell_type": "markdown",
   "id": "through-treat",
   "metadata": {},
   "source": [
    "## KNN (K-Nearest Neighbor) Klassifikation"
   ]
  },
  {
   "cell_type": "markdown",
   "id": "hispanic-infection",
   "metadata": {},
   "source": [
    "Eine weitere Möglichkeit zur Klassifikation, die aber nicht im eigentlichen Sinn über ein Modell erfolgt ist der KNN-Algorithmus.\n",
    "\n",
    "Dabei werden zwei Annahmen aufgestellt:\n",
    "\n",
    "- näher beieinanderliegende Punkte sind ähnlich und gehören zur gleichen Klasse\n",
    "- die Ähnlichkeit läßt sich durch eine sinnvolle Metrik (z.B. euklid. Abstand) messen\n",
    "\n",
    "Die Vorhersage der Klasse für einen Punkt hängt dann nur von der Klasse der allernächsten Nachbarn ab!\n",
    "\n",
    "Als Metaparameter muß man die Anzahl der zu untersuchenden nächsten Nachbarn festlegen, die dann auf Basis einer \"Mehrheitsentscheidung\" die Klasse für einen neuen Punkt festlegen.\n",
    "Es ist auch möglich die umgebenden Punkte bei der Entscheidung gewichtet einfließen zu lassen.\n",
    "\n",
    "Option\n",
    "\n",
    "weights = 'uniform' # alle Punkte werden gleich gewichtet  \n",
    "weights = 'distance' # Gewichtung mit dem Abstand\n",
    "\n",
    "Mal ein Test mit der KNN-Funktion von sklearn..."
   ]
  },
  {
   "cell_type": "code",
   "execution_count": 36,
   "id": "provincial-coordinate",
   "metadata": {},
   "outputs": [],
   "source": [
    "from sklearn import neighbors\n"
   ]
  },
  {
   "cell_type": "code",
   "execution_count": 37,
   "id": "ultimate-overview",
   "metadata": {},
   "outputs": [],
   "source": [
    "n_neighbors = 15 # Anzahl der berücksichtigten Punkte in einer Nachbarschaft\n",
    "\n",
    "knnclf = neighbors.KNeighborsClassifier(n_neighbors, weights='uniform');\n",
    "knnclf.fit(XF_train, yF_train);"
   ]
  },
  {
   "cell_type": "code",
   "execution_count": 38,
   "id": "therapeutic-witch",
   "metadata": {},
   "outputs": [
    {
     "data": {
      "text/plain": [
       "array([3, 1, 4, 3, 1, 1, 3, 3, 4, 3, 3, 3, 3, 3, 1, 3, 1, 1, 3, 1, 3, 3,\n",
       "       3, 3, 3, 3, 3, 3, 4, 1, 1, 3, 3, 4, 4, 3, 4, 3, 3, 3, 4, 3, 4, 4,\n",
       "       3, 3, 4])"
      ]
     },
     "execution_count": 38,
     "metadata": {},
     "output_type": "execute_result"
    }
   ],
   "source": [
    "# Predicition für die Trainings- und Testmenge\n",
    "yhat_tr_knn=knnclf.predict(XF_train)\n",
    "yhat_test_knn=knnclf.predict(XF_test)\n",
    "\n",
    "# Prognose Training\n",
    "yhat_tr_knn"
   ]
  },
  {
   "cell_type": "code",
   "execution_count": 39,
   "id": "composed-cradle",
   "metadata": {},
   "outputs": [
    {
     "name": "stdout",
     "output_type": "stream",
     "text": [
      "0.7021276595744681\n",
      "0.6666666666666666\n"
     ]
    }
   ],
   "source": [
    "# Accuracy auf der Trainings- und Testmenge\n",
    "\n",
    "print(knnclf.score(XF_train, yF_train))\n",
    "print(knnclf.score(XF_test, yF_test))"
   ]
  },
  {
   "cell_type": "code",
   "execution_count": 40,
   "id": "smooth-hearts",
   "metadata": {},
   "outputs": [
    {
     "name": "stdout",
     "output_type": "stream",
     "text": [
      "Confusion matrix (Train):\n",
      " [[ 9  0  0  0]\n",
      " [ 0  0  0  0]\n",
      " [ 6  2 15  5]\n",
      " [ 0  1  0  9]]\n",
      "Confusion matrix (Test):\n",
      " [[3 0 0 0]\n",
      " [0 0 0 0]\n",
      " [1 2 4 1]\n",
      " [0 0 0 1]]\n"
     ]
    }
   ],
   "source": [
    "# Confusion Matrix für den besseren Überblick\n",
    "\n",
    "print('Confusion matrix (Train):\\n', confusion_matrix(yhat_tr_knn, yF_train))\n",
    "print('Confusion matrix (Test):\\n', confusion_matrix(yhat_test_knn, yF_test))"
   ]
  },
  {
   "cell_type": "code",
   "execution_count": 41,
   "id": "solid-retreat",
   "metadata": {},
   "outputs": [
    {
     "name": "stdout",
     "output_type": "stream",
     "text": [
      "              precision    recall  f1-score   support\n",
      "\n",
      "           1     0.7500    1.0000    0.8571         3\n",
      "           2     0.0000    0.0000    0.0000         0\n",
      "           3     1.0000    0.5000    0.6667         8\n",
      "           4     0.5000    1.0000    0.6667         1\n",
      "\n",
      "    accuracy                         0.6667        12\n",
      "   macro avg     0.5625    0.6250    0.5476        12\n",
      "weighted avg     0.8958    0.6667    0.7143        12\n",
      "\n"
     ]
    },
    {
     "name": "stderr",
     "output_type": "stream",
     "text": [
      "/Library/Frameworks/Python.framework/Versions/3.8/lib/python3.8/site-packages/sklearn/metrics/_classification.py:1245: UndefinedMetricWarning: Recall and F-score are ill-defined and being set to 0.0 in labels with no true samples. Use `zero_division` parameter to control this behavior.\n",
      "  _warn_prf(average, modifier, msg_start, len(result))\n",
      "/Library/Frameworks/Python.framework/Versions/3.8/lib/python3.8/site-packages/sklearn/metrics/_classification.py:1245: UndefinedMetricWarning: Recall and F-score are ill-defined and being set to 0.0 in labels with no true samples. Use `zero_division` parameter to control this behavior.\n",
      "  _warn_prf(average, modifier, msg_start, len(result))\n",
      "/Library/Frameworks/Python.framework/Versions/3.8/lib/python3.8/site-packages/sklearn/metrics/_classification.py:1245: UndefinedMetricWarning: Recall and F-score are ill-defined and being set to 0.0 in labels with no true samples. Use `zero_division` parameter to control this behavior.\n",
      "  _warn_prf(average, modifier, msg_start, len(result))\n"
     ]
    }
   ],
   "source": [
    "print(classification_report(yhat_test_knn, yF_test, digits=4))"
   ]
  },
  {
   "cell_type": "markdown",
   "id": "structured-sheffield",
   "metadata": {},
   "source": [
    "## Aufgabe 4)\n",
    "\n",
    "Im Beispiel war die Gewichtung der Nachbarn bei der Entscheidung für alle gleich.\n",
    "\n",
    "- Setzen Sie eine Abstandsgewichtung bei der Entscheidung ein. Verbessert sich das Ergebnis?\n",
    "\n",
    "Für die Nachbarschaft wurden jeweils 15 Punkte berücksichtigt.\n",
    "\n",
    "- Variieren Sie den Metaparameter 'n_neighbors' von 1 bis maximal und fertigen Sie eine Graphik an, die auf der x-Achse die Anzahl der Nachbarn und auf der y-Achse Trainings- und Test-Score darstellt. \n",
    "- Interpretieren Sie das Ergebnis."
   ]
  }
 ],
 "metadata": {
  "kernelspec": {
   "display_name": "Python 3",
   "language": "python",
   "name": "python3"
  },
  "language_info": {
   "codemirror_mode": {
    "name": "ipython",
    "version": 3
   },
   "file_extension": ".py",
   "mimetype": "text/x-python",
   "name": "python",
   "nbconvert_exporter": "python",
   "pygments_lexer": "ipython3",
   "version": "3.8.7"
  }
 },
 "nbformat": 4,
 "nbformat_minor": 5
}
